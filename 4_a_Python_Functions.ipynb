{
  "nbformat": 4,
  "nbformat_minor": 0,
  "metadata": {
    "colab": {
      "provenance": [],
      "authorship_tag": "ABX9TyP7CO/lcvqWkKiE+mJzeNto",
      "include_colab_link": true
    },
    "kernelspec": {
      "name": "python3",
      "display_name": "Python 3"
    },
    "language_info": {
      "name": "python"
    }
  },
  "cells": [
    {
      "cell_type": "markdown",
      "metadata": {
        "id": "view-in-github",
        "colab_type": "text"
      },
      "source": [
        "<a href=\"https://colab.research.google.com/github/kamilakhtar015/PythonMastery/blob/main/4_a_Python_Functions.ipynb\" target=\"_parent\"><img src=\"https://colab.research.google.com/assets/colab-badge.svg\" alt=\"Open In Colab\"/></a>"
      ]
    },
    {
      "cell_type": "markdown",
      "source": [
        "### Let's Create a function (with docstring)"
      ],
      "metadata": {
        "id": "6F00PMJslT8j"
      }
    },
    {
      "cell_type": "code",
      "source": [
        "def is_even(num):\n",
        "  \"\"\"\n",
        "  This function returns the given number as even or odd\n",
        "  input -- any integer\n",
        "  output -- odd/even\n",
        "  created on -- Feb 15, 2025\n",
        "\n",
        "  \"\"\"\n",
        "  if type(num) == int:\n",
        "    if num % 2 == 0:\n",
        "      return \"even\"\n",
        "    else:\n",
        "      return \"odd\"\n",
        "\n",
        "  else:\n",
        "    print('Pagal hain kia')\n",
        "\n"
      ],
      "metadata": {
        "id": "IjRSx1K8lal9"
      },
      "execution_count": 2,
      "outputs": []
    },
    {
      "cell_type": "code",
      "source": [
        "#  To access documentation\n",
        "print(is_even.__doc__)"
      ],
      "metadata": {
        "colab": {
          "base_uri": "https://localhost:8080/"
        },
        "id": "uZscaQmUp9Sv",
        "outputId": "35f99183-33ea-4562-b775-e1d12fef99e2"
      },
      "execution_count": 3,
      "outputs": [
        {
          "output_type": "stream",
          "name": "stdout",
          "text": [
            "\n",
            "  This function returns the given number as even or odd\n",
            "  input -- any integer\n",
            "  output -- odd/even\n",
            "  created on -- Feb 15, 2025\n",
            "\n",
            "  \n"
          ]
        }
      ]
    },
    {
      "cell_type": "code",
      "source": [
        "for i in range(1,11):\n",
        "  x = is_even(i)\n",
        "  print(x)"
      ],
      "metadata": {
        "colab": {
          "base_uri": "https://localhost:8080/"
        },
        "id": "FEHytr1cl4FN",
        "outputId": "4c30a0c2-892e-4f8c-e537-a7a4015219b0"
      },
      "execution_count": 4,
      "outputs": [
        {
          "output_type": "stream",
          "name": "stdout",
          "text": [
            "odd\n",
            "even\n",
            "odd\n",
            "even\n",
            "odd\n",
            "even\n",
            "odd\n",
            "even\n",
            "odd\n",
            "even\n"
          ]
        }
      ]
    },
    {
      "cell_type": "markdown",
      "source": [
        "### Parameters vs Arguments\n",
        "\n",
        "Parameters -- when creating a function\n",
        "\n",
        "Arguement -- Calling a function"
      ],
      "metadata": {
        "id": "lYuAZXHOm0uO"
      }
    },
    {
      "cell_type": "code",
      "source": [],
      "metadata": {
        "id": "YJoxiu_9l-DS"
      },
      "execution_count": 4,
      "outputs": []
    },
    {
      "cell_type": "markdown",
      "source": [
        "### Types of Arguments\n",
        "\n",
        "\n",
        "\n",
        "*   Default Argument\n",
        "*   Positional Argument\n",
        "*   Keyword Argument\n",
        "\n",
        "\n",
        "\n"
      ],
      "metadata": {
        "id": "2-MyfoJvm-vf"
      }
    },
    {
      "cell_type": "code",
      "source": [
        "# Defualt Argument\n",
        "\n",
        "def power(a=1, b=2):\n",
        "  return a**b"
      ],
      "metadata": {
        "id": "2VU2OsqEnKSB"
      },
      "execution_count": 5,
      "outputs": []
    },
    {
      "cell_type": "code",
      "source": [
        "print(power(2,3))\n",
        "print(power(2))\n",
        "print(power())"
      ],
      "metadata": {
        "colab": {
          "base_uri": "https://localhost:8080/"
        },
        "id": "pp_SWmUIngbO",
        "outputId": "b9ca2175-717e-4faf-823c-fd45d99411ad"
      },
      "execution_count": 6,
      "outputs": [
        {
          "output_type": "stream",
          "name": "stdout",
          "text": [
            "8\n",
            "4\n",
            "1\n"
          ]
        }
      ]
    },
    {
      "cell_type": "code",
      "source": [
        "# Positional Argument -- order of the argument\n",
        "power(2,3)"
      ],
      "metadata": {
        "colab": {
          "base_uri": "https://localhost:8080/"
        },
        "id": "YRI3vjDAni6R",
        "outputId": "4586f1dc-e49c-47d7-a20d-ab20eefb890d"
      },
      "execution_count": 7,
      "outputs": [
        {
          "output_type": "execute_result",
          "data": {
            "text/plain": [
              "8"
            ]
          },
          "metadata": {},
          "execution_count": 7
        }
      ]
    },
    {
      "cell_type": "code",
      "source": [
        "# Keyword Argument -- you specify the name of the parameter and it will preceed the positional argument\n",
        "power(b=3, a=2)"
      ],
      "metadata": {
        "colab": {
          "base_uri": "https://localhost:8080/"
        },
        "id": "7zZ8h9onnyFt",
        "outputId": "f39d5fec-6e51-49e9-d95b-ada4902ec135"
      },
      "execution_count": 8,
      "outputs": [
        {
          "output_type": "execute_result",
          "data": {
            "text/plain": [
              "8"
            ]
          },
          "metadata": {},
          "execution_count": 8
        }
      ]
    },
    {
      "cell_type": "code",
      "source": [],
      "metadata": {
        "id": "5Bg09ddnoA05"
      },
      "execution_count": 8,
      "outputs": []
    },
    {
      "cell_type": "markdown",
      "source": [
        "### *args vs kwargs"
      ],
      "metadata": {
        "id": "stchHWT4o0c6"
      }
    },
    {
      "cell_type": "code",
      "source": [
        "# *args\n",
        "# allow us to pass variable number of non-keyword arguments to a funtion\n",
        "\n",
        "# * -- is used for variable number of inputs and it will be store inside a tuple\n",
        "\n",
        "def multiply(*args):\n",
        "    product = 1\n",
        "\n",
        "    for i in args:\n",
        "      product = product * i\n",
        "\n",
        "    return product\n"
      ],
      "metadata": {
        "id": "h9LORyO0o5xC"
      },
      "execution_count": 9,
      "outputs": []
    },
    {
      "cell_type": "code",
      "source": [
        "multiply(1,2,3,4,5,6,7)"
      ],
      "metadata": {
        "colab": {
          "base_uri": "https://localhost:8080/"
        },
        "id": "US808japo7vD",
        "outputId": "3592e496-228b-4b5a-bb5e-3877917d5ddc"
      },
      "execution_count": 10,
      "outputs": [
        {
          "output_type": "execute_result",
          "data": {
            "text/plain": [
              "5040"
            ]
          },
          "metadata": {},
          "execution_count": 10
        }
      ]
    },
    {
      "cell_type": "code",
      "source": [
        "# **kwargs\n",
        "# **kwargs allows us to pass any number of keyword arguments.\n",
        "# Keyword arguments mean that they contain a key-value pair, like a Python dictionary.\n",
        "\n",
        "def display(**kwargs):\n",
        "\n",
        "  for (key,value) in kwargs.items():\n",
        "    print(key, '-->', value)"
      ],
      "metadata": {
        "id": "zOSCbpocpQi3"
      },
      "execution_count": 11,
      "outputs": []
    },
    {
      "cell_type": "code",
      "source": [
        "display(india='delhi',srilanka='colombo',nepal='kathmandu',pakistan='Islamabad')"
      ],
      "metadata": {
        "colab": {
          "base_uri": "https://localhost:8080/"
        },
        "id": "tK7wBcf2q2HO",
        "outputId": "f6b52170-dab6-4ffc-89f3-22d3a1b85d9d"
      },
      "execution_count": 12,
      "outputs": [
        {
          "output_type": "stream",
          "name": "stdout",
          "text": [
            "india --> delhi\n",
            "srilanka --> colombo\n",
            "nepal --> kathmandu\n",
            "pakistan --> Islamabad\n"
          ]
        }
      ]
    },
    {
      "cell_type": "markdown",
      "source": [
        "##### Points to remember while using `*args and **kwargs`\n",
        "\n",
        "- order of the arguments matter(normal -> `*args` -> `**kwargs`)\n",
        "- The words “args” and “kwargs” are only a convention, you can use any name of your choice\n"
      ],
      "metadata": {
        "id": "HKeCXBtErMxc"
      }
    },
    {
      "cell_type": "code",
      "source": [],
      "metadata": {
        "id": "hiSB6hwZq8eu"
      },
      "execution_count": 12,
      "outputs": []
    },
    {
      "cell_type": "markdown",
      "source": [
        "### How functions are executed in Memory?"
      ],
      "metadata": {
        "id": "m7z6fa4qrPIe"
      }
    },
    {
      "cell_type": "code",
      "source": [
        "# Life of the function is from its call to return"
      ],
      "metadata": {
        "id": "Zrj-sXC8rSoc"
      },
      "execution_count": 13,
      "outputs": []
    },
    {
      "cell_type": "markdown",
      "source": [
        "### Function without return statement"
      ],
      "metadata": {
        "id": "nQO6mi7bsCnH"
      }
    },
    {
      "cell_type": "code",
      "source": [
        "#  it will return a none\n",
        "\n",
        "L = [1,2,3]\n",
        "print(L.append(4))"
      ],
      "metadata": {
        "colab": {
          "base_uri": "https://localhost:8080/"
        },
        "id": "ZjBLj9pZsGxL",
        "outputId": "98b32e36-8506-473e-c59e-d58f8f2849ba"
      },
      "execution_count": 14,
      "outputs": [
        {
          "output_type": "stream",
          "name": "stdout",
          "text": [
            "None\n"
          ]
        }
      ]
    },
    {
      "cell_type": "code",
      "source": [],
      "metadata": {
        "id": "WxIhRBPfsYzo"
      },
      "execution_count": 14,
      "outputs": []
    },
    {
      "cell_type": "markdown",
      "source": [
        "### Variable Scope"
      ],
      "metadata": {
        "id": "5dY_7pJG1OeJ"
      }
    },
    {
      "cell_type": "code",
      "source": [
        "def g(y):\n",
        "  print(x)\n",
        "  print(x+1)\n",
        "\n",
        "x = 5\n",
        "g(x)\n",
        "print(x)"
      ],
      "metadata": {
        "colab": {
          "base_uri": "https://localhost:8080/"
        },
        "id": "i7-0G2RK1QHu",
        "outputId": "731273e4-6a61-4da6-ee8e-717f0f3b970d"
      },
      "execution_count": 15,
      "outputs": [
        {
          "output_type": "stream",
          "name": "stdout",
          "text": [
            "5\n",
            "6\n",
            "5\n"
          ]
        }
      ]
    },
    {
      "cell_type": "code",
      "source": [
        "def g(y):\n",
        "  x = 1\n",
        "  x += 1\n",
        "  print(x)\n",
        "\n",
        "x = 5\n",
        "g(x)\n",
        "print(x)"
      ],
      "metadata": {
        "colab": {
          "base_uri": "https://localhost:8080/"
        },
        "id": "vfCQsgxd1S_u",
        "outputId": "301adc66-e98d-460a-9aa6-7cc8b4e427f0"
      },
      "execution_count": 16,
      "outputs": [
        {
          "output_type": "stream",
          "name": "stdout",
          "text": [
            "2\n",
            "5\n"
          ]
        }
      ]
    },
    {
      "cell_type": "code",
      "source": [],
      "metadata": {
        "id": "y8X5blQR2wS3"
      },
      "execution_count": null,
      "outputs": []
    }
  ]
}