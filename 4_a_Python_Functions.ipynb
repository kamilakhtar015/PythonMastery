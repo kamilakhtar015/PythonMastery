{
  "nbformat": 4,
  "nbformat_minor": 0,
  "metadata": {
    "colab": {
      "provenance": [],
      "authorship_tag": "ABX9TyPZ0G0toRh0j+KTlA8V4Lq3",
      "include_colab_link": true
    },
    "kernelspec": {
      "name": "python3",
      "display_name": "Python 3"
    },
    "language_info": {
      "name": "python"
    }
  },
  "cells": [
    {
      "cell_type": "markdown",
      "metadata": {
        "id": "view-in-github",
        "colab_type": "text"
      },
      "source": [
        "<a href=\"https://colab.research.google.com/github/kamilakhtar015/PythonMastery/blob/main/4_a_Python_Functions.ipynb\" target=\"_parent\"><img src=\"https://colab.research.google.com/assets/colab-badge.svg\" alt=\"Open In Colab\"/></a>"
      ]
    },
    {
      "cell_type": "markdown",
      "source": [
        "### Let's Create a function (with docstring)"
      ],
      "metadata": {
        "id": "6F00PMJslT8j"
      }
    },
    {
      "cell_type": "code",
      "source": [
        "def is_even(num):\n",
        "  \"\"\"\n",
        "  This function returns the given number as even or odd\n",
        "  input -- any integer\n",
        "  output -- odd/even\n",
        "  created on -- Feb 15, 2025\n",
        "\n",
        "  \"\"\"\n",
        "  if type(num) == int:\n",
        "    if num % 2 == 0:\n",
        "      return \"even\"\n",
        "    else:\n",
        "      return \"odd\"\n",
        "\n",
        "  else:\n",
        "    print('Pagal hain kia')\n",
        "\n"
      ],
      "metadata": {
        "id": "IjRSx1K8lal9"
      },
      "execution_count": 15,
      "outputs": []
    },
    {
      "cell_type": "code",
      "source": [
        "#  To access documentation\n",
        "print(is_even.__doc__)"
      ],
      "metadata": {
        "colab": {
          "base_uri": "https://localhost:8080/"
        },
        "id": "uZscaQmUp9Sv",
        "outputId": "357e0461-4b13-4ebe-dea7-c39196bfb32c"
      },
      "execution_count": 16,
      "outputs": [
        {
          "output_type": "stream",
          "name": "stdout",
          "text": [
            "\n",
            "  This function returns the given number as even or odd\n",
            "  input -- any integer\n",
            "  output -- odd/even\n",
            "  created on -- Feb 15, 2025\n",
            "\n",
            "  \n"
          ]
        }
      ]
    },
    {
      "cell_type": "code",
      "source": [
        "for i in range(1,11):\n",
        "  x = is_even(i)\n",
        "  print(x)"
      ],
      "metadata": {
        "colab": {
          "base_uri": "https://localhost:8080/"
        },
        "id": "FEHytr1cl4FN",
        "outputId": "1902916f-0dd6-4d04-fa80-14e476cd3931"
      },
      "execution_count": 17,
      "outputs": [
        {
          "output_type": "stream",
          "name": "stdout",
          "text": [
            "odd\n",
            "even\n",
            "odd\n",
            "even\n",
            "odd\n",
            "even\n",
            "odd\n",
            "even\n",
            "odd\n",
            "even\n"
          ]
        }
      ]
    },
    {
      "cell_type": "markdown",
      "source": [
        "### Parameters vs Arguments\n",
        "\n",
        "Parameters -- when creating a function\n",
        "\n",
        "Arguement -- Calling a function"
      ],
      "metadata": {
        "id": "lYuAZXHOm0uO"
      }
    },
    {
      "cell_type": "code",
      "source": [],
      "metadata": {
        "id": "YJoxiu_9l-DS"
      },
      "execution_count": 17,
      "outputs": []
    },
    {
      "cell_type": "markdown",
      "source": [
        "### Types of Arguments\n",
        "\n",
        "\n",
        "\n",
        "*   Default Argument\n",
        "*   Positional Argument\n",
        "*   Keyword Argument\n",
        "\n",
        "\n",
        "\n"
      ],
      "metadata": {
        "id": "2-MyfoJvm-vf"
      }
    },
    {
      "cell_type": "code",
      "source": [
        "# Defualt Argument\n",
        "\n",
        "def power(a=1, b=2):\n",
        "  return a**b"
      ],
      "metadata": {
        "id": "2VU2OsqEnKSB"
      },
      "execution_count": 5,
      "outputs": []
    },
    {
      "cell_type": "code",
      "source": [
        "print(power(2,3))\n",
        "print(power(2))\n",
        "print(power())"
      ],
      "metadata": {
        "colab": {
          "base_uri": "https://localhost:8080/"
        },
        "id": "pp_SWmUIngbO",
        "outputId": "ad533f43-a7cf-416d-a8f8-73265a783d5a"
      },
      "execution_count": 7,
      "outputs": [
        {
          "output_type": "stream",
          "name": "stdout",
          "text": [
            "8\n",
            "4\n",
            "1\n"
          ]
        }
      ]
    },
    {
      "cell_type": "code",
      "source": [
        "# Positional Argument -- order of the argument\n",
        "power(2,3)"
      ],
      "metadata": {
        "colab": {
          "base_uri": "https://localhost:8080/"
        },
        "id": "YRI3vjDAni6R",
        "outputId": "ac3f85a7-36d0-4bb3-a928-6f7af7f04108"
      },
      "execution_count": 8,
      "outputs": [
        {
          "output_type": "execute_result",
          "data": {
            "text/plain": [
              "8"
            ]
          },
          "metadata": {},
          "execution_count": 8
        }
      ]
    },
    {
      "cell_type": "code",
      "source": [
        "# Keyword Argument -- you specify the name of the parameter and it will preceed the positional argument\n",
        "power(b=3, a=2)"
      ],
      "metadata": {
        "colab": {
          "base_uri": "https://localhost:8080/"
        },
        "id": "7zZ8h9onnyFt",
        "outputId": "44664299-45ac-4492-a190-5638f093a354"
      },
      "execution_count": 10,
      "outputs": [
        {
          "output_type": "execute_result",
          "data": {
            "text/plain": [
              "8"
            ]
          },
          "metadata": {},
          "execution_count": 10
        }
      ]
    },
    {
      "cell_type": "code",
      "source": [],
      "metadata": {
        "id": "5Bg09ddnoA05"
      },
      "execution_count": null,
      "outputs": []
    },
    {
      "cell_type": "markdown",
      "source": [
        "### *args vs kwargs"
      ],
      "metadata": {
        "id": "stchHWT4o0c6"
      }
    },
    {
      "cell_type": "code",
      "source": [
        "# *args\n",
        "# allow us to pass variable number of non-keyword arguments to a funtion\n",
        "\n",
        "# * -- is used for variable number of inputs and it will be store inside a tuple\n",
        "\n",
        "def multiply(*args):\n",
        "    product = 1\n",
        "\n",
        "    for i in args:\n",
        "      product = product * i\n",
        "\n",
        "    return product\n"
      ],
      "metadata": {
        "id": "h9LORyO0o5xC"
      },
      "execution_count": 12,
      "outputs": []
    },
    {
      "cell_type": "code",
      "source": [
        "multiply(1,2,3,4,5,6,7)"
      ],
      "metadata": {
        "colab": {
          "base_uri": "https://localhost:8080/"
        },
        "id": "US808japo7vD",
        "outputId": "5e6b83ac-b76c-474e-a9e6-8e87536b1e2b"
      },
      "execution_count": 13,
      "outputs": [
        {
          "output_type": "execute_result",
          "data": {
            "text/plain": [
              "5040"
            ]
          },
          "metadata": {},
          "execution_count": 13
        }
      ]
    },
    {
      "cell_type": "code",
      "source": [
        "# **kwargs\n",
        "# **kwargs allows us to pass any number of keyword arguments.\n",
        "# Keyword arguments mean that they contain a key-value pair, like a Python dictionary.\n",
        "\n",
        "def display(**kwargs):\n",
        "\n",
        "  for (key,value) in kwargs.items():\n",
        "    print(key, '-->', value)"
      ],
      "metadata": {
        "id": "zOSCbpocpQi3"
      },
      "execution_count": 18,
      "outputs": []
    },
    {
      "cell_type": "code",
      "source": [
        "display(india='delhi',srilanka='colombo',nepal='kathmandu',pakistan='Islamabad')"
      ],
      "metadata": {
        "colab": {
          "base_uri": "https://localhost:8080/"
        },
        "id": "tK7wBcf2q2HO",
        "outputId": "6de4b1d1-940c-47c6-c952-05e5c8d7461b"
      },
      "execution_count": 19,
      "outputs": [
        {
          "output_type": "stream",
          "name": "stdout",
          "text": [
            "india --> delhi\n",
            "srilanka --> colombo\n",
            "nepal --> kathmandu\n",
            "pakistan --> Islamabad\n"
          ]
        }
      ]
    },
    {
      "cell_type": "markdown",
      "source": [
        "##### Points to remember while using `*args and **kwargs`\n",
        "\n",
        "- order of the arguments matter(normal -> `*args` -> `**kwargs`)\n",
        "- The words “args” and “kwargs” are only a convention, you can use any name of your choice\n"
      ],
      "metadata": {
        "id": "HKeCXBtErMxc"
      }
    },
    {
      "cell_type": "code",
      "source": [],
      "metadata": {
        "id": "hiSB6hwZq8eu"
      },
      "execution_count": null,
      "outputs": []
    },
    {
      "cell_type": "markdown",
      "source": [
        "### How functions are executed in Memory?"
      ],
      "metadata": {
        "id": "m7z6fa4qrPIe"
      }
    },
    {
      "cell_type": "code",
      "source": [
        "# Life of the function is from its call to return"
      ],
      "metadata": {
        "id": "Zrj-sXC8rSoc"
      },
      "execution_count": null,
      "outputs": []
    },
    {
      "cell_type": "markdown",
      "source": [
        "### Function without return statement"
      ],
      "metadata": {
        "id": "nQO6mi7bsCnH"
      }
    },
    {
      "cell_type": "code",
      "source": [
        "#  it will return a none\n",
        "\n",
        "L = [1,2,3]\n",
        "print(L.append(4))"
      ],
      "metadata": {
        "colab": {
          "base_uri": "https://localhost:8080/"
        },
        "id": "ZjBLj9pZsGxL",
        "outputId": "7adbc1b1-6ae9-4275-97df-92d2b6b19a4a"
      },
      "execution_count": 21,
      "outputs": [
        {
          "output_type": "stream",
          "name": "stdout",
          "text": [
            "None\n"
          ]
        }
      ]
    },
    {
      "cell_type": "code",
      "source": [],
      "metadata": {
        "id": "WxIhRBPfsYzo"
      },
      "execution_count": null,
      "outputs": []
    }
  ]
}