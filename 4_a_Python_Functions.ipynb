{
  "nbformat": 4,
  "nbformat_minor": 0,
  "metadata": {
    "colab": {
      "provenance": [],
      "authorship_tag": "ABX9TyNtqNYAu4OqoP6BZXO4eVHk",
      "include_colab_link": true
    },
    "kernelspec": {
      "name": "python3",
      "display_name": "Python 3"
    },
    "language_info": {
      "name": "python"
    }
  },
  "cells": [
    {
      "cell_type": "markdown",
      "metadata": {
        "id": "view-in-github",
        "colab_type": "text"
      },
      "source": [
        "<a href=\"https://colab.research.google.com/github/kamilakhtar015/PythonMastery/blob/main/4_a_Python_Functions.ipynb\" target=\"_parent\"><img src=\"https://colab.research.google.com/assets/colab-badge.svg\" alt=\"Open In Colab\"/></a>"
      ]
    },
    {
      "cell_type": "markdown",
      "source": [
        "### Let's Create a function (with docstring)"
      ],
      "metadata": {
        "id": "6F00PMJslT8j"
      }
    },
    {
      "cell_type": "code",
      "source": [
        "def is_even(num):\n",
        "  \"\"\"\n",
        "  This function returns the given number as even or odd\n",
        "  input -- any integer\n",
        "  output -- odd/even\n",
        "  created on -- Feb 15, 2025\n",
        "\n",
        "  \"\"\"\n",
        "  if type(num) == int:\n",
        "    if num % 2 == 0:\n",
        "      return \"even\"\n",
        "    else:\n",
        "      return \"odd\"\n",
        "\n",
        "  else:\n",
        "    print('Pagal hain kia')\n",
        "\n"
      ],
      "metadata": {
        "id": "IjRSx1K8lal9"
      },
      "execution_count": null,
      "outputs": []
    },
    {
      "cell_type": "code",
      "source": [
        "#  To access documentation\n",
        "print(is_even.__doc__)"
      ],
      "metadata": {
        "colab": {
          "base_uri": "https://localhost:8080/"
        },
        "id": "uZscaQmUp9Sv",
        "outputId": "35f99183-33ea-4562-b775-e1d12fef99e2"
      },
      "execution_count": null,
      "outputs": [
        {
          "output_type": "stream",
          "name": "stdout",
          "text": [
            "\n",
            "  This function returns the given number as even or odd\n",
            "  input -- any integer\n",
            "  output -- odd/even\n",
            "  created on -- Feb 15, 2025\n",
            "\n",
            "  \n"
          ]
        }
      ]
    },
    {
      "cell_type": "code",
      "source": [
        "for i in range(1,11):\n",
        "  x = is_even(i)\n",
        "  print(x)"
      ],
      "metadata": {
        "colab": {
          "base_uri": "https://localhost:8080/"
        },
        "id": "FEHytr1cl4FN",
        "outputId": "4c30a0c2-892e-4f8c-e537-a7a4015219b0"
      },
      "execution_count": null,
      "outputs": [
        {
          "output_type": "stream",
          "name": "stdout",
          "text": [
            "odd\n",
            "even\n",
            "odd\n",
            "even\n",
            "odd\n",
            "even\n",
            "odd\n",
            "even\n",
            "odd\n",
            "even\n"
          ]
        }
      ]
    },
    {
      "cell_type": "markdown",
      "source": [
        "### Parameters vs Arguments\n",
        "\n",
        "Parameters -- when creating a function\n",
        "\n",
        "Arguement -- Calling a function"
      ],
      "metadata": {
        "id": "lYuAZXHOm0uO"
      }
    },
    {
      "cell_type": "code",
      "source": [],
      "metadata": {
        "id": "YJoxiu_9l-DS"
      },
      "execution_count": null,
      "outputs": []
    },
    {
      "cell_type": "markdown",
      "source": [
        "### Types of Arguments\n",
        "\n",
        "\n",
        "\n",
        "*   Default Argument\n",
        "*   Positional Argument\n",
        "*   Keyword Argument\n",
        "\n",
        "\n",
        "\n"
      ],
      "metadata": {
        "id": "2-MyfoJvm-vf"
      }
    },
    {
      "cell_type": "code",
      "source": [
        "# Defualt Argument\n",
        "\n",
        "def power(a=1, b=2):\n",
        "  return a**b"
      ],
      "metadata": {
        "id": "2VU2OsqEnKSB"
      },
      "execution_count": null,
      "outputs": []
    },
    {
      "cell_type": "code",
      "source": [
        "print(power(2,3))\n",
        "print(power(2))\n",
        "print(power())"
      ],
      "metadata": {
        "colab": {
          "base_uri": "https://localhost:8080/"
        },
        "id": "pp_SWmUIngbO",
        "outputId": "b9ca2175-717e-4faf-823c-fd45d99411ad"
      },
      "execution_count": null,
      "outputs": [
        {
          "output_type": "stream",
          "name": "stdout",
          "text": [
            "8\n",
            "4\n",
            "1\n"
          ]
        }
      ]
    },
    {
      "cell_type": "code",
      "source": [
        "# Positional Argument -- order of the argument\n",
        "power(2,3)"
      ],
      "metadata": {
        "colab": {
          "base_uri": "https://localhost:8080/"
        },
        "id": "YRI3vjDAni6R",
        "outputId": "4586f1dc-e49c-47d7-a20d-ab20eefb890d"
      },
      "execution_count": null,
      "outputs": [
        {
          "output_type": "execute_result",
          "data": {
            "text/plain": [
              "8"
            ]
          },
          "metadata": {},
          "execution_count": 7
        }
      ]
    },
    {
      "cell_type": "code",
      "source": [
        "# Keyword Argument -- you specify the name of the parameter and it will preceed the positional argument\n",
        "power(b=3, a=2)"
      ],
      "metadata": {
        "colab": {
          "base_uri": "https://localhost:8080/"
        },
        "id": "7zZ8h9onnyFt",
        "outputId": "f39d5fec-6e51-49e9-d95b-ada4902ec135"
      },
      "execution_count": null,
      "outputs": [
        {
          "output_type": "execute_result",
          "data": {
            "text/plain": [
              "8"
            ]
          },
          "metadata": {},
          "execution_count": 8
        }
      ]
    },
    {
      "cell_type": "code",
      "source": [],
      "metadata": {
        "id": "5Bg09ddnoA05"
      },
      "execution_count": null,
      "outputs": []
    },
    {
      "cell_type": "markdown",
      "source": [
        "### *args vs kwargs"
      ],
      "metadata": {
        "id": "stchHWT4o0c6"
      }
    },
    {
      "cell_type": "code",
      "source": [
        "# *args\n",
        "# allow us to pass variable number of non-keyword arguments to a funtion\n",
        "\n",
        "# * -- is used for variable number of inputs and it will be store inside a tuple\n",
        "\n",
        "def multiply(*args):\n",
        "    product = 1\n",
        "\n",
        "    for i in args:\n",
        "      product = product * i\n",
        "\n",
        "    return product\n"
      ],
      "metadata": {
        "id": "h9LORyO0o5xC"
      },
      "execution_count": null,
      "outputs": []
    },
    {
      "cell_type": "code",
      "source": [
        "multiply(1,2,3,4,5,6,7)"
      ],
      "metadata": {
        "colab": {
          "base_uri": "https://localhost:8080/"
        },
        "id": "US808japo7vD",
        "outputId": "3592e496-228b-4b5a-bb5e-3877917d5ddc"
      },
      "execution_count": null,
      "outputs": [
        {
          "output_type": "execute_result",
          "data": {
            "text/plain": [
              "5040"
            ]
          },
          "metadata": {},
          "execution_count": 10
        }
      ]
    },
    {
      "cell_type": "code",
      "source": [
        "# **kwargs\n",
        "# **kwargs allows us to pass any number of keyword arguments.\n",
        "# Keyword arguments mean that they contain a key-value pair, like a Python dictionary.\n",
        "\n",
        "def display(**kwargs):\n",
        "\n",
        "  for (key,value) in kwargs.items():\n",
        "    print(key, '-->', value)"
      ],
      "metadata": {
        "id": "zOSCbpocpQi3"
      },
      "execution_count": null,
      "outputs": []
    },
    {
      "cell_type": "code",
      "source": [
        "display(india='delhi',srilanka='colombo',nepal='kathmandu',pakistan='Islamabad')"
      ],
      "metadata": {
        "colab": {
          "base_uri": "https://localhost:8080/"
        },
        "id": "tK7wBcf2q2HO",
        "outputId": "f6b52170-dab6-4ffc-89f3-22d3a1b85d9d"
      },
      "execution_count": null,
      "outputs": [
        {
          "output_type": "stream",
          "name": "stdout",
          "text": [
            "india --> delhi\n",
            "srilanka --> colombo\n",
            "nepal --> kathmandu\n",
            "pakistan --> Islamabad\n"
          ]
        }
      ]
    },
    {
      "cell_type": "markdown",
      "source": [
        "##### Points to remember while using `*args and **kwargs`\n",
        "\n",
        "- order of the arguments matter(normal -> `*args` -> `**kwargs`)\n",
        "- The words “args” and “kwargs” are only a convention, you can use any name of your choice\n"
      ],
      "metadata": {
        "id": "HKeCXBtErMxc"
      }
    },
    {
      "cell_type": "code",
      "source": [],
      "metadata": {
        "id": "hiSB6hwZq8eu"
      },
      "execution_count": null,
      "outputs": []
    },
    {
      "cell_type": "markdown",
      "source": [
        "### How functions are executed in Memory?"
      ],
      "metadata": {
        "id": "m7z6fa4qrPIe"
      }
    },
    {
      "cell_type": "code",
      "source": [
        "# Life of the function is from its call to return"
      ],
      "metadata": {
        "id": "Zrj-sXC8rSoc"
      },
      "execution_count": null,
      "outputs": []
    },
    {
      "cell_type": "markdown",
      "source": [
        "### Function without return statement"
      ],
      "metadata": {
        "id": "nQO6mi7bsCnH"
      }
    },
    {
      "cell_type": "code",
      "source": [
        "#  it will return a none\n",
        "\n",
        "L = [1,2,3]\n",
        "print(L.append(4))"
      ],
      "metadata": {
        "colab": {
          "base_uri": "https://localhost:8080/"
        },
        "id": "ZjBLj9pZsGxL",
        "outputId": "98b32e36-8506-473e-c59e-d58f8f2849ba"
      },
      "execution_count": null,
      "outputs": [
        {
          "output_type": "stream",
          "name": "stdout",
          "text": [
            "None\n"
          ]
        }
      ]
    },
    {
      "cell_type": "code",
      "source": [],
      "metadata": {
        "id": "WxIhRBPfsYzo"
      },
      "execution_count": null,
      "outputs": []
    },
    {
      "cell_type": "markdown",
      "source": [
        "### Variable Scope"
      ],
      "metadata": {
        "id": "5dY_7pJG1OeJ"
      }
    },
    {
      "cell_type": "code",
      "source": [
        "def g(y):\n",
        "  print(x)\n",
        "  print(x+1)\n",
        "\n",
        "x = 5\n",
        "g(x)\n",
        "print(x)"
      ],
      "metadata": {
        "colab": {
          "base_uri": "https://localhost:8080/"
        },
        "id": "i7-0G2RK1QHu",
        "outputId": "731273e4-6a61-4da6-ee8e-717f0f3b970d"
      },
      "execution_count": null,
      "outputs": [
        {
          "output_type": "stream",
          "name": "stdout",
          "text": [
            "5\n",
            "6\n",
            "5\n"
          ]
        }
      ]
    },
    {
      "cell_type": "code",
      "source": [
        "def g(y):\n",
        "  x = 1\n",
        "  x += 1\n",
        "  print(x)\n",
        "\n",
        "x = 5\n",
        "g(x)\n",
        "print(x)"
      ],
      "metadata": {
        "colab": {
          "base_uri": "https://localhost:8080/"
        },
        "id": "vfCQsgxd1S_u",
        "outputId": "301adc66-e98d-460a-9aa6-7cc8b4e427f0"
      },
      "execution_count": null,
      "outputs": [
        {
          "output_type": "stream",
          "name": "stdout",
          "text": [
            "2\n",
            "5\n"
          ]
        }
      ]
    },
    {
      "cell_type": "code",
      "source": [
        "def h(y):\n",
        "  global x\n",
        "  x += 1\n",
        "\n",
        "x = 5\n",
        "h(x)\n",
        "print(x)"
      ],
      "metadata": {
        "colab": {
          "base_uri": "https://localhost:8080/"
        },
        "id": "y8X5blQR2wS3",
        "outputId": "5c67c813-10e7-4afc-af89-1ca75825199e"
      },
      "execution_count": null,
      "outputs": [
        {
          "output_type": "stream",
          "name": "stdout",
          "text": [
            "6\n"
          ]
        }
      ]
    },
    {
      "cell_type": "code",
      "source": [],
      "metadata": {
        "id": "aaqpbvfz3kAJ"
      },
      "execution_count": null,
      "outputs": []
    },
    {
      "cell_type": "markdown",
      "source": [
        "# Nested Funtions"
      ],
      "metadata": {
        "id": "7j40UzQQMkoW"
      }
    },
    {
      "cell_type": "code",
      "source": [
        "def f():\n",
        "  def g():\n",
        "    print('inside g')\n",
        "  g()\n",
        "  print('inside f')"
      ],
      "metadata": {
        "id": "TrXwNWloMmLW"
      },
      "execution_count": 1,
      "outputs": []
    },
    {
      "cell_type": "code",
      "source": [
        "f()"
      ],
      "metadata": {
        "colab": {
          "base_uri": "https://localhost:8080/"
        },
        "id": "bzo7E617MvS-",
        "outputId": "a6626dc2-a49b-48af-c72d-adaa1af606eb"
      },
      "execution_count": 2,
      "outputs": [
        {
          "output_type": "stream",
          "name": "stdout",
          "text": [
            "inside g\n",
            "inside f\n"
          ]
        }
      ]
    },
    {
      "cell_type": "code",
      "source": [
        "# the inner function is hidden from the main program\n",
        "g()"
      ],
      "metadata": {
        "colab": {
          "base_uri": "https://localhost:8080/",
          "height": 141
        },
        "id": "EF7aITTaMwj6",
        "outputId": "485af162-fe52-4413-828b-b014bd9e32e8"
      },
      "execution_count": 3,
      "outputs": [
        {
          "output_type": "error",
          "ename": "NameError",
          "evalue": "name 'g' is not defined",
          "traceback": [
            "\u001b[0;31m---------------------------------------------------------------------------\u001b[0m",
            "\u001b[0;31mNameError\u001b[0m                                 Traceback (most recent call last)",
            "\u001b[0;32m<ipython-input-3-5fd69ddb5074>\u001b[0m in \u001b[0;36m<cell line: 0>\u001b[0;34m()\u001b[0m\n\u001b[0;32m----> 1\u001b[0;31m \u001b[0mg\u001b[0m\u001b[0;34m(\u001b[0m\u001b[0;34m)\u001b[0m\u001b[0;34m\u001b[0m\u001b[0;34m\u001b[0m\u001b[0m\n\u001b[0m",
            "\u001b[0;31mNameError\u001b[0m: name 'g' is not defined"
          ]
        }
      ]
    },
    {
      "cell_type": "code",
      "source": [
        "def g(x):\n",
        "  def h():\n",
        "    x = 'abc'\n",
        "  x = x + 1\n",
        "  print('in g(x): x =', x)\n",
        "  h()\n",
        "  return x"
      ],
      "metadata": {
        "id": "XPRAl0_tM6tN"
      },
      "execution_count": 4,
      "outputs": []
    },
    {
      "cell_type": "code",
      "source": [
        "x = 3\n",
        "z = g(x)\n",
        "z"
      ],
      "metadata": {
        "colab": {
          "base_uri": "https://localhost:8080/"
        },
        "id": "fDdu5RZgOhts",
        "outputId": "243d5380-18e0-4a1f-e21e-6717d637362f"
      },
      "execution_count": 6,
      "outputs": [
        {
          "output_type": "stream",
          "name": "stdout",
          "text": [
            "in g(x): x = 4\n"
          ]
        },
        {
          "output_type": "execute_result",
          "data": {
            "text/plain": [
              "4"
            ]
          },
          "metadata": {},
          "execution_count": 6
        }
      ]
    },
    {
      "cell_type": "code",
      "source": [],
      "metadata": {
        "id": "3ZtU7YaiOyzs"
      },
      "execution_count": null,
      "outputs": []
    },
    {
      "cell_type": "markdown",
      "source": [
        "# Functions are 1st Class Citizens"
      ],
      "metadata": {
        "id": "KPi5JHgKPl-k"
      }
    },
    {
      "cell_type": "code",
      "source": [
        "# type and id -- function in python acts a datatype\n",
        "def square(num):\n",
        "  return num**2\n",
        "\n",
        "print(type(square))\n",
        "print(id(square))\n"
      ],
      "metadata": {
        "colab": {
          "base_uri": "https://localhost:8080/"
        },
        "id": "1GiPfn7ePq4V",
        "outputId": "162d126e-ab95-4ae7-944d-4d2b9258cac2"
      },
      "execution_count": 8,
      "outputs": [
        {
          "output_type": "stream",
          "name": "stdout",
          "text": [
            "<class 'function'>\n",
            "136489588888320\n"
          ]
        }
      ]
    },
    {
      "cell_type": "code",
      "source": [
        "# reassign\n",
        "x = square\n",
        "id(x)\n",
        "x(3)"
      ],
      "metadata": {
        "colab": {
          "base_uri": "https://localhost:8080/"
        },
        "id": "29BzDQU_QHvq",
        "outputId": "d0182679-98fa-47a4-ef63-72c4b782a67d"
      },
      "execution_count": 12,
      "outputs": [
        {
          "output_type": "execute_result",
          "data": {
            "text/plain": [
              "9"
            ]
          },
          "metadata": {},
          "execution_count": 12
        }
      ]
    },
    {
      "cell_type": "code",
      "source": [
        "# deleting a function\n",
        "del square"
      ],
      "metadata": {
        "id": "L6QQMUQxQVEt"
      },
      "execution_count": 13,
      "outputs": []
    },
    {
      "cell_type": "code",
      "source": [
        "square(3)"
      ],
      "metadata": {
        "colab": {
          "base_uri": "https://localhost:8080/",
          "height": 141
        },
        "id": "ME3M93d4QluG",
        "outputId": "114ee0b0-6d07-434c-b4c5-7d54d6fc2a21"
      },
      "execution_count": 14,
      "outputs": [
        {
          "output_type": "error",
          "ename": "NameError",
          "evalue": "name 'square' is not defined",
          "traceback": [
            "\u001b[0;31m---------------------------------------------------------------------------\u001b[0m",
            "\u001b[0;31mNameError\u001b[0m                                 Traceback (most recent call last)",
            "\u001b[0;32m<ipython-input-14-2cfd8bba3a88>\u001b[0m in \u001b[0;36m<cell line: 0>\u001b[0;34m()\u001b[0m\n\u001b[0;32m----> 1\u001b[0;31m \u001b[0msquare\u001b[0m\u001b[0;34m(\u001b[0m\u001b[0;36m3\u001b[0m\u001b[0;34m)\u001b[0m\u001b[0;34m\u001b[0m\u001b[0;34m\u001b[0m\u001b[0m\n\u001b[0m",
            "\u001b[0;31mNameError\u001b[0m: name 'square' is not defined"
          ]
        }
      ]
    },
    {
      "cell_type": "code",
      "source": [
        "def square(num):\n",
        "  return num**2"
      ],
      "metadata": {
        "id": "YH6UyllzQn56"
      },
      "execution_count": 15,
      "outputs": []
    },
    {
      "cell_type": "code",
      "source": [
        "# Storing\n",
        "L = [1,2,3,4,5, square]\n",
        "L"
      ],
      "metadata": {
        "colab": {
          "base_uri": "https://localhost:8080/"
        },
        "id": "8ybR-tRVQugq",
        "outputId": "3ddb259c-58d3-4a9a-85aa-115e24c6ea1f"
      },
      "execution_count": 16,
      "outputs": [
        {
          "output_type": "execute_result",
          "data": {
            "text/plain": [
              "[1, 2, 3, 4, 5, <function __main__.square(num)>]"
            ]
          },
          "metadata": {},
          "execution_count": 16
        }
      ]
    },
    {
      "cell_type": "code",
      "source": [
        "L[-1](3)"
      ],
      "metadata": {
        "colab": {
          "base_uri": "https://localhost:8080/"
        },
        "id": "7zSMNZ1fQzoP",
        "outputId": "f6076e08-c2c4-44e0-a838-ee63f5058102"
      },
      "execution_count": 17,
      "outputs": [
        {
          "output_type": "execute_result",
          "data": {
            "text/plain": [
              "9"
            ]
          },
          "metadata": {},
          "execution_count": 17
        }
      ]
    },
    {
      "cell_type": "code",
      "source": [
        "# we cannot store mutable data types in sets\n",
        "s = {square}\n",
        "s"
      ],
      "metadata": {
        "colab": {
          "base_uri": "https://localhost:8080/"
        },
        "id": "0pH3qv2JQ5da",
        "outputId": "e98bae41-de1b-4a17-c7c6-7af1fa8dbd9a"
      },
      "execution_count": 18,
      "outputs": [
        {
          "output_type": "execute_result",
          "data": {
            "text/plain": [
              "{<function __main__.square(num)>}"
            ]
          },
          "metadata": {},
          "execution_count": 18
        }
      ]
    },
    {
      "cell_type": "code",
      "source": [],
      "metadata": {
        "id": "OpAxIVc6RD7n"
      },
      "execution_count": null,
      "outputs": []
    }
  ]
}