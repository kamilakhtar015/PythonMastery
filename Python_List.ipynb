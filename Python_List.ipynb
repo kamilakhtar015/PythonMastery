{
  "nbformat": 4,
  "nbformat_minor": 0,
  "metadata": {
    "colab": {
      "provenance": [],
      "toc_visible": true,
      "authorship_tag": "ABX9TyNTkz+szDyRRHkH2i0gde9p",
      "include_colab_link": true
    },
    "kernelspec": {
      "name": "python3",
      "display_name": "Python 3"
    },
    "language_info": {
      "name": "python"
    }
  },
  "cells": [
    {
      "cell_type": "markdown",
      "metadata": {
        "id": "view-in-github",
        "colab_type": "text"
      },
      "source": [
        "<a href=\"https://colab.research.google.com/github/kamilakhtar015/PythonMastery/blob/main/Python_List.ipynb\" target=\"_parent\"><img src=\"https://colab.research.google.com/assets/colab-badge.svg\" alt=\"Open In Colab\"/></a>"
      ]
    },
    {
      "cell_type": "code",
      "execution_count": null,
      "metadata": {
        "colab": {
          "base_uri": "https://localhost:8080/"
        },
        "id": "UKUeAtrhAKJo",
        "outputId": "00434c88-a3ba-44a1-ae61-c858ab8f471c"
      },
      "outputs": [
        {
          "output_type": "stream",
          "name": "stdout",
          "text": [
            "Enter the year 2002\n",
            "2002 is not a leap year\n"
          ]
        }
      ],
      "source": [
        "# To check whether a year is leap or not using Gregorian calender\n",
        "year = int(input('Enter the year '))\n",
        "\n",
        "if year % 4 != 0:\n",
        "    print(f\"{year} is not a leap year\")\n",
        "else:\n",
        "    if year % 100 == 0:\n",
        "        if year % 400 == 0:\n",
        "            print(f\"{year} is a leap year\")\n",
        "        else:\n",
        "            print(f\"{year} is not a leap year\")\n",
        "    else:\n",
        "        print(f\"{year} is a leap year\")\n"
      ]
    },
    {
      "cell_type": "markdown",
      "source": [
        "Refrential Arrays -- Meaning address are saved in it:\n",
        "\n",
        "\n",
        "Dynamic Arrays -- if the array is full then another array of double size is formed and all the elements in the previosu array are copies from it.\n",
        "\n",
        "\n",
        "In python lists (arrays) are dynamic while in other programming languages they are fixed\n",
        "\n",
        "\n",
        "Python lists are hetrogenious because they contain references so they can have addresses of any of the data types.\n"
      ],
      "metadata": {
        "id": "68iHfSo9ElL1"
      }
    },
    {
      "cell_type": "markdown",
      "source": [
        "**Characterstics of Python List:**\n",
        "\n",
        "Ordered\n",
        "\n",
        "Changeable/Mutable\n",
        "\n",
        "Heterogeneous\n",
        "\n",
        "Can have duplicates\n",
        "\n",
        "Are dynamic\n",
        "\n",
        "Can be nested\n",
        "\n",
        "Items can be accessed\n",
        "\n",
        "Can contain any kind of objects in python"
      ],
      "metadata": {
        "id": "jm9UzCR1GCuq"
      }
    },
    {
      "cell_type": "code",
      "source": [
        "# Empty List\n",
        "print([])\n",
        "\n",
        "# 1D list\n",
        "print([1,2,3,4])\n",
        "\n",
        "# 2D list\n",
        "print([1,2,3,[4,5]])\n",
        "\n",
        "# 3D list\n",
        "\n",
        "\n",
        "# Hetrogenous\n",
        "print([1,True, 5.6, 5+6j, 'Hello'])\n",
        "\n",
        "\n",
        "# Using type conversion\n",
        "print(list('Hello'))\n"
      ],
      "metadata": {
        "colab": {
          "base_uri": "https://localhost:8080/"
        },
        "id": "bilt3oxSBbLq",
        "outputId": "53a7ca36-f63b-4ae0-84ec-c8f9de48195b"
      },
      "execution_count": null,
      "outputs": [
        {
          "output_type": "stream",
          "name": "stdout",
          "text": [
            "[]\n",
            "[1, 2, 3, 4]\n",
            "[1, 2, 3, [4, 5]]\n",
            "[1, True, 5.6, (5+6j), 'Hello']\n",
            "['H', 'e', 'l', 'l', 'o']\n"
          ]
        }
      ]
    },
    {
      "cell_type": "markdown",
      "source": [
        "**Accessing items from Lists**"
      ],
      "metadata": {
        "id": "y5jsjzOtH0Ad"
      }
    },
    {
      "cell_type": "markdown",
      "source": [
        "1.  Indexing"
      ],
      "metadata": {
        "id": "fd_OVuHbJN_3"
      }
    },
    {
      "cell_type": "code",
      "source": [
        "# Indexing\n",
        "L = [1,2,3,4,5]\n",
        "\n",
        "# -> Positive Indexing -- from left to right\n",
        "print(L[0])\n",
        "\n",
        "# -> Negative Indexing -- from right to left\n",
        "print(L[-1])\n",
        "\n",
        "print('_______________________________________________________')\n",
        "print()\n",
        "\n",
        "# for 2D lists\n",
        "L_2D = [1,2,3,[4,5]]\n",
        "print(L_2D[3][1]) # for finding 5\n",
        "print(L_2D[-1][-2])\n",
        "\n",
        "print('_______________________________________________________')\n",
        "print()"
      ],
      "metadata": {
        "colab": {
          "base_uri": "https://localhost:8080/"
        },
        "id": "Rz-L5MC3G6Fy",
        "outputId": "c0ceca10-7a81-42cd-dc96-97446389d662"
      },
      "execution_count": null,
      "outputs": [
        {
          "output_type": "stream",
          "name": "stdout",
          "text": [
            "1\n",
            "5\n",
            "_______________________________________________________\n",
            "\n",
            "5\n",
            "4\n",
            "_______________________________________________________\n",
            "\n"
          ]
        }
      ]
    },
    {
      "cell_type": "markdown",
      "source": [
        "2. Slicing -- Extracting multiple items from the list"
      ],
      "metadata": {
        "id": "x4dcYFWZJQyj"
      }
    },
    {
      "cell_type": "code",
      "source": [
        "# Slicing\n",
        "L1 = [1,2,3,4,5,6,7]\n",
        "\n",
        "print(L1[:])\n",
        "print(L1[3:])\n",
        "print(L1[::2])  # Taking 2 step jumps\n",
        "\n",
        "print(L1[-4:])\n",
        "print(L1[::-1])  # To reverse the list"
      ],
      "metadata": {
        "colab": {
          "base_uri": "https://localhost:8080/"
        },
        "id": "cxXM4qoGIHJE",
        "outputId": "058ece54-463b-409c-e489-ef335540016c"
      },
      "execution_count": null,
      "outputs": [
        {
          "output_type": "stream",
          "name": "stdout",
          "text": [
            "[1, 2, 3, 4, 5, 6, 7]\n",
            "[4, 5, 6, 7]\n",
            "[1, 3, 5, 7]\n",
            "[4, 5, 6, 7]\n",
            "[7, 6, 5, 4, 3, 2, 1]\n"
          ]
        }
      ]
    },
    {
      "cell_type": "markdown",
      "source": [
        "**Adding Items to the list**"
      ],
      "metadata": {
        "id": "0HFg42kpKdz3"
      }
    },
    {
      "cell_type": "code",
      "source": [
        "# append -- can add single item to the list\n",
        "L = [1, 2, 3]\n",
        "L.append(4)\n",
        "print(L)\n",
        "L.append(True)\n",
        "print(L)"
      ],
      "metadata": {
        "colab": {
          "base_uri": "https://localhost:8080/"
        },
        "id": "iZfM-B2mJqCa",
        "outputId": "08173a4b-c927-48c5-d6d3-e10bad4a7802"
      },
      "execution_count": null,
      "outputs": [
        {
          "output_type": "stream",
          "name": "stdout",
          "text": [
            "[1, 2, 3, 4]\n",
            "[1, 2, 3, 4, True]\n"
          ]
        }
      ]
    },
    {
      "cell_type": "code",
      "source": [
        "#extend -- can add multiple items in list at once\n",
        "L = [1,2,3,4,5]\n",
        "L.extend([6,True,False,'Atlanta'])\n",
        "print(L)"
      ],
      "metadata": {
        "colab": {
          "base_uri": "https://localhost:8080/"
        },
        "id": "HA4Y_d_0KkKO",
        "outputId": "8387806a-00c7-4b78-86cf-8d0303c82563"
      },
      "execution_count": null,
      "outputs": [
        {
          "output_type": "stream",
          "name": "stdout",
          "text": [
            "[1, 2, 3, 4, 5, 6, True, False, 'Atlanta']\n"
          ]
        }
      ]
    },
    {
      "cell_type": "code",
      "source": [
        "# Insert -- to add item on desire index\n",
        "L = [1,2,3,4,5]\n",
        "L.insert(1,100)\n",
        "print(L)\n",
        "L.insert(2,True)\n",
        "print(L)"
      ],
      "metadata": {
        "colab": {
          "base_uri": "https://localhost:8080/"
        },
        "id": "v4lOeeR3K8_z",
        "outputId": "0a4a1635-e079-43e9-ff7d-684da4b441dc"
      },
      "execution_count": null,
      "outputs": [
        {
          "output_type": "stream",
          "name": "stdout",
          "text": [
            "[1, 100, 2, 3, 4, 5]\n",
            "[1, 100, True, 2, 3, 4, 5]\n"
          ]
        }
      ]
    },
    {
      "cell_type": "markdown",
      "source": [
        "Editing Items in List"
      ],
      "metadata": {
        "id": "4RMP5fhTXyKa"
      }
    },
    {
      "cell_type": "code",
      "source": [
        "L = [1,2,3,4,5]\n",
        "# editing with indexing\n",
        "L[-1] = 500\n",
        "\n",
        "# editing with slicing\n",
        "L[1:4] = [200,300,400]\n",
        "\n",
        "print(L)"
      ],
      "metadata": {
        "colab": {
          "base_uri": "https://localhost:8080/"
        },
        "id": "vy26e8KgLmCK",
        "outputId": "6ae8ec31-7f95-4e40-e151-0e46c2ed6148"
      },
      "execution_count": null,
      "outputs": [
        {
          "output_type": "stream",
          "name": "stdout",
          "text": [
            "[1, 200, 300, 400, 500]\n"
          ]
        }
      ]
    },
    {
      "cell_type": "markdown",
      "source": [
        "Deleting items from list"
      ],
      "metadata": {
        "id": "-ATdeVuCYclu"
      }
    },
    {
      "cell_type": "code",
      "source": [
        "# del\n",
        "L = [1,2,3,4,5]\n",
        "# indexing\n",
        "del(L[-1])\n",
        "# slicing\n",
        "del(L[1:3 ])\n",
        "\n",
        "print(L)"
      ],
      "metadata": {
        "colab": {
          "base_uri": "https://localhost:8080/"
        },
        "id": "HlFV4_dfYAgp",
        "outputId": "b4b40286-be91-47b7-8ece-2156ad26b1a5"
      },
      "execution_count": null,
      "outputs": [
        {
          "output_type": "stream",
          "name": "stdout",
          "text": [
            "[1, 4]\n"
          ]
        }
      ]
    },
    {
      "cell_type": "code",
      "source": [
        "# remove -- delete using value\n",
        "L = [1,2,3,4,5]\n",
        "L.remove(4)\n",
        "print(L)"
      ],
      "metadata": {
        "colab": {
          "base_uri": "https://localhost:8080/"
        },
        "id": "vmH-rUYfYjQE",
        "outputId": "02bf8581-9bfb-446d-dc8b-4518d597589b"
      },
      "execution_count": null,
      "outputs": [
        {
          "output_type": "stream",
          "name": "stdout",
          "text": [
            "[1, 2, 3, 5]\n"
          ]
        }
      ]
    },
    {
      "cell_type": "code",
      "source": [
        "# pop\n",
        "L = [1,2,3,4,5]\n",
        "# using index -- it will delete item at the given index\n",
        "L.pop(0)\n",
        "print(L)\n",
        "\n",
        "# without index -- it will delete last item\n",
        "L.pop()\n",
        "print(L)"
      ],
      "metadata": {
        "colab": {
          "base_uri": "https://localhost:8080/"
        },
        "id": "9xvLN8XkZBEj",
        "outputId": "34ad9a82-ed11-4e8f-ad18-99aea2a338df"
      },
      "execution_count": null,
      "outputs": [
        {
          "output_type": "stream",
          "name": "stdout",
          "text": [
            "[2, 3, 4, 5]\n",
            "[2, 3, 4]\n"
          ]
        }
      ]
    },
    {
      "cell_type": "code",
      "source": [
        "# clear\n",
        "L = [1,2,3,4,5]\n",
        "L.clear()\n",
        "print(L)"
      ],
      "metadata": {
        "colab": {
          "base_uri": "https://localhost:8080/"
        },
        "id": "_ZjH9MUbZF2v",
        "outputId": "54a437a8-ebb7-4763-a92b-5242e49a6f11"
      },
      "execution_count": null,
      "outputs": [
        {
          "output_type": "stream",
          "name": "stdout",
          "text": [
            "[]\n"
          ]
        }
      ]
    },
    {
      "cell_type": "markdown",
      "source": [
        "**Operations of List**\n",
        "\n",
        "\n",
        "\n",
        "*   Arithmetic\n",
        "*   Membership\n",
        "*   Loop\n",
        "\n",
        "\n"
      ],
      "metadata": {
        "id": "yV56B22PZgBF"
      }
    },
    {
      "cell_type": "code",
      "source": [
        "L1 = [1,2,3,4]\n",
        "L2 = [5,6,7]\n",
        "L3 = [4,7,8]\n",
        "\n",
        "# concetanation / Merging\n",
        "print(L1+L3)\n"
      ],
      "metadata": {
        "colab": {
          "base_uri": "https://localhost:8080/"
        },
        "id": "lENpxGWPZZ91",
        "outputId": "23362baf-46ec-4e37-c007-01ff4c7027fc"
      },
      "execution_count": null,
      "outputs": [
        {
          "output_type": "stream",
          "name": "stdout",
          "text": [
            "[1, 2, 3, 4, 4, 7, 8]\n"
          ]
        }
      ]
    },
    {
      "cell_type": "code",
      "source": [
        "print(L1*3)"
      ],
      "metadata": {
        "colab": {
          "base_uri": "https://localhost:8080/"
        },
        "id": "o-xhHY3-Z5bp",
        "outputId": "006f8bb0-8be0-4805-d6ca-4b7777ad43a2"
      },
      "execution_count": null,
      "outputs": [
        {
          "output_type": "stream",
          "name": "stdout",
          "text": [
            "[1, 2, 3, 4, 1, 2, 3, 4, 1, 2, 3, 4]\n"
          ]
        }
      ]
    },
    {
      "cell_type": "code",
      "source": [
        "# Memebership\n",
        "L1 = [1,2,3,4,5]\n",
        "L2 = [1,2,3,4,5,[6,7]]\n",
        "\n",
        "print(5 in L1)\n",
        "print(5 not in L2)\n",
        "\n",
        "print(6 in L2)"
      ],
      "metadata": {
        "colab": {
          "base_uri": "https://localhost:8080/"
        },
        "id": "8uumCW24aFdp",
        "outputId": "4b43f579-ba54-4f8f-8bfc-dc4e2a1a5a64"
      },
      "execution_count": null,
      "outputs": [
        {
          "output_type": "stream",
          "name": "stdout",
          "text": [
            "True\n",
            "False\n",
            "False\n"
          ]
        }
      ]
    },
    {
      "cell_type": "code",
      "source": [
        "L1 = [1,2,3,4,5]\n",
        "L2 = [1,2,3,4,5,[6,7]]\n",
        "\n",
        "for i in L1:\n",
        "  print(i,end=' ')\n",
        "print()\n",
        "for i in L2:\n",
        "  print(i,end=' ')"
      ],
      "metadata": {
        "colab": {
          "base_uri": "https://localhost:8080/"
        },
        "id": "BXTBKlvNagbz",
        "outputId": "fa2d1bb4-fe4b-45b9-e359-acf7b8f8d971"
      },
      "execution_count": null,
      "outputs": [
        {
          "output_type": "stream",
          "name": "stdout",
          "text": [
            "1 2 3 4 5 \n",
            "1 2 3 4 5 [6, 7] "
          ]
        }
      ]
    },
    {
      "cell_type": "markdown",
      "source": [
        "**List Functions**"
      ],
      "metadata": {
        "id": "vysEHZH8auQu"
      }
    },
    {
      "cell_type": "code",
      "source": [
        "# len/min/max/sorted\n",
        "\n",
        "L = [4,2,7,5,1]\n",
        "print(len(L))\n",
        "print(min(L))\n",
        "print(max(L))\n",
        "print(sorted(L))\n",
        "print(sorted(L,reverse=True))"
      ],
      "metadata": {
        "colab": {
          "base_uri": "https://localhost:8080/"
        },
        "id": "CFXsikjVakO3",
        "outputId": "a1ee735b-16c1-43ab-abcf-72f4fd515736"
      },
      "execution_count": null,
      "outputs": [
        {
          "output_type": "stream",
          "name": "stdout",
          "text": [
            "5\n",
            "1\n",
            "7\n",
            "[1, 2, 4, 5, 7]\n",
            "[7, 5, 4, 2, 1]\n"
          ]
        }
      ]
    },
    {
      "cell_type": "code",
      "source": [
        "# count\n",
        "L = [1,2,1,3,4,1,5]\n",
        "print(L.count(1))\n",
        "print(L.count(5))\n",
        "print(L.count(10))"
      ],
      "metadata": {
        "colab": {
          "base_uri": "https://localhost:8080/"
        },
        "id": "IFpLuwDdbwrv",
        "outputId": "59205a76-4389-414e-a2c4-686faddac0b2"
      },
      "execution_count": null,
      "outputs": [
        {
          "output_type": "stream",
          "name": "stdout",
          "text": [
            "3\n",
            "1\n",
            "0\n"
          ]
        }
      ]
    },
    {
      "cell_type": "code",
      "source": [
        "# index\n",
        "L = [1,2,1,3,4,1,5]\n",
        "print(L.index(1))\n",
        "\n",
        "# finds the index of the first occurrence of the value 1 in the list L within the specified range [2, 3) (start and end indices).\n",
        "print(L.index(1,-4,-1))"
      ],
      "metadata": {
        "colab": {
          "base_uri": "https://localhost:8080/"
        },
        "id": "SOBTnyAub_1k",
        "outputId": "88631304-be82-44bb-f879-35b986db2c9e"
      },
      "execution_count": null,
      "outputs": [
        {
          "output_type": "stream",
          "name": "stdout",
          "text": [
            "0\n",
            "5\n"
          ]
        }
      ]
    },
    {
      "cell_type": "code",
      "source": [
        "# reverse\n",
        "L = [1,2,3,4,5]\n",
        "# it permamently reverses the list\n",
        "L.reverse()\n",
        "print(L)"
      ],
      "metadata": {
        "colab": {
          "base_uri": "https://localhost:8080/"
        },
        "id": "BpqiFoRAcGoo",
        "outputId": "8520d660-94e8-4f1d-a70b-0c639f40f972"
      },
      "execution_count": null,
      "outputs": [
        {
          "output_type": "stream",
          "name": "stdout",
          "text": [
            "[5, 4, 3, 2, 1]\n"
          ]
        }
      ]
    },
    {
      "cell_type": "code",
      "source": [
        "# sort (vs sorted) -- sort is permanent and sorted is not permanent\n",
        "L = [2,6,3,5,7,1]\n",
        "sorted(L)\n",
        "print(L)\n",
        "L.sort()\n",
        "print(L)\n"
      ],
      "metadata": {
        "colab": {
          "base_uri": "https://localhost:8080/"
        },
        "id": "8JEuhAP9daMC",
        "outputId": "a6c8eec5-8b8f-4f30-c348-3b294c3c34ab"
      },
      "execution_count": null,
      "outputs": [
        {
          "output_type": "stream",
          "name": "stdout",
          "text": [
            "[2, 6, 3, 5, 7, 1]\n",
            "[1, 2, 3, 5, 6, 7]\n"
          ]
        }
      ]
    },
    {
      "cell_type": "code",
      "source": [
        "# copy -> Shallow\n",
        "L = [2,6,3,5,7,1]\n",
        "print(L)\n",
        "print(id(L))\n",
        "L1 = L.copy()\n",
        "print(L1)\n",
        "print(id(L1))"
      ],
      "metadata": {
        "colab": {
          "base_uri": "https://localhost:8080/"
        },
        "id": "cbITjr32dqSu",
        "outputId": "9b8180b0-125e-4f62-ef77-1cc2f8cd3fad"
      },
      "execution_count": null,
      "outputs": [
        {
          "output_type": "stream",
          "name": "stdout",
          "text": [
            "[2, 6, 3, 5, 7, 1]\n",
            "133348733558720\n",
            "[2, 6, 3, 5, 7, 1]\n",
            "133347817627008\n"
          ]
        }
      ]
    },
    {
      "cell_type": "markdown",
      "source": [
        "**List Comprehension:**\n",
        "\n",
        "It provides concise way of creating lists:"
      ],
      "metadata": {
        "id": "yR9TxauleGmO"
      }
    },
    {
      "cell_type": "markdown",
      "source": [
        "![tempaor.jpg](data:image/jpeg;base64,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)"
      ],
      "metadata": {
        "id": "LgDzktaWfKVj"
      }
    },
    {
      "cell_type": "markdown",
      "source": [
        "![tempaor 22.jpg](data:image/jpeg;base64,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)"
      ],
      "metadata": {
        "id": "0tOHgv1YgHUD"
      }
    },
    {
      "cell_type": "code",
      "source": [
        "# Add 1 to 10 to a List\n",
        "L = []\n",
        "for i in range(1,11):\n",
        "  L.append(i)\n",
        "print(L)"
      ],
      "metadata": {
        "colab": {
          "base_uri": "https://localhost:8080/"
        },
        "id": "k76ZIECceBe1",
        "outputId": "66d1abe4-e8d1-4158-ec8a-bd63452b552b"
      },
      "execution_count": null,
      "outputs": [
        {
          "output_type": "stream",
          "name": "stdout",
          "text": [
            "[1, 2, 3, 4, 5, 6, 7, 8, 9, 10]\n"
          ]
        }
      ]
    },
    {
      "cell_type": "code",
      "source": [
        "L = [i for i in range(1,11)]\n",
        "print(L)"
      ],
      "metadata": {
        "colab": {
          "base_uri": "https://localhost:8080/"
        },
        "id": "YyhAa4s7gg-o",
        "outputId": "86c8600d-3f84-4a71-a81e-e29c41fe5f77"
      },
      "execution_count": null,
      "outputs": [
        {
          "output_type": "stream",
          "name": "stdout",
          "text": [
            "[1, 2, 3, 4, 5, 6, 7, 8, 9, 10]\n"
          ]
        }
      ]
    },
    {
      "cell_type": "code",
      "source": [
        "# Scalar multiplication on a vector\n",
        "v = [2,3,4]\n",
        "s = -3\n",
        "[s*i for i in v]"
      ],
      "metadata": {
        "colab": {
          "base_uri": "https://localhost:8080/"
        },
        "id": "GjXM9A97gmrp",
        "outputId": "4bd684de-be1a-4cc8-9203-648d95879143"
      },
      "execution_count": null,
      "outputs": [
        {
          "output_type": "execute_result",
          "data": {
            "text/plain": [
              "[-6, -9, -12]"
            ]
          },
          "metadata": {},
          "execution_count": 89
        }
      ]
    },
    {
      "cell_type": "code",
      "source": [
        "# Add squares to the list\n",
        "L = [1,2,3,4,5]\n",
        "L2 = [i**2 for i in L]\n",
        "print(L2)"
      ],
      "metadata": {
        "colab": {
          "base_uri": "https://localhost:8080/"
        },
        "id": "64QHCtNGhGP8",
        "outputId": "01ad30b5-43a5-4b8a-9f4c-ac43dcd7d4e9"
      },
      "execution_count": null,
      "outputs": [
        {
          "output_type": "stream",
          "name": "stdout",
          "text": [
            "[1, 4, 9, 16, 25]\n"
          ]
        }
      ]
    },
    {
      "cell_type": "code",
      "source": [
        "# Print all numbers divisible by 5 in range of 1 to 50\n",
        "new_list = [i for i in range(1,51) if i % 5 == 0]\n",
        "print(new_list)"
      ],
      "metadata": {
        "colab": {
          "base_uri": "https://localhost:8080/"
        },
        "id": "ZB7J-jr6hlEF",
        "outputId": "1570aedf-5b55-4f90-d765-8dfae5b18485"
      },
      "execution_count": null,
      "outputs": [
        {
          "output_type": "stream",
          "name": "stdout",
          "text": [
            "[5, 10, 15, 20, 25, 30, 35, 40, 45, 50]\n"
          ]
        }
      ]
    },
    {
      "cell_type": "code",
      "source": [
        "# find languages that starts with p\n",
        "languages = ['jave', 'python', 'php', 'c', 'javascript']\n",
        "[language for language in languages if language.startswith('p')]"
      ],
      "metadata": {
        "colab": {
          "base_uri": "https://localhost:8080/"
        },
        "id": "Mqrjp4pUh8qG",
        "outputId": "d737a981-1fa4-4490-fc67-5f206a36edc0"
      },
      "execution_count": null,
      "outputs": [
        {
          "output_type": "execute_result",
          "data": {
            "text/plain": [
              "['python', 'php']"
            ]
          },
          "metadata": {},
          "execution_count": 6
        }
      ]
    },
    {
      "cell_type": "code",
      "source": [
        "# Nested if with list comprehension\n",
        "basket = ['apple','guave','cherry','banana']\n",
        "my_fruits = ['apple','kiwi','pears','banana','grapes']\n",
        "\n",
        "# add a new list from my_fruits and items if the fruit exists in basket and also starts with 'a'\n",
        "\n",
        "[fruit for fruit in my_fruits if fruit in basket if fruit.startswith('a')]"
      ],
      "metadata": {
        "colab": {
          "base_uri": "https://localhost:8080/"
        },
        "id": "Ir1kObx2Mgqp",
        "outputId": "67f1d263-cfea-4054-fa5a-75e4ca310d24"
      },
      "execution_count": null,
      "outputs": [
        {
          "output_type": "execute_result",
          "data": {
            "text/plain": [
              "['apple']"
            ]
          },
          "metadata": {},
          "execution_count": 9
        }
      ]
    },
    {
      "cell_type": "code",
      "source": [
        "[[i*j for i in range(1,4)] for j in range(1,4)]"
      ],
      "metadata": {
        "colab": {
          "base_uri": "https://localhost:8080/"
        },
        "id": "TbPkrVOJOENL",
        "outputId": "061dbd41-a2df-47e3-c8bd-7db46d833d87"
      },
      "execution_count": null,
      "outputs": [
        {
          "output_type": "execute_result",
          "data": {
            "text/plain": [
              "[[1, 2, 3], [2, 4, 6], [3, 6, 9]]"
            ]
          },
          "metadata": {},
          "execution_count": 11
        }
      ]
    },
    {
      "cell_type": "markdown",
      "source": [
        "**Two ways to traverse list**\n",
        "\n",
        "\n",
        "*   Itemwise\n",
        "*   Indexwise\n",
        "\n"
      ],
      "metadata": {
        "id": "OYk1sQMUO_yM"
      }
    },
    {
      "cell_type": "code",
      "source": [
        "# itemwise\n",
        "L= [1,2,3,4,5]\n",
        "for i in L:\n",
        "  print(i,end=' ')"
      ],
      "metadata": {
        "colab": {
          "base_uri": "https://localhost:8080/"
        },
        "id": "QKwK6S01OmpW",
        "outputId": "259472a0-f73b-431e-8153-e46df6cf3330"
      },
      "execution_count": null,
      "outputs": [
        {
          "output_type": "stream",
          "name": "stdout",
          "text": [
            "1 2 3 4 5 "
          ]
        }
      ]
    },
    {
      "cell_type": "code",
      "source": [
        "# indexwise\n",
        "L= [1,2,3,4,5]\n",
        "for i in range(0,len(L)):\n",
        "  print(L[i],end=' ')"
      ],
      "metadata": {
        "colab": {
          "base_uri": "https://localhost:8080/"
        },
        "id": "J2ctknN8Pf8X",
        "outputId": "effe0f43-1b63-483c-a371-ae04874ca635"
      },
      "execution_count": null,
      "outputs": [
        {
          "output_type": "stream",
          "name": "stdout",
          "text": [
            "1 2 3 4 5 "
          ]
        }
      ]
    },
    {
      "cell_type": "markdown",
      "source": [
        "**Zip**\n",
        "\n",
        "Zip is used for index by index addition of two lists"
      ],
      "metadata": {
        "id": "iRZJDClxP1EL"
      }
    },
    {
      "cell_type": "code",
      "source": [
        "L1 = [1,2,3,4]\n",
        "L2 = [-1,-2,-3,-4]\n",
        "\n",
        "list(zip(L1,L2))\n",
        "\n",
        "print([i for i in zip(L1,L2)])\n",
        "\n",
        "[i+j for i,j in zip(L1,L2)]"
      ],
      "metadata": {
        "colab": {
          "base_uri": "https://localhost:8080/"
        },
        "id": "v8uPb7lqPm45",
        "outputId": "f095ec5b-901f-478e-c815-9f52bc3b2f17"
      },
      "execution_count": null,
      "outputs": [
        {
          "output_type": "stream",
          "name": "stdout",
          "text": [
            "[(1, -1), (2, -2), (3, -3), (4, -4)]\n"
          ]
        },
        {
          "output_type": "execute_result",
          "data": {
            "text/plain": [
              "[0, 0, 0, 0]"
            ]
          },
          "metadata": {},
          "execution_count": 20
        }
      ]
    },
    {
      "cell_type": "code",
      "source": [
        "# we can store any kind of objects in list including the build in functions\n",
        "L = [1,2, print, type, input]\n",
        "\n",
        "print(L)"
      ],
      "metadata": {
        "colab": {
          "base_uri": "https://localhost:8080/"
        },
        "id": "1TDbYxPzQcah",
        "outputId": "45fea370-becd-40fd-88b5-7f44b320a11e"
      },
      "execution_count": null,
      "outputs": [
        {
          "output_type": "stream",
          "name": "stdout",
          "text": [
            "[1, 2, <built-in function print>, <class 'type'>, <bound method Kernel.raw_input of <google.colab._kernel.Kernel object at 0x7e52f363e0e0>>]\n"
          ]
        }
      ]
    },
    {
      "cell_type": "markdown",
      "source": [
        "**Disadvantages of Python List**\n",
        "\n",
        "\n",
        "\n",
        "*   Slow\n",
        "*   Risky Usage\n",
        "*   Eats up more memory\n",
        "\n",
        "\n"
      ],
      "metadata": {
        "id": "Nw4FgKCDRUV5"
      }
    },
    {
      "cell_type": "code",
      "source": [
        "a = [1,2,3]\n",
        "b = a\n",
        "\n",
        "print(a)\n",
        "print(b)\n",
        "\n",
        "a.append(4)\n",
        "\n",
        "print(a)\n",
        "print(b)\n",
        "\n",
        "print('________________________________________')\n",
        "print()\n",
        "\n",
        "# since we haven't made any changes in b but it is appended because python list mutable and they point to same memory address\n",
        "# The possible solution for this problem is to use copy function\n",
        "\n",
        "a = [1,2,3]\n",
        "b = a.copy()\n",
        "\n",
        "print(a)\n",
        "print(b)\n",
        "\n",
        "a.append(4)\n",
        "\n",
        "print(a)\n",
        "print(b)\n"
      ],
      "metadata": {
        "colab": {
          "base_uri": "https://localhost:8080/"
        },
        "id": "lAlUdW4YRIfI",
        "outputId": "7815a0ac-7711-47e3-9a69-184d0edc7119"
      },
      "execution_count": null,
      "outputs": [
        {
          "output_type": "stream",
          "name": "stdout",
          "text": [
            "[1, 2, 3]\n",
            "[1, 2, 3]\n",
            "[1, 2, 3, 4]\n",
            "[1, 2, 3, 4]\n",
            "________________________________________\n",
            "\n",
            "[1, 2, 3]\n",
            "[1, 2, 3]\n",
            "[1, 2, 3, 4]\n",
            "[1, 2, 3]\n"
          ]
        }
      ]
    },
    {
      "cell_type": "code",
      "source": [],
      "metadata": {
        "id": "FVVNQ7A-R4qk"
      },
      "execution_count": null,
      "outputs": []
    },
    {
      "cell_type": "markdown",
      "source": [
        "**Problems:**"
      ],
      "metadata": {
        "id": "ZVBQX27zMZas"
      }
    },
    {
      "cell_type": "markdown",
      "source": [
        "**Combine two lists index-wise(columns wise)**\n",
        "\n",
        "\n",
        "Write a program to add two lists index-wise. Create a new list that contains the 0th index item from both the list, then the 1st index item, and so on till the last element. any leftover items will get added at the end of the new list."
      ],
      "metadata": {
        "id": "88e7B-e_0tLU"
      }
    },
    {
      "cell_type": "code",
      "source": [
        "list1 = [\"M\", \"na\", \"i\", \"Kh\"]\n",
        "list2 = [\"y\", \"me\", \"s\", \"an\"]\n",
        "\n",
        "length = max(len(list1), len(list2))\n",
        "\n",
        "new_list = []\n",
        "\n",
        "for i in range(length):\n",
        "    # Create a sublist with elements from list1[i] and list2[i]\n",
        "    sub_list = [list1[i], list2[i]]\n",
        "    # Append the sublist to new_list\n",
        "    new_list.append(sub_list)\n",
        "\n",
        "print(new_list)\n"
      ],
      "metadata": {
        "colab": {
          "base_uri": "https://localhost:8080/"
        },
        "id": "JE54yLo_McMK",
        "outputId": "6bfa82dc-ce69-4547-a539-23e1340c25fe"
      },
      "execution_count": null,
      "outputs": [
        {
          "output_type": "stream",
          "name": "stdout",
          "text": [
            "[['M', 'y'], ['na', 'me'], ['i', 's'], ['Kh', 'an']]\n"
          ]
        }
      ]
    },
    {
      "cell_type": "code",
      "source": [
        "# Write a program to add item 7000 after 6000 in the following Python List\n",
        "list1 = [10, 20, [300, 400, [5000, 6000], 500], 30, 40]\n",
        "list1[2][2].insert(2,7000)\n",
        "list1"
      ],
      "metadata": {
        "id": "T7CLqZwHRxI_",
        "colab": {
          "base_uri": "https://localhost:8080/"
        },
        "outputId": "b259229e-4ad7-4a17-8d46-4c0c2b5f3994"
      },
      "execution_count": null,
      "outputs": [
        {
          "output_type": "execute_result",
          "data": {
            "text/plain": [
              "[10, 20, [300, 400, [5000, 6000, 7000], 500], 30, 40]"
            ]
          },
          "metadata": {},
          "execution_count": 4
        }
      ]
    },
    {
      "cell_type": "code",
      "source": [
        "candy_list = ['Jelly Belly','Kit Kat','Double Bubble','Milky Way','Three Musketeers']\n",
        "no_of_items = [10,20,34,74,32]\n",
        "\n",
        "for i in range(len(candy_list)):\n",
        "  print(candy_list[i],'-',no_of_items[i])"
      ],
      "metadata": {
        "colab": {
          "base_uri": "https://localhost:8080/"
        },
        "id": "5rCyvlf81A0R",
        "outputId": "04f2eeea-0c95-4b5d-dc35-08d2841b8a63"
      },
      "execution_count": null,
      "outputs": [
        {
          "output_type": "stream",
          "name": "stdout",
          "text": [
            "Jelly Belly - 10\n",
            "Kit Kat - 20\n",
            "Double Bubble - 34\n",
            "Milky Way - 74\n",
            "Three Musketeers - 32\n"
          ]
        }
      ]
    },
    {
      "cell_type": "code",
      "source": [
        "# Write a program to print a list after performing running sum on it.\n",
        "list1 = [1,2,3,4,5,6]\n",
        "new_list = []\n",
        "sum = 0\n",
        "for i in list1:\n",
        "  sum += i\n",
        "  new_list.append(sum)\n",
        "\n",
        "new_list"
      ],
      "metadata": {
        "colab": {
          "base_uri": "https://localhost:8080/"
        },
        "id": "OHKmQ-lo1RQe",
        "outputId": "d174933d-600b-4d87-cb7b-e65cd473746f"
      },
      "execution_count": null,
      "outputs": [
        {
          "output_type": "execute_result",
          "data": {
            "text/plain": [
              "[1, 3, 6, 10, 15, 21]"
            ]
          },
          "metadata": {},
          "execution_count": 10
        }
      ]
    },
    {
      "cell_type": "markdown",
      "source": [
        "You are given a list of integers. You are asked to make a list by running through elements of the list by adding all elements greater and itself.\n",
        "\n",
        "\n",
        "\n",
        "i.e. Say given list is [2,4,6,10,1] resultant list will be [22,20,10,23].\n",
        "\n",
        "For 1st element 2 ->> these are greater (4+6+10) values and 2 itself so on adding becomes 22.\n",
        "\n",
        "For 2nd element 4 ->> greater elements are (6, 10) and 4 itself, so on adding 20\n",
        "\n",
        "like wise for all other elememts.\n",
        "\n",
        "[2,4,6,10,1]-->[22,20,16,10,23]"
      ],
      "metadata": {
        "id": "KMwYaiWP4F4L"
      }
    },
    {
      "cell_type": "code",
      "source": [
        "list1 = [2,4,6,10,1]\n",
        "\n",
        "L = len(list1)\n",
        "new_list = []\n",
        "# partial_sum = 0\n",
        "\n",
        "for i in range(L):\n",
        "  partial_sum = 0\n",
        "  for j in range(L):\n",
        "    if list1[j] >= list1[i]:\n",
        "      partial_sum += list1[j]\n",
        "  new_list.append(partial_sum)\n",
        "\n",
        "new_list"
      ],
      "metadata": {
        "colab": {
          "base_uri": "https://localhost:8080/"
        },
        "id": "gcGMbIrB2Eg1",
        "outputId": "25fc2d2b-d422-4035-b5c8-736dced399d9"
      },
      "execution_count": null,
      "outputs": [
        {
          "output_type": "execute_result",
          "data": {
            "text/plain": [
              "[22, 20, 16, 10, 23]"
            ]
          },
          "metadata": {},
          "execution_count": 14
        }
      ]
    },
    {
      "cell_type": "markdown",
      "source": [
        "Sort a list of alphanumeric strings based on product value of numeric character in it. If in any string there is no numeric character take it's product value as 1."
      ],
      "metadata": {
        "id": "OAV9jslx_zuf"
      }
    },
    {
      "cell_type": "code",
      "source": [
        "list1 = ['1ac21', '23fg', '456', '098d','1','kls']\n",
        "#   \t    2       6       120      0    1    1\n",
        "# ['456', '23fg', '1ac21', '1', 'kls', '098d']\n",
        "\n",
        "new_list = []\n",
        "\n",
        "for i in list1:\n",
        "  product = 1\n",
        "  for j in i:\n",
        "    if j.isdigit():\n",
        "      product *= int(j)\n",
        "  new_list.append(product)\n",
        "\n",
        "n = len(list1)\n",
        "\n",
        "for i in range(n):\n",
        "  for j in range(0,n-i-1):\n",
        "    if new_list[j] < new_list[j+1]:\n",
        "      new_list[j], new_list[j+1] = new_list[j+1], new_list[j]\n",
        "      list1[j], list1[j+1] = list1[j+1], list1[j]\n",
        "\n",
        "print(new_list)\n",
        "print(list1)"
      ],
      "metadata": {
        "colab": {
          "base_uri": "https://localhost:8080/"
        },
        "id": "CQMI1XRe3ReR",
        "outputId": "9653d0fe-7412-48f1-a7b3-107e4bf4a1da"
      },
      "execution_count": null,
      "outputs": [
        {
          "output_type": "stream",
          "name": "stdout",
          "text": [
            "[120, 6, 2, 1, 1, 0]\n",
            "['456', '23fg', '1ac21', '1', 'kls', '098d']\n"
          ]
        }
      ]
    },
    {
      "cell_type": "code",
      "source": [
        "# Split String of list on K character.\n",
        "list1 = ['CampusX is a channel', 'for data-science', 'aspirants.']\n",
        "new_list = []\n",
        "n = len(list1)\n",
        "for i in range(n):\n",
        "  new_list += list1[i].split()\n",
        "new_list"
      ],
      "metadata": {
        "colab": {
          "base_uri": "https://localhost:8080/"
        },
        "id": "deMkz8FiAAWC",
        "outputId": "e7e9dcc2-514c-4342-8cf6-0c207eb7ef05"
      },
      "execution_count": null,
      "outputs": [
        {
          "output_type": "execute_result",
          "data": {
            "text/plain": [
              "['CampusX', 'is', 'a', 'channel', 'for', 'data-science', 'aspirants.']"
            ]
          },
          "metadata": {},
          "execution_count": 52
        }
      ]
    },
    {
      "cell_type": "code",
      "source": [
        "# Convert Character Matrix to single String using string comprehension.\n",
        "list1 = [['c', 'a', 'm', 'p', 'u', 's','x'], ['i', 's'], ['b', 'e', 's', 't'], ['c', 'h', 'a', 'n', 'n', 'e', 'l']]\n",
        "for i in range(len(list1)):\n",
        "  print(''.join(list1[i]),end=' ')"
      ],
      "metadata": {
        "colab": {
          "base_uri": "https://localhost:8080/"
        },
        "id": "wbptkjr3BGpf",
        "outputId": "b766e513-7e68-4d65-b31b-7fb79ff88932"
      },
      "execution_count": null,
      "outputs": [
        {
          "output_type": "stream",
          "name": "stdout",
          "text": [
            "campusx is best channel "
          ]
        }
      ]
    },
    {
      "cell_type": "markdown",
      "source": [
        "**# Add Space between Potential Words.**"
      ],
      "metadata": {
        "id": "BHqVcuIw9o86"
      }
    },
    {
      "cell_type": "code",
      "source": [
        "# Add Space between Potential Words. -- Using an Extra List\n",
        "list1 = ['campusxIs', 'bestFor', 'dataScientist']\n",
        "\n",
        "new_list = []\n",
        "\n",
        "for word in list1:\n",
        "  new_string = ''\n",
        "  for char in word:\n",
        "    if 'A' <= char <= 'Z':\n",
        "      new_string += ' ' + char\n",
        "    else:\n",
        "      new_string += char\n",
        "  new_list.append(new_string)\n",
        "\n",
        "print(new_list)\n"
      ],
      "metadata": {
        "id": "fjchm2oBCx2p",
        "colab": {
          "base_uri": "https://localhost:8080/"
        },
        "outputId": "f53625df-adab-475d-8f94-522402ff732c"
      },
      "execution_count": null,
      "outputs": [
        {
          "output_type": "stream",
          "name": "stdout",
          "text": [
            "['campusx Is', 'best For', 'data Scientist']\n"
          ]
        }
      ]
    },
    {
      "cell_type": "code",
      "source": [
        "# In current existing list\n",
        "\n",
        "list1 = ['campusxIs', 'bestFor', 'dataScientist']\n",
        "\n",
        "n = len(list1)\n",
        "new_list = []\n",
        "\n",
        "for i in range(n):\n",
        "  new_string = ''\n",
        "  for j in list1[i]:\n",
        "    if ord(j) >= 65  and ord(j) <= 90:\n",
        "      new_string += ' ' + j\n",
        "    else:\n",
        "      new_string += j\n",
        "  list1[i] = new_string\n",
        "\n",
        "list1\n",
        "\n"
      ],
      "metadata": {
        "colab": {
          "base_uri": "https://localhost:8080/"
        },
        "id": "hd5-OZJ53TAA",
        "outputId": "a9f41ac7-d920-47a1-90af-cd569279b128"
      },
      "execution_count": null,
      "outputs": [
        {
          "output_type": "execute_result",
          "data": {
            "text/plain": [
              "['campusx Is', 'best For', 'data Scientist']"
            ]
          },
          "metadata": {},
          "execution_count": 47
        }
      ]
    },
    {
      "cell_type": "markdown",
      "source": [
        "**Union of two lists**"
      ],
      "metadata": {
        "id": "lpjbanxzaN2U"
      }
    },
    {
      "cell_type": "code",
      "source": [
        "a = [1,2,3,4,5,1]\n",
        "b = [2,3,5,7,8]\n",
        "\n",
        "for i in a:\n",
        "  if i not in b:\n",
        "    b.append(i)\n",
        "  else:\n",
        "    continue\n",
        "b.sort()\n",
        "print(b)"
      ],
      "metadata": {
        "colab": {
          "base_uri": "https://localhost:8080/"
        },
        "id": "MXgbaGXZ83O-",
        "outputId": "7d39d883-3c61-436b-d938-fc0d47a7898d"
      },
      "execution_count": null,
      "outputs": [
        {
          "output_type": "stream",
          "name": "stdout",
          "text": [
            "[1, 2, 3, 4, 5, 7, 8]\n"
          ]
        }
      ]
    },
    {
      "cell_type": "markdown",
      "source": [
        " Write a program that can find the max number of each row of a matrix"
      ],
      "metadata": {
        "id": "oxJyjKAXhlpx"
      }
    },
    {
      "cell_type": "code",
      "source": [
        "matrix = [[1,2,3],[4,5,6],[7,8,9]]\n",
        "a = [max(row) for row in matrix]\n",
        "print(a)"
      ],
      "metadata": {
        "colab": {
          "base_uri": "https://localhost:8080/"
        },
        "id": "DgsFQDmuZF22",
        "outputId": "5a944ca8-2599-46b7-b06d-3cc7db6db860"
      },
      "execution_count": null,
      "outputs": [
        {
          "output_type": "stream",
          "name": "stdout",
          "text": [
            "[3, 6, 9]\n"
          ]
        }
      ]
    },
    {
      "cell_type": "code",
      "source": [
        "matrix = [[1,2,3],[4,5,6],[7,8,9]]\n",
        "new_list = []\n",
        "for i in matrix:\n",
        "  temp = 0\n",
        "  a = max(i)\n",
        "  new_list.append(a)\n",
        "new_list"
      ],
      "metadata": {
        "colab": {
          "base_uri": "https://localhost:8080/"
        },
        "id": "l1d1YsgsabOV",
        "outputId": "0b50e235-df0d-44c1-b19d-0161731be4c4"
      },
      "execution_count": null,
      "outputs": [
        {
          "output_type": "execute_result",
          "data": {
            "text/plain": [
              "[3, 6, 9]"
            ]
          },
          "metadata": {},
          "execution_count": 36
        }
      ]
    },
    {
      "cell_type": "markdown",
      "source": [
        "Write a list comprehension to print the following matrix\n",
        "\n",
        "[[0, 1, 2], [3, 4, 5], [6, 7, 8]]"
      ],
      "metadata": {
        "id": "JAbqe7xDw4rs"
      }
    },
    {
      "cell_type": "code",
      "source": [
        "[[i+j for j in range(3)] for i in range(0,9,3)]"
      ],
      "metadata": {
        "colab": {
          "base_uri": "https://localhost:8080/"
        },
        "id": "E5-cSfJHiDrM",
        "outputId": "d0c0de04-9c6c-48aa-88b2-acd912b13f28"
      },
      "execution_count": null,
      "outputs": [
        {
          "output_type": "execute_result",
          "data": {
            "text/plain": [
              "[[0, 1, 2], [3, 4, 5], [6, 7, 8]]"
            ]
          },
          "metadata": {},
          "execution_count": 50
        }
      ]
    },
    {
      "cell_type": "markdown",
      "source": [
        "Write a list comprehension that can transpose a given matrix\n",
        "\n",
        "\n",
        "matrix =\n",
        "\n",
        "[\n",
        "[1,2,3],\n",
        "\n",
        "[4,5,6],\n",
        "\n",
        "[7,8,9]\n",
        "]\n",
        "\n",
        "\n",
        "\n",
        "\n",
        "\n",
        "\n",
        "\n",
        "Transpose of the Matrix is:\n",
        "\n",
        "[1, 4, 7]\n",
        "\n",
        "\n",
        "[2, 5, 8]\n",
        "\n",
        "\n",
        "[3, 6, 9]"
      ],
      "metadata": {
        "id": "VrtYaLklw-CU"
      }
    },
    {
      "cell_type": "code",
      "source": [
        "matrix = [\n",
        "[1,2,3],\n",
        "[4,5,6],\n",
        "[7,8,9]\n",
        "]\n",
        "\n",
        "transpose = [[matrix[j][i] for j in range(len(matrix))] for i in range(len(matrix[0]))]\n",
        "\n",
        "print(transpose)"
      ],
      "metadata": {
        "colab": {
          "base_uri": "https://localhost:8080/"
        },
        "id": "FAJeIzaup4Sx",
        "outputId": "b90172c9-353a-4900-87aa-afa9e095bda2"
      },
      "execution_count": null,
      "outputs": [
        {
          "output_type": "stream",
          "name": "stdout",
          "text": [
            "[[1, 4, 7], [2, 5, 8], [3, 6, 9]]\n"
          ]
        }
      ]
    },
    {
      "cell_type": "markdown",
      "source": [
        " Write a list comprehension that can flatten a nested list\n",
        "\n",
        "\n",
        "matrix =\n",
        "\n",
        "[\n",
        "[1,2,3],\n",
        "\n",
        "[4,5,6],\n",
        "\n",
        "[7,8,9]]\n",
        "\n",
        "Output:\n",
        "[1, 2, 3, 4, 5, 6, 7, 8, 9]"
      ],
      "metadata": {
        "id": "FEj9_PrKze9x"
      }
    },
    {
      "cell_type": "code",
      "source": [
        "matrix = [\n",
        "[1,2,3],\n",
        "[4,5,6],\n",
        "[7,8,9]\n",
        "]\n",
        "\n",
        "flatten = [item for sublist in matrix for item in sublist]\n",
        "\n",
        "print(flatten)"
      ],
      "metadata": {
        "colab": {
          "base_uri": "https://localhost:8080/"
        },
        "id": "Pk-Za43ExWcp",
        "outputId": "865fd3b8-f354-45a6-abea-7a0f3c27fc3e"
      },
      "execution_count": null,
      "outputs": [
        {
          "output_type": "stream",
          "name": "stdout",
          "text": [
            "[1, 2, 3, 4, 5, 6, 7, 8, 9]\n"
          ]
        }
      ]
    },
    {
      "cell_type": "code",
      "source": [],
      "metadata": {
        "id": "U8FRclNyySgF"
      },
      "execution_count": null,
      "outputs": []
    }
  ]
}