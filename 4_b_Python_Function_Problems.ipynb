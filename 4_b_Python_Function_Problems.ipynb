{
  "nbformat": 4,
  "nbformat_minor": 0,
  "metadata": {
    "colab": {
      "provenance": [],
      "authorship_tag": "ABX9TyN9SVWHRSMYGeO72X3/xpse",
      "include_colab_link": true
    },
    "kernelspec": {
      "name": "python3",
      "display_name": "Python 3"
    },
    "language_info": {
      "name": "python"
    }
  },
  "cells": [
    {
      "cell_type": "markdown",
      "metadata": {
        "id": "view-in-github",
        "colab_type": "text"
      },
      "source": [
        "<a href=\"https://colab.research.google.com/github/kamilakhtar015/PythonMastery/blob/main/4_b_Python_Function_Problems.ipynb\" target=\"_parent\"><img src=\"https://colab.research.google.com/assets/colab-badge.svg\" alt=\"Open In Colab\"/></a>"
      ]
    },
    {
      "cell_type": "markdown",
      "source": [
        "### **`Problem-1:`** Write a Python function that takes a list and returns a new list with unique elements of the first list.\n",
        "\n",
        "**Exercise 1:**\n",
        "\n",
        "Input:\n",
        "\n",
        "```bash\n",
        "[1,2,3,3,3,3,4,5]\n",
        "```\n",
        "\n",
        "Output:\n",
        "\n",
        "```bash\n",
        "[1, 2, 3, 4, 5]\n",
        "```"
      ],
      "metadata": {
        "id": "LHKo8Q0hvosX"
      }
    },
    {
      "cell_type": "code",
      "source": [
        "def unique_element(L):\n",
        "  new_list = list(set(L))\n",
        "  return new_list\n",
        "\n",
        "#   OR\n",
        "\n",
        "def unique_element01(L):\n",
        "  new_list = []\n",
        "  for i in L:\n",
        "    if i not in new_list:\n",
        "      new_list.append(i)\n",
        "  return new_list\n",
        "\n",
        "L = [1,2,3,3,3,3,4,5]\n",
        "print(\"First Approach \",unique_element(L))\n",
        "print(\"Second Approach \", unique_element01(L))"
      ],
      "metadata": {
        "colab": {
          "base_uri": "https://localhost:8080/"
        },
        "id": "E1fn54xqvrCP",
        "outputId": "7200790e-642a-48aa-80cc-3f2eda1ab253"
      },
      "execution_count": 7,
      "outputs": [
        {
          "output_type": "stream",
          "name": "stdout",
          "text": [
            "First Approach  [1, 2, 3, 4, 5]\n",
            "Second Approach  [1, 2, 3, 4, 5]\n"
          ]
        }
      ]
    },
    {
      "cell_type": "code",
      "source": [],
      "metadata": {
        "id": "jmX6VOFavtHN"
      },
      "execution_count": null,
      "outputs": []
    },
    {
      "cell_type": "markdown",
      "source": [
        "### **`Problem-2:`** Write a Python function that accepts a hyphen-separated sequence of words as parameter and returns the words in a hyphen-separated sequence after sorting them alphabetically.\n",
        "\n",
        "**Example 1:**\n",
        "\n",
        "Input:\n",
        "```bash\n",
        "green-red-yellow-black-white\n",
        "```\n",
        "\n",
        "Output:\n",
        "```bash\n",
        "black-green-red-white-yellow\n",
        "```"
      ],
      "metadata": {
        "id": "QFJpaF35x9Fh"
      }
    },
    {
      "cell_type": "code",
      "source": [
        "def abc(word):\n",
        "  L = word.split('-')\n",
        "  L = sorted(L)\n",
        "  L = \"-\".join(L)\n",
        "  return L\n",
        "\n",
        "word = \"green-red-yellow-black-white\"\n",
        "print(abc(word))"
      ],
      "metadata": {
        "colab": {
          "base_uri": "https://localhost:8080/"
        },
        "id": "MrYadgKdwUmh",
        "outputId": "60a95c38-0869-41aa-abaa-dd7378e24c23"
      },
      "execution_count": 21,
      "outputs": [
        {
          "output_type": "stream",
          "name": "stdout",
          "text": [
            "black-green-red-white-yellow\n"
          ]
        }
      ]
    },
    {
      "cell_type": "code",
      "source": [
        "l1 = \"green-red-yellow-black-white\".split('-')\n",
        "print(l1)\n",
        "l2 = sorted(l1)\n",
        "print(l2)\n",
        "\"-\".join(l2)\n",
        "\n"
      ],
      "metadata": {
        "colab": {
          "base_uri": "https://localhost:8080/",
          "height": 70
        },
        "id": "8LVvEfgIwntK",
        "outputId": "b85253e9-0fae-485a-e2a4-e8342a4a14b6"
      },
      "execution_count": 22,
      "outputs": [
        {
          "output_type": "stream",
          "name": "stdout",
          "text": [
            "['green', 'red', 'yellow', 'black', 'white']\n",
            "['black', 'green', 'red', 'white', 'yellow']\n"
          ]
        },
        {
          "output_type": "execute_result",
          "data": {
            "text/plain": [
              "'black-green-red-white-yellow'"
            ],
            "application/vnd.google.colaboratory.intrinsic+json": {
              "type": "string"
            }
          },
          "metadata": {},
          "execution_count": 22
        }
      ]
    },
    {
      "cell_type": "code",
      "source": [],
      "metadata": {
        "id": "h-h36TYJwqXo"
      },
      "execution_count": null,
      "outputs": []
    },
    {
      "cell_type": "markdown",
      "source": [
        "### **`Problem 3:`** Write a Python function that accepts a string and calculate the number of upper case letters and lower case letters.\n",
        "\n",
        "```\n",
        "Sample String : 'CampusX is an Online Mentorship Program fOr EnginEering studentS.'\n",
        "Expected Output :\n",
        "No. of Upper case characters :  9\n",
        "No. of Lower case Characters :  47\n",
        "```"
      ],
      "metadata": {
        "id": "GBBnMB1U0PcK"
      }
    },
    {
      "cell_type": "code",
      "source": [
        "def count(s):\n",
        "\n",
        "  count_lower = 0\n",
        "  count_upper = 0\n",
        "\n",
        "  for i in s:\n",
        "    if i.isupper():\n",
        "      count_upper += 1\n",
        "    elif i.islower():\n",
        "      count_lower += 1\n",
        "\n",
        "  return count_lower, count_upper\n",
        "\n",
        "sample_string = \"CampusX is an Online Mentorship Program fOr EnginEering studentS.\"\n",
        "\n",
        "count_lower, count_upper = count(sample_string)\n",
        "\n",
        "print(f\"No. of Upper case characters : {count_upper}\")\n",
        "print(f\"No. of Lower case characters : {count_lower}\")"
      ],
      "metadata": {
        "colab": {
          "base_uri": "https://localhost:8080/"
        },
        "id": "eFidR-L0x_DW",
        "outputId": "84355fa6-f794-4955-cf52-d81ad93b81dc"
      },
      "execution_count": 32,
      "outputs": [
        {
          "output_type": "stream",
          "name": "stdout",
          "text": [
            "No. of Upper case characters : 9\n",
            "No. of Lower case characters : 47\n"
          ]
        }
      ]
    },
    {
      "cell_type": "code",
      "source": [],
      "metadata": {
        "id": "mhFpRs_LyTYL"
      },
      "execution_count": null,
      "outputs": []
    },
    {
      "cell_type": "code",
      "source": [],
      "metadata": {
        "id": "5qNHjA0r0hMA"
      },
      "execution_count": null,
      "outputs": []
    },
    {
      "cell_type": "markdown",
      "source": [
        "### **`Problem 4:`** Write a Python program to print the even numbers from a given list.\n",
        "```\n",
        "Sample List : [1, 2, 3, 4, 5, 6, 7, 8, 9]\n",
        "Expected Result : [2, 4, 6, 8]\n",
        "```"
      ],
      "metadata": {
        "id": "1equZPuG0-r4"
      }
    },
    {
      "cell_type": "code",
      "source": [
        "def even(l):\n",
        "  new_list = []\n",
        "  for i in l:\n",
        "    if i % 2 == 0:\n",
        "      new_list.append(i)\n",
        "\n",
        "  return new_list\n",
        "\n",
        "sample_list = [1, 2, 3, 4, 5, 6, 7, 8, 9]\n",
        "print(\"Ouput is : \", even(sample_list))"
      ],
      "metadata": {
        "colab": {
          "base_uri": "https://localhost:8080/"
        },
        "id": "fuI-jx5z0hD7",
        "outputId": "0667d2a3-8f2b-49d3-c251-eec3155ce08e"
      },
      "execution_count": 34,
      "outputs": [
        {
          "output_type": "stream",
          "name": "stdout",
          "text": [
            "Ouput is :  [2, 4, 6, 8]\n"
          ]
        }
      ]
    },
    {
      "cell_type": "code",
      "source": [],
      "metadata": {
        "id": "_n26kZkU08hU"
      },
      "execution_count": null,
      "outputs": []
    },
    {
      "cell_type": "markdown",
      "source": [
        "### **`Problem 5:`** Write a Python function to check whether a number is perfect or not.\n",
        "\n",
        "A Perfect number is a number that is half the sum of all of its positive divisors (including itself).\n",
        "\n",
        "Example :\n",
        "\n",
        "```\n",
        "The first perfect number is 6, because 1, 2, and 3 are its proper positive divisors, and 1 + 2 + 3 = 6.\n",
        "Equivalently, the number 6 is equal to half the sum of all its positive divisors: ( 1 + 2 + 3 + 6 ) / 2 = 6.\n",
        "\n",
        "The next perfect number is 28 = 1 + 2 + 4 + 7 + 14. This is followed by the perfect numbers 496 and 8128.\n",
        "```\n"
      ],
      "metadata": {
        "id": "CIqmjZL94SnR"
      }
    },
    {
      "cell_type": "code",
      "source": [
        "def perfect_number(num):\n",
        "  sum = 0\n",
        "  for i in range(1, (num//2)+1):\n",
        "    if num % i == 0:\n",
        "      sum += i\n",
        "\n",
        "  if sum == num:\n",
        "    print(f\"{num} is a perfect number\")\n",
        "  else:\n",
        "    print(f\"{num} is not a perfect number\")\n",
        "\n",
        "perfect_number(8128)"
      ],
      "metadata": {
        "colab": {
          "base_uri": "https://localhost:8080/"
        },
        "id": "SsqHTT5u1DBa",
        "outputId": "3749f2f3-edc5-41de-d3a2-621b4121239b"
      },
      "execution_count": 42,
      "outputs": [
        {
          "output_type": "stream",
          "name": "stdout",
          "text": [
            "8128 is a perfect number\n"
          ]
        }
      ]
    },
    {
      "cell_type": "code",
      "source": [],
      "metadata": {
        "id": "TI843oY13nue"
      },
      "execution_count": null,
      "outputs": []
    },
    {
      "cell_type": "code",
      "source": [],
      "metadata": {
        "id": "pVndv87I4UcZ"
      },
      "execution_count": null,
      "outputs": []
    },
    {
      "cell_type": "markdown",
      "source": [
        "### **`Problem-6:`** Write a Python function to concatenate any no of dictionaries to create a new one.\n",
        "\n",
        "```\n",
        "Sample Dictionary :\n",
        "dic1={1:10, 2:20}\n",
        "dic2={3:30, 4:40}\n",
        "dic3={5:50,6:60}\n",
        "Expected Result : {1: 10, 2: 20, 3: 30, 4: 40, 5: 50, 6: 60}\n",
        "```"
      ],
      "metadata": {
        "id": "9RS_UdKc5gqC"
      }
    },
    {
      "cell_type": "code",
      "source": [
        "def dictionaries(*args):\n",
        "  new_dict = {}\n",
        "  for i in args:\n",
        "    new_dict.update(i)\n",
        "\n",
        "  return new_dict\n",
        "\n",
        "dic1={1:10, 2:20}\n",
        "dic2={3:30, 4:40}\n",
        "dic3={5:50, 6:60}\n",
        "print(dictionaries(dic1, dic2, dic3))"
      ],
      "metadata": {
        "colab": {
          "base_uri": "https://localhost:8080/"
        },
        "id": "fDEwCn5W4dZ1",
        "outputId": "d2fe129e-c2ee-49cd-bcc8-c26005fea910"
      },
      "execution_count": 44,
      "outputs": [
        {
          "output_type": "stream",
          "name": "stdout",
          "text": [
            "{1: 10, 2: 20, 3: 30, 4: 40, 5: 50, 6: 60}\n"
          ]
        }
      ]
    },
    {
      "cell_type": "code",
      "source": [],
      "metadata": {
        "id": "W4xY3iL85RRx"
      },
      "execution_count": null,
      "outputs": []
    },
    {
      "cell_type": "code",
      "source": [],
      "metadata": {
        "id": "lF4rNmrp5hnB"
      },
      "execution_count": null,
      "outputs": []
    },
    {
      "cell_type": "markdown",
      "source": [
        "`Problem-7` Write a python function that accepts a string as input and returns the word with most occurence.\n",
        "\n",
        "```\n",
        "Input:\n",
        "hello how are you i am fine thank you\n",
        "```\n",
        "\n",
        "```\n",
        "Output\n",
        "you -> 2\n",
        "```"
      ],
      "metadata": {
        "id": "YacXkKAZ_tZl"
      }
    },
    {
      "cell_type": "code",
      "source": [
        "def occurance(s):\n",
        "  L = s.split()\n",
        "  L2 = list(set(L))\n",
        "  new_dict = {}\n",
        "\n",
        "  for i in L2:\n",
        "    new_dict[i] = L.count(i)\n",
        "\n",
        "  max_key = max(new_dict, key=new_dict.get)\n",
        "  return max_key,new_dict[max_key]\n",
        "\n",
        "sample_string = \"hello how are you i am fine thank you\"\n",
        "\n",
        "occurance(sample_string)"
      ],
      "metadata": {
        "colab": {
          "base_uri": "https://localhost:8080/"
        },
        "id": "o8WTzLwg5hhi",
        "outputId": "9188b03c-d835-4d5e-fa84-d013b4daf469"
      },
      "execution_count": 53,
      "outputs": [
        {
          "output_type": "execute_result",
          "data": {
            "text/plain": [
              "('you', 2)"
            ]
          },
          "metadata": {},
          "execution_count": 53
        }
      ]
    },
    {
      "cell_type": "code",
      "source": [],
      "metadata": {
        "id": "115YxOuE6Rsz"
      },
      "execution_count": null,
      "outputs": []
    },
    {
      "cell_type": "code",
      "source": [],
      "metadata": {
        "id": "jjrqS7g8_ufJ"
      },
      "execution_count": null,
      "outputs": []
    },
    {
      "cell_type": "markdown",
      "source": [
        "`Problem-9` Write a python function that accepts a list of 2D co-ordinates and a query point, and then finds the the co-ordinate which is closest in terms of distance from the query point.\n",
        "\n",
        "```\n",
        "List of Coordinates\n",
        "[(1,1),(2,2),(3,3),(4,4)]\n",
        "Query Point\n",
        "(0,0)\n",
        "```\n",
        "\n",
        "```\n",
        "Output\n",
        "Nearest to (0,0) is (1,1)\n",
        "```"
      ],
      "metadata": {
        "id": "OdnAuTYpFnoL"
      }
    },
    {
      "cell_type": "code",
      "source": [
        "import math\n",
        "\n",
        "def closest_distance(coords, query_point):\n",
        "    \"\"\"Finds the coordinate closest to the query point.\"\"\"\n",
        "    min_distance = math.inf\n",
        "    closest_coord = None\n",
        "\n",
        "    for coord in coords:\n",
        "        # Calculate Euclidean distance\n",
        "        distance = math.dist(coord, query_point)\n",
        "        if distance < min_distance:\n",
        "            min_distance = distance\n",
        "            closest_coord = coord\n",
        "\n",
        "    return closest_coord, min_distance\n",
        "\n",
        "\n",
        "coordinates = [(1, 1), (2, 2), (3, 3), (4, 4)]\n",
        "query_point = (0, 0)\n",
        "\n",
        "nearest, distance = closest_distance(coordinates, query_point)\n",
        "print(f\"Nearest to {query_point} is {nearest} with a distance of {distance:.2f}\")\n"
      ],
      "metadata": {
        "colab": {
          "base_uri": "https://localhost:8080/"
        },
        "id": "-SdVTeb2_ud2",
        "outputId": "f3d35c24-bf20-4e1f-9b81-a68950aeab61"
      },
      "execution_count": 61,
      "outputs": [
        {
          "output_type": "stream",
          "name": "stdout",
          "text": [
            "Nearest to (0, 0) is (1, 1) with a distance of 1.41\n"
          ]
        }
      ]
    },
    {
      "cell_type": "code",
      "source": [],
      "metadata": {
        "id": "8KbFji4aEfI2"
      },
      "execution_count": null,
      "outputs": []
    }
  ]
}