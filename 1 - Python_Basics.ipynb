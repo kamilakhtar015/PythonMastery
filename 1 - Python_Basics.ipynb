{
  "nbformat": 4,
  "nbformat_minor": 0,
  "metadata": {
    "colab": {
      "provenance": [],
      "authorship_tag": "ABX9TyO48QZ595IkYrzTDtxJD8MR",
      "include_colab_link": true
    },
    "kernelspec": {
      "name": "python3",
      "display_name": "Python 3"
    },
    "language_info": {
      "name": "python"
    }
  },
  "cells": [
    {
      "cell_type": "markdown",
      "metadata": {
        "id": "view-in-github",
        "colab_type": "text"
      },
      "source": [
        "<a href=\"https://colab.research.google.com/github/kamilakhtar015/PythonMastery/blob/main/Python_Basics.ipynb\" target=\"_parent\"><img src=\"https://colab.research.google.com/assets/colab-badge.svg\" alt=\"Open In Colab\"/></a>"
      ]
    },
    {
      "cell_type": "code",
      "execution_count": null,
      "metadata": {
        "colab": {
          "base_uri": "https://localhost:8080/"
        },
        "id": "HaZ5OpeQBiCu",
        "outputId": "711464bc-0a06-4115-9505-d8b3f9d8a9b7"
      },
      "outputs": [
        {
          "output_type": "stream",
          "name": "stdout",
          "text": [
            "Kamil Akhtar\n"
          ]
        }
      ],
      "source": [
        " print('Kamil Akhtar')"
      ]
    },
    {
      "cell_type": "code",
      "source": [
        "import random\n",
        "\n",
        "jackpot = random.randint(1,100)\n",
        "guess = int(input('Guess Karo : '))\n",
        "\n",
        "counter = 1\n",
        "\n",
        "while guess != jackpot:\n",
        "  if guess < jackpot:\n",
        "    print('Galat hai! Guess higher')\n",
        "  else:\n",
        "    print('Galat hai! Guess lower')\n",
        "\n",
        "  guess = int(input('Guess Karo : '))\n",
        "  counter += 1\n",
        "\n",
        "else:\n",
        "  print('tuka shi laga hai')\n",
        "  print('And your guess took you only', counter, 'attempts')"
      ],
      "metadata": {
        "colab": {
          "base_uri": "https://localhost:8080/"
        },
        "id": "NA7GXEL6BkVa",
        "outputId": "b358cdcc-04d8-46dd-fd14-ffd7e99b4142"
      },
      "execution_count": null,
      "outputs": [
        {
          "output_type": "stream",
          "name": "stdout",
          "text": [
            "Guess Karo : 55\n",
            "Galat hai! Guess higher\n",
            "Guess Karo : 65\n",
            "Galat hai! Guess lower\n",
            "Guess Karo : 60\n",
            "Galat hai! Guess higher\n",
            "Guess Karo : 62\n",
            "Galat hai! Guess lower\n",
            "Guess Karo : 61\n",
            "tuka shi laga hai\n",
            "And your guess took you only 5 attempts\n"
          ]
        }
      ]
    },
    {
      "cell_type": "code",
      "source": [
        "# third parameter is step size\n",
        "for i in range(1,11,3):\n",
        "  print(i)"
      ],
      "metadata": {
        "colab": {
          "base_uri": "https://localhost:8080/"
        },
        "id": "78KwgR-XC5Eh",
        "outputId": "4f243d7a-2fc8-4497-e60e-92e48e95f774"
      },
      "execution_count": null,
      "outputs": [
        {
          "output_type": "stream",
          "name": "stdout",
          "text": [
            "1\n",
            "4\n",
            "7\n",
            "10\n"
          ]
        }
      ]
    },
    {
      "cell_type": "code",
      "source": [
        "# using for loop we can iterate over string, tuple, set and other data types\n",
        "for i in 'Karachi':\n",
        "  print(i)"
      ],
      "metadata": {
        "colab": {
          "base_uri": "https://localhost:8080/"
        },
        "id": "j8eTdw2ODkuw",
        "outputId": "0e54fdf6-a6f9-4671-d9b2-a954ac88a4fe"
      },
      "execution_count": null,
      "outputs": [
        {
          "output_type": "stream",
          "name": "stdout",
          "text": [
            "K\n",
            "a\n",
            "r\n",
            "a\n",
            "c\n",
            "h\n",
            "i\n"
          ]
        }
      ]
    },
    {
      "cell_type": "code",
      "source": [
        "# Reversing a Number\n",
        "number = int(input('Enter the number '))\n",
        "\n",
        "rev_number = 0\n",
        "\n",
        "# convert the number into string\n",
        "num_str = str(number)\n",
        "num_rev = num_str[::-1]\n",
        "print(num_rev)\n",
        "\n",
        "# Using the number itself\n",
        "while number > 0:\n",
        "  last_digit = number % 10\n",
        "  rev_number = rev_number * 10 + last_digit\n",
        "  number = number // 10\n",
        "print('Reverse number is ', rev_number)"
      ],
      "metadata": {
        "id": "63OS5CebEAly",
        "colab": {
          "base_uri": "https://localhost:8080/"
        },
        "outputId": "b55890f0-5a71-4ab6-af8c-4d042bfd3743"
      },
      "execution_count": null,
      "outputs": [
        {
          "output_type": "stream",
          "name": "stdout",
          "text": [
            "Enter the number 854\n",
            "458\n",
            "Reverse number is  458\n"
          ]
        }
      ]
    },
    {
      "cell_type": "code",
      "source": [
        "# Checking the numbers from 1000 to 3000 whether all the digits are divisble by 2\n",
        "def check_digits(num):\n",
        "  return all(int(digit) % 2 == 0 for digit in str(num))\n",
        "\n",
        "for i in range(1000,3001):\n",
        "  if check_digits(i):\n",
        "    print(i,end=' ')"
      ],
      "metadata": {
        "colab": {
          "base_uri": "https://localhost:8080/"
        },
        "id": "zohAi7wr8yhe",
        "outputId": "ef49ddcc-9eaa-4d13-e7ca-520ae29e25e7"
      },
      "execution_count": null,
      "outputs": [
        {
          "output_type": "stream",
          "name": "stdout",
          "text": [
            "2000 2002 2004 2006 2008 2020 2022 2024 2026 2028 2040 2042 2044 2046 2048 2060 2062 2064 2066 2068 2080 2082 2084 2086 2088 2200 2202 2204 2206 2208 2220 2222 2224 2226 2228 2240 2242 2244 2246 2248 2260 2262 2264 2266 2268 2280 2282 2284 2286 2288 2400 2402 2404 2406 2408 2420 2422 2424 2426 2428 2440 2442 2444 2446 2448 2460 2462 2464 2466 2468 2480 2482 2484 2486 2488 2600 2602 2604 2606 2608 2620 2622 2624 2626 2628 2640 2642 2644 2646 2648 2660 2662 2664 2666 2668 2680 2682 2684 2686 2688 2800 2802 2804 2806 2808 2820 2822 2824 2826 2828 2840 2842 2844 2846 2848 2860 2862 2864 2866 2868 2880 2882 2884 2886 2888 "
          ]
        }
      ]
    },
    {
      "cell_type": "code",
      "source": [
        "# the x,y cordinates are initally (0,0)\n",
        "\n",
        "# UP 5\n",
        "# DOWN 3\n",
        "# LEFT 3\n",
        "# RIGHT 2\n",
        "# !\n",
        "\n",
        "x = 0\n",
        "y = 0\n",
        "\n",
        "command = input('Enter the command ')\n",
        "\n",
        "while command != '!':\n",
        "  if command == 'u':\n",
        "    var = int(input('Enter the value '))\n",
        "    y += var\n",
        "  elif command == 'd':\n",
        "    var = int(input('Enter the value '))\n",
        "    y -= var\n",
        "  elif command == 'l':\n",
        "    var = int(input('Enter the value '))\n",
        "    x -= var\n",
        "  else:\n",
        "    var = int(input('Enter the value '))\n",
        "    x += var\n",
        "  command = input('Enter the command ')\n",
        "\n",
        "print(x,y)\n",
        "\n",
        "distance = round((x**2 + y**2)**0.5)\n",
        "print(distance)"
      ],
      "metadata": {
        "colab": {
          "base_uri": "https://localhost:8080/"
        },
        "id": "NBbsXMbPFnhe",
        "outputId": "061b7faf-c376-4ce0-cd5b-22ae06ec6523"
      },
      "execution_count": null,
      "outputs": [
        {
          "output_type": "stream",
          "name": "stdout",
          "text": [
            "Enter the command up\n",
            "Enter the value 5\n",
            "Enter the command down\n",
            "Enter the value 3\n",
            "Enter the command left\n",
            "Enter the value 3\n",
            "Enter the command right\n",
            "Enter the value 2\n",
            "Enter the command !\n",
            "-1 2\n",
            "2\n"
          ]
        }
      ]
    },
    {
      "cell_type": "code",
      "source": [
        "num = int(input('Enter the number '))\n",
        "\n",
        "if num == 2:\n",
        "  print('Prime number hai')\n",
        "else:\n",
        "  for i in range(2,round((num/2)+1)):\n",
        "    if num % i == 0:\n",
        "      print('Prime number nhi hai')\n",
        "      break\n",
        "    else:\n",
        "      print('Prime number hai')\n",
        "      break"
      ],
      "metadata": {
        "colab": {
          "base_uri": "https://localhost:8080/"
        },
        "id": "CksKPqAxbY-t",
        "outputId": "de6de870-3cde-4d07-b698-75f469c3ae22"
      },
      "execution_count": null,
      "outputs": [
        {
          "output_type": "stream",
          "name": "stdout",
          "text": [
            "Enter the number 2\n",
            "Prime number hai\n"
          ]
        }
      ]
    },
    {
      "cell_type": "code",
      "source": [
        "# amrstrong number\n",
        "def amrstrong(num):\n",
        "  sum = 0\n",
        "  for digit in str(num):\n",
        "    sum += int(digit)**3\n",
        "  if sum == num:\n",
        "    return True\n",
        "  else:\n",
        "    return False\n",
        "\n",
        "a = int(input('Enter the first number '))\n",
        "b = int(input('Enter the second number '))\n",
        "\n",
        "for i in range(a,b):\n",
        "  if amrstrong(i):\n",
        "    print(i)\n"
      ],
      "metadata": {
        "colab": {
          "base_uri": "https://localhost:8080/"
        },
        "id": "WuSJS2ZOxChV",
        "outputId": "7901e153-1894-4057-b989-c8893d023854"
      },
      "execution_count": null,
      "outputs": [
        {
          "output_type": "stream",
          "name": "stdout",
          "text": [
            "Enter the first number 100\n",
            "Enter the second number 2000\n",
            "153\n",
            "370\n",
            "371\n",
            "407\n"
          ]
        }
      ]
    },
    {
      "cell_type": "code",
      "source": [
        "# factorial sum\n",
        "\n",
        "n = int(input('Enter the number '))\n",
        "\n",
        "result = 0\n",
        "fact = 1\n",
        "\n",
        "for i in range(1,n+1):\n",
        "  fact = fact * i\n",
        "  result = result + i / fact\n",
        "\n",
        "print(result)"
      ],
      "metadata": {
        "id": "jmkVqDGw0D1V",
        "colab": {
          "base_uri": "https://localhost:8080/"
        },
        "outputId": "d1e136fb-be31-486d-dd9f-03f73884716a"
      },
      "execution_count": null,
      "outputs": [
        {
          "output_type": "stream",
          "name": "stdout",
          "text": [
            "Enter the number 5\n",
            "2.708333333333333\n"
          ]
        }
      ]
    },
    {
      "cell_type": "code",
      "source": [
        "rows = int(input('Enter number of rows '))\n",
        "\n",
        "for i in range(1, rows+1):\n",
        "  for j in range(1, i+1):\n",
        "    print('*',end='')\n",
        "  print()"
      ],
      "metadata": {
        "colab": {
          "base_uri": "https://localhost:8080/"
        },
        "id": "CJVmLBTREc1L",
        "outputId": "829b3a58-f935-4ab0-9098-5a2b4f9d30d3"
      },
      "execution_count": null,
      "outputs": [
        {
          "output_type": "stream",
          "name": "stdout",
          "text": [
            "Enter number of rows 5\n",
            "*\n",
            "**\n",
            "***\n",
            "****\n",
            "*****\n"
          ]
        }
      ]
    },
    {
      "cell_type": "code",
      "source": [
        "rows = int(input('enter the number of rows '))\n",
        "\n",
        "for i in range(1, rows+1):\n",
        "  for j in range(1, i+1):\n",
        "    print(j,end='')\n",
        "  for k in range(i-1,0,-1):\n",
        "    print(k,end='')\n",
        "  print()"
      ],
      "metadata": {
        "colab": {
          "base_uri": "https://localhost:8080/"
        },
        "id": "XAlZ7tY0GJjJ",
        "outputId": "ede64ab0-c1b8-4189-c992-64321be15a36"
      },
      "execution_count": null,
      "outputs": [
        {
          "output_type": "stream",
          "name": "stdout",
          "text": [
            "enter the number of rows 5\n",
            "1\n",
            "121\n",
            "12321\n",
            "1234321\n",
            "123454321\n"
          ]
        }
      ]
    },
    {
      "cell_type": "code",
      "source": [
        "for i in range(1,10):\n",
        "  if i == 5:\n",
        "    break\n",
        "  print(i)"
      ],
      "metadata": {
        "colab": {
          "base_uri": "https://localhost:8080/"
        },
        "id": "wWoobpTOHhTV",
        "outputId": "6cdf673c-cf83-4ba9-f80b-a267b4d2e047"
      },
      "execution_count": null,
      "outputs": [
        {
          "output_type": "stream",
          "name": "stdout",
          "text": [
            "1\n",
            "2\n",
            "3\n",
            "4\n"
          ]
        }
      ]
    },
    {
      "cell_type": "code",
      "source": [
        "lower = int(int(input('Enter the lower limit ')))\n",
        "upper = int(input('Enter the upper limit '))\n",
        "\n",
        "for i in range(lower, upper+1):\n",
        "  if i > 1:\n",
        "    for j in range(2,i):\n",
        "      if i % j/2 == 0:\n",
        "        break\n",
        "    else:\n",
        "      print(i,end=' ')"
      ],
      "metadata": {
        "colab": {
          "base_uri": "https://localhost:8080/"
        },
        "id": "xcFtBisWIANW",
        "outputId": "f2a49b21-511b-46cd-bd3f-82e676bd10fe"
      },
      "execution_count": null,
      "outputs": [
        {
          "output_type": "stream",
          "name": "stdout",
          "text": [
            "Enter the lower limit 10\n",
            "Enter the upper limit 100\n",
            "11 13 17 19 23 29 31 37 41 43 47 53 59 61 67 71 73 79 83 89 97 "
          ]
        }
      ]
    },
    {
      "cell_type": "code",
      "source": [
        "# Write a program that can check whether a given string is palindrome or not.\n",
        "# abba\n",
        "# malayalam\n",
        "\n",
        "\n",
        "# Write a program to count the number of words in a string without split()\n",
        "\n",
        "\n",
        "# Write a python program to convert a string to title case without using the title()\n",
        "\n"
      ],
      "metadata": {
        "id": "QJGj_n7IMctK"
      },
      "execution_count": null,
      "outputs": []
    },
    {
      "cell_type": "code",
      "source": [
        "# Find the length of a given string without using the len() function\n",
        "string = input('Enter the String ')\n",
        "len_ = 0\n",
        "for i in string:\n",
        "  len_ += 1\n",
        "print('length of the {} is {} '.format(string,len_))"
      ],
      "metadata": {
        "id": "yx1eP4cVbHud"
      },
      "execution_count": null,
      "outputs": []
    },
    {
      "cell_type": "code",
      "source": [
        "# Extract username from a given email.\n",
        "# Eg if the email is nitish24singh@gmail.com\n",
        "# then the username should be nitish24singh\n",
        "\n",
        "\n",
        "email = input('enter the email ')\n",
        "\n",
        "# Using index finding method\n",
        "pos = email.index('@')\n",
        "name = email[:pos]\n",
        "print(name)\n",
        "\n",
        "# Using searching @ method\n",
        "username = ''\n",
        "for i in email:\n",
        "  if i == '@':\n",
        "    break\n",
        "  else:\n",
        "    username += i\n",
        "print(username)"
      ],
      "metadata": {
        "colab": {
          "base_uri": "https://localhost:8080/"
        },
        "id": "l20DQbNIbjuf",
        "outputId": "9b63dae2-1093-4558-ac4d-65baee5ddd14"
      },
      "execution_count": null,
      "outputs": [
        {
          "output_type": "stream",
          "name": "stdout",
          "text": [
            "enter the email kamil.akhtar015@gmail.com\n",
            "kamil.akhtar015\n",
            "kamil.akhtar015\n"
          ]
        }
      ]
    },
    {
      "cell_type": "code",
      "source": [
        "# Count the frequency of a particular character in a provided string.\n",
        "# Eg 'hello how are you' is the string, the frequency of h in this string is 2.\n",
        "\n",
        "\n",
        "string = input('Enter the string ')\n",
        "word = input('Enter the word to search ')\n",
        "count = 0\n",
        "for i in string:\n",
        "  if i == word:\n",
        "    count += 1\n",
        "print(count)"
      ],
      "metadata": {
        "colab": {
          "base_uri": "https://localhost:8080/"
        },
        "id": "wcneZKVixvxu",
        "outputId": "3717a5c8-88d5-49ba-cbbc-4eb3183017aa"
      },
      "execution_count": null,
      "outputs": [
        {
          "output_type": "stream",
          "name": "stdout",
          "text": [
            "Enter the string hi this is kamil akhtar and i am from gupis\n",
            "Enter the word to search a\n",
            "5\n"
          ]
        }
      ]
    },
    {
      "cell_type": "code",
      "source": [
        "# Write a program which can remove a particular character from a string.\n",
        "\n",
        "string = input('Enter the String ')\n",
        "charac = input('Enter the character to remove ')\n",
        "new_string = ''\n",
        "for i in string:\n",
        "  if i != charac:\n",
        "    new_string += i\n",
        "print(new_string)"
      ],
      "metadata": {
        "colab": {
          "base_uri": "https://localhost:8080/"
        },
        "id": "F0HcZn8XzEDA",
        "outputId": "7d664574-59a3-4459-c5e6-94da580f55db"
      },
      "execution_count": null,
      "outputs": [
        {
          "output_type": "stream",
          "name": "stdout",
          "text": [
            "Enter the String GUPIS,GILGIT-BALTISTAN\n",
            "Enter the character to remove G\n",
            "UPIS,ILIT-BALTISTAN\n"
          ]
        }
      ]
    },
    {
      "cell_type": "code",
      "source": [
        "string = input(\"Enter a string: \")\n",
        "\n",
        "# Loop through the first half of the string\n",
        "for i in range(len(string) // 2):\n",
        "    if string[i] != string[len(string) - i - 1]:\n",
        "        print(\"Not Palindrome\")\n",
        "        break\n",
        "else:\n",
        "    # If the loop completes without breaking\n",
        "    print(\"Palindrome\")\n"
      ],
      "metadata": {
        "colab": {
          "base_uri": "https://localhost:8080/"
        },
        "id": "fbWvvmTgznKa",
        "outputId": "d4b0cce1-8e4c-4a01-c8ec-3848ab3c2a1d"
      },
      "execution_count": null,
      "outputs": [
        {
          "output_type": "stream",
          "name": "stdout",
          "text": [
            "Enter a string: malayalam\n",
            "Palindrome\n"
          ]
        }
      ]
    },
    {
      "cell_type": "code",
      "source": [
        "arows = int(input('Enter the number of rows '))\n",
        "\n",
        "for i in range(rows,0,-1):\n",
        "  for j in range(i,0,-1):\n",
        "    print(j,end=' ')\n",
        "  print()\n"
      ],
      "metadata": {
        "colab": {
          "base_uri": "https://localhost:8080/"
        },
        "id": "nnrj7-LF0jTg",
        "outputId": "17395229-4b3f-4422-f0b2-554ca6836f0e"
      },
      "execution_count": null,
      "outputs": [
        {
          "output_type": "stream",
          "name": "stdout",
          "text": [
            "Enter the number of rows 10\n",
            "10 9 8 7 6 5 4 3 2 1 \n",
            "9 8 7 6 5 4 3 2 1 \n",
            "8 7 6 5 4 3 2 1 \n",
            "7 6 5 4 3 2 1 \n",
            "6 5 4 3 2 1 \n",
            "5 4 3 2 1 \n",
            "4 3 2 1 \n",
            "3 2 1 \n",
            "2 1 \n",
            "1 \n"
          ]
        }
      ]
    },
    {
      "cell_type": "code",
      "source": [
        "rows = int(input('Enter the number of rows '))\n",
        "for i in range(1,rows+1):\n",
        "  for j in range(1,i+1):\n",
        "    print('*',end='')\n",
        "  print()"
      ],
      "metadata": {
        "colab": {
          "base_uri": "https://localhost:8080/"
        },
        "id": "mthM8aT8gDfu",
        "outputId": "d728bbd2-186c-4d5f-8ae9-9da6efc091d9"
      },
      "execution_count": null,
      "outputs": [
        {
          "output_type": "stream",
          "name": "stdout",
          "text": [
            "Enter the number of rows 5\n",
            "*\n",
            "**\n",
            "***\n",
            "****\n",
            "*****\n"
          ]
        }
      ]
    },
    {
      "cell_type": "code",
      "source": [
        "rows = int(input('Enter the number of rows '))\n",
        "for i in range(rows, 0, -1):\n",
        "    for j in range(1, i + 1):\n",
        "        print('*', end=' ')\n",
        "    print()"
      ],
      "metadata": {
        "colab": {
          "base_uri": "https://localhost:8080/"
        },
        "id": "KDrWSzx1gZ4u",
        "outputId": "fce8f804-c8dc-4465-abe5-19e6ec10540b"
      },
      "execution_count": null,
      "outputs": [
        {
          "output_type": "stream",
          "name": "stdout",
          "text": [
            "Enter the number of rows 5\n",
            "* * * * * \n",
            "* * * * \n",
            "* * * \n",
            "* * \n",
            "* \n"
          ]
        }
      ]
    },
    {
      "cell_type": "code",
      "source": [
        "rows = int(input('Enter the number of rows '))\n",
        "for i in range(1,rows+1):\n",
        "  for j in range(rows,i-1,-1):\n",
        "    print('*', end=' ')\n",
        "  print()"
      ],
      "metadata": {
        "colab": {
          "base_uri": "https://localhost:8080/"
        },
        "id": "ElaU3u1yhLOG",
        "outputId": "5290d513-f5ea-4947-8909-cbb23a7bef89"
      },
      "execution_count": null,
      "outputs": [
        {
          "output_type": "stream",
          "name": "stdout",
          "text": [
            "Enter the number of rows 5\n",
            "* * * * * \n",
            "* * * * \n",
            "* * * \n",
            "* * \n",
            "* \n"
          ]
        }
      ]
    },
    {
      "cell_type": "code",
      "source": [
        "rows = int(input('Enter the number of rows: '))\n",
        "\n",
        "# Upper half of the pattern\n",
        "for i in range(1, rows + 1):  # Include the last row\n",
        "    for j in range(1, i + 1):\n",
        "        print('*', end=' ')\n",
        "    print()\n",
        "\n",
        "# Lower half of the pattern\n",
        "for i in range(rows - 1, 0, -1):\n",
        "    for j in range(1, i + 1):\n",
        "        print('*', end=' ')\n",
        "    print()\n"
      ],
      "metadata": {
        "colab": {
          "base_uri": "https://localhost:8080/"
        },
        "id": "t5gIQQuTB05h",
        "outputId": "10cb1b58-1261-44ac-9be9-fd525df6ad3e"
      },
      "execution_count": null,
      "outputs": [
        {
          "output_type": "stream",
          "name": "stdout",
          "text": [
            "Enter the number of rows: 5\n",
            "* \n",
            "* * \n",
            "* * * \n",
            "* * * * \n",
            "* * * * * \n",
            "* * * * \n",
            "* * * \n",
            "* * \n",
            "* \n"
          ]
        }
      ]
    },
    {
      "cell_type": "code",
      "source": [
        "rows = int(input('Enter the number of rows '))\n",
        "\n",
        "for i in range(1,rows+1):\n",
        "  # printing spaces\n",
        "  for i in range(rows,i-1,-1):\n",
        "    print(' ', end='')\n",
        "\n",
        "  # printing stars\n",
        "  for j in range(1,i+1):\n",
        "    print('*', end='')\n",
        "  print()"
      ],
      "metadata": {
        "colab": {
          "base_uri": "https://localhost:8080/"
        },
        "id": "7u03rKfnYnOX",
        "outputId": "4218b5c9-34f9-4afd-e9d3-b0c396fc31dc"
      },
      "execution_count": null,
      "outputs": [
        {
          "output_type": "stream",
          "name": "stdout",
          "text": [
            "Enter the number of rows 5\n",
            "     *\n",
            "    **\n",
            "   ***\n",
            "  ****\n",
            " *****\n"
          ]
        }
      ]
    },
    {
      "cell_type": "code",
      "source": [
        "rows = int(input('Enter the number of rows '))\n",
        "for i in range(1,rows+1):\n",
        "  for i in range(1, i+1):\n",
        "    print(' ', end='')\n",
        "\n",
        "  for j in range(rows,i-1,-1):\n",
        "    print('*', end='')\n",
        "\n",
        "  print()\n",
        "\n"
      ],
      "metadata": {
        "colab": {
          "base_uri": "https://localhost:8080/"
        },
        "id": "1V_PiHoJe4Bs",
        "outputId": "88c6999f-d989-4fa8-b8ca-5bcffb467eac"
      },
      "execution_count": null,
      "outputs": [
        {
          "output_type": "stream",
          "name": "stdout",
          "text": [
            "Enter the number of rows 5\n",
            " *****\n",
            "  ****\n",
            "   ***\n",
            "    **\n",
            "     *\n"
          ]
        }
      ]
    },
    {
      "cell_type": "code",
      "source": [
        "rows = int(input('Enter the number of rows '))\n",
        "for i in range(1,rows+1):\n",
        "  for j in range(rows,i-1,-1):\n",
        "    print(' ', end='')\n",
        "\n",
        "  for i in range(1,i+1):\n",
        "    print(' *', end='')\n",
        "  print()"
      ],
      "metadata": {
        "colab": {
          "base_uri": "https://localhost:8080/"
        },
        "id": "JUufwYaWkolM",
        "outputId": "443cb951-c75a-45e3-c27f-a3c5f8679ce3"
      },
      "execution_count": null,
      "outputs": [
        {
          "output_type": "stream",
          "name": "stdout",
          "text": [
            "Enter the number of rows 5\n",
            "      *\n",
            "     * *\n",
            "    * * *\n",
            "   * * * *\n",
            "  * * * * *\n"
          ]
        }
      ]
    },
    {
      "cell_type": "code",
      "source": [
        "rows = int(input('Enter the number of rows '))\n",
        "for i in range(1,rows+1):\n",
        "  for j in range(rows,0,-1):\n",
        "    if j > i:\n",
        "      print(' ', end='')\n",
        "    else:\n",
        "      print(' *', end='')\n",
        "  print()"
      ],
      "metadata": {
        "colab": {
          "base_uri": "https://localhost:8080/"
        },
        "id": "3TqVdtOv5eah",
        "outputId": "6370ed48-6726-4141-c740-1994f0fac4e1"
      },
      "execution_count": null,
      "outputs": [
        {
          "output_type": "stream",
          "name": "stdout",
          "text": [
            "Enter the number of rows 5\n",
            "     *\n",
            "    * *\n",
            "   * * *\n",
            "  * * * *\n",
            " * * * * *\n"
          ]
        }
      ]
    },
    {
      "cell_type": "code",
      "source": [
        "rows = int(input('Enter the number of rows '))\n",
        "\n",
        "for i in range(1,rows+1):\n",
        "  for j in range(i,0,-1):\n",
        "    print(j,end='')\n",
        "  print()"
      ],
      "metadata": {
        "id": "KN4UnpAe9Mko",
        "colab": {
          "base_uri": "https://localhost:8080/"
        },
        "outputId": "77ae4f7d-392c-4f4e-a63f-34b3e3fb7ac9"
      },
      "execution_count": null,
      "outputs": [
        {
          "output_type": "stream",
          "name": "stdout",
          "text": [
            "Enter the number of rows 5\n",
            "1\n",
            "21\n",
            "321\n",
            "4321\n",
            "54321\n"
          ]
        }
      ]
    },
    {
      "cell_type": "code",
      "source": [
        "n = int(input('Enter the number of terms n '))\n",
        "x = int(input('Enter the value of x '))\n",
        "\n",
        "sum = 1\n",
        "\n",
        "for i in range(1,n+1):\n",
        "  sum += (x**2)/i\n",
        "\n",
        "print(sum)"
      ],
      "metadata": {
        "colab": {
          "base_uri": "https://localhost:8080/"
        },
        "id": "AIfDcsWx7dlh",
        "outputId": "2fce2ee7-6251-43dc-fc13-d4e8634d72e2"
      },
      "execution_count": null,
      "outputs": [
        {
          "output_type": "stream",
          "name": "stdout",
          "text": [
            "Enter the number of terms n 5\n",
            "Enter the value of x 1\n",
            "3.2833333333333337\n"
          ]
        }
      ]
    },
    {
      "cell_type": "code",
      "source": [
        "n = int(input('Enter the number '))\n",
        "sum = 0\n",
        "num = ''\n",
        "for i in range(1,n+1):\n",
        "  num += '2'\n",
        "  print(num, end='')\n",
        "  if i < n:\n",
        "    print('+', end='')\n",
        "  sum += int(num)\n",
        "print()\n",
        "print('Sum of above series is: {}'.format(sum))"
      ],
      "metadata": {
        "colab": {
          "base_uri": "https://localhost:8080/"
        },
        "id": "sh6LBi7V9CgY",
        "outputId": "06e57e1e-bfc2-45ce-a3fa-32d67e429633"
      },
      "execution_count": null,
      "outputs": [
        {
          "output_type": "stream",
          "name": "stdout",
          "text": [
            "Enter the number 5\n",
            "2+22+222+2222+22222\n",
            "Sum of above series is: 24690\n"
          ]
        }
      ]
    },
    {
      "cell_type": "code",
      "source": [
        "n = int(input(\"Enter the number: \"))\n",
        "sum = 0\n",
        "term = 0\n",
        "\n",
        "for i in range(1, n + 1):\n",
        "    term = term * 10 + 2  # Generate the next term directly\n",
        "    sum += term\n",
        "\n",
        "# Print the terms in the series\n",
        "for i in range(1, n + 1):\n",
        "    print(\"2\" * i, end=\" + \" if i < n else \"\\n\")\n",
        "\n",
        "print(f\"Sum of above series is: {sum}\")\n"
      ],
      "metadata": {
        "colab": {
          "base_uri": "https://localhost:8080/"
        },
        "id": "LyZ5Z-COEgWg",
        "outputId": "5bd8eda4-6a01-4db4-f555-7a7eb2cc3254"
      },
      "execution_count": null,
      "outputs": [
        {
          "output_type": "stream",
          "name": "stdout",
          "text": [
            "Enter the number: 5\n",
            "2 + 22 + 222 + 2222 + 22222\n",
            "Sum of above series is: 24690\n"
          ]
        }
      ]
    },
    {
      "cell_type": "code",
      "source": [
        "nums = [1, 2, 3, 4]\n",
        "n = len(nums)\n",
        "\n",
        "# Initialize an empty list to store all combinations\n",
        "result = []\n",
        "\n",
        "# Use nested loops to generate permutations\n",
        "for a in nums:\n",
        "    for b in nums:\n",
        "        if b != a:  # Ensure `b` is different from `a`\n",
        "            for c in nums:\n",
        "                if c != a and c != b:  # Ensure `c` is different from `a` and `b`\n",
        "                    for d in nums:\n",
        "                        if d != a and d != b and d != c:  # Ensure `d` is different from `a`, `b`, and `c`\n",
        "                            result.append([a, b, c, d])\n",
        "\n",
        "# Print the result\n",
        "print(\"All unique combinations of 1, 2, 3, and 4:\")\n",
        "for combination in result:\n",
        "    print(combination)\n",
        "print(\"Total number of combinations:\", len(result))\n"
      ],
      "metadata": {
        "colab": {
          "base_uri": "https://localhost:8080/"
        },
        "id": "m-JMhIWLH36y",
        "outputId": "35b96c44-60b4-4e0b-fa6e-a754c731afdf"
      },
      "execution_count": null,
      "outputs": [
        {
          "output_type": "stream",
          "name": "stdout",
          "text": [
            "All unique combinations of 1, 2, 3, and 4:\n",
            "[1, 2, 3, 4]\n",
            "[1, 2, 4, 3]\n",
            "[1, 3, 2, 4]\n",
            "[1, 3, 4, 2]\n",
            "[1, 4, 2, 3]\n",
            "[1, 4, 3, 2]\n",
            "[2, 1, 3, 4]\n",
            "[2, 1, 4, 3]\n",
            "[2, 3, 1, 4]\n",
            "[2, 3, 4, 1]\n",
            "[2, 4, 1, 3]\n",
            "[2, 4, 3, 1]\n",
            "[3, 1, 2, 4]\n",
            "[3, 1, 4, 2]\n",
            "[3, 2, 1, 4]\n",
            "[3, 2, 4, 1]\n",
            "[3, 4, 1, 2]\n",
            "[3, 4, 2, 1]\n",
            "[4, 1, 2, 3]\n",
            "[4, 1, 3, 2]\n",
            "[4, 2, 1, 3]\n",
            "[4, 2, 3, 1]\n",
            "[4, 3, 1, 2]\n",
            "[4, 3, 2, 1]\n",
            "Total number of combinations: 24\n"
          ]
        }
      ]
    },
    {
      "cell_type": "code",
      "source": [
        "nums = [1,2,3,4]\n",
        "counter = 0\n",
        "for a in nums:\n",
        "  for b in nums:\n",
        "    for c in nums:\n",
        "      for d in nums:\n",
        "        if a != b and a != c and a != d and b != c and b != d and c != d:\n",
        "          print(a,b,c,d)\n",
        "          counter += 1\n",
        "print(counter)"
      ],
      "metadata": {
        "colab": {
          "base_uri": "https://localhost:8080/"
        },
        "id": "0yTDmMLpO85E",
        "outputId": "c426cc5f-cd59-40cd-e828-f7492bfccbdb"
      },
      "execution_count": null,
      "outputs": [
        {
          "output_type": "stream",
          "name": "stdout",
          "text": [
            "1 2 3 4\n",
            "1 2 4 3\n",
            "1 3 2 4\n",
            "1 3 4 2\n",
            "1 4 2 3\n",
            "1 4 3 2\n",
            "2 1 3 4\n",
            "2 1 4 3\n",
            "2 3 1 4\n",
            "2 3 4 1\n",
            "2 4 1 3\n",
            "2 4 3 1\n",
            "3 1 2 4\n",
            "3 1 4 2\n",
            "3 2 1 4\n",
            "3 2 4 1\n",
            "3 4 1 2\n",
            "3 4 2 1\n",
            "4 1 2 3\n",
            "4 1 3 2\n",
            "4 2 1 3\n",
            "4 2 3 1\n",
            "4 3 1 2\n",
            "4 3 2 1\n",
            "24\n"
          ]
        }
      ]
    },
    {
      "cell_type": "code",
      "source": [
        "num = int(input('Enter the number '))\n",
        "\n",
        "binary = ''\n",
        "while num != 0:\n",
        "  rem = num % 2\n",
        "  binary = str(rem) + binary\n",
        "  num = num // 2\n",
        "binary = int(binary)\n",
        "print(binary)"
      ],
      "metadata": {
        "colab": {
          "base_uri": "https://localhost:8080/"
        },
        "id": "fsCIX4TeRQfF",
        "outputId": "813fe57e-c3cb-444d-bdfd-7622a55ef3aa"
      },
      "execution_count": null,
      "outputs": [
        {
          "output_type": "stream",
          "name": "stdout",
          "text": [
            "Enter the number 10\n",
            "1010\n"
          ]
        }
      ]
    },
    {
      "cell_type": "code",
      "source": [
        "s = input('Enter the String ')\n",
        "temp = s.split()\n",
        "for i in temp:\n",
        "  print(i[0].upper(),end='')"
      ],
      "metadata": {
        "id": "zkrvqOrDgKOF",
        "colab": {
          "base_uri": "https://localhost:8080/"
        },
        "outputId": "b92c80b7-ff3f-4b51-9b6d-33bf1661a90f"
      },
      "execution_count": null,
      "outputs": [
        {
          "output_type": "stream",
          "name": "stdout",
          "text": [
            "Enter the String Georgia State University\n",
            "GSU"
          ]
        }
      ]
    },
    {
      "cell_type": "code",
      "source": [
        "s1 = input('Enter the String ')\n",
        "s2 = input('Enter the String to add ')\n",
        "\n",
        "l1 = len(s1)\n",
        "l2 = len(s2)\n",
        "\n",
        "new_string = ''\n",
        "\n",
        "for i in range(0,l1//2):\n",
        "  new_string += s1[i]\n",
        "\n",
        "for i in range(0,l2):\n",
        "  new_string += s2[i]\n",
        "\n",
        "for i in range(l1//2, l1):\n",
        "    new_string += s1[i]\n",
        "\n",
        "print(new_string)"
      ],
      "metadata": {
        "colab": {
          "base_uri": "https://localhost:8080/"
        },
        "id": "YzqSNZDwehli",
        "outputId": "e3c6151f-ab88-4777-ba13-69caa387b461"
      },
      "execution_count": null,
      "outputs": [
        {
          "output_type": "stream",
          "name": "stdout",
          "text": [
            "Enter the String pakistan\n",
            "Enter the String to add INDIA\n",
            "pakiINDIAstan\n"
          ]
        }
      ]
    },
    {
      "cell_type": "code",
      "source": [
        "s1 = input('Enter the String ')\n",
        "s2 = input('Enter the String to add ')\n",
        "\n",
        "l_1 = len(s1)\n",
        "l_2 = len(s2)\n",
        "l_t = l_1+l_2\n",
        "\n",
        "new_string = ''\n",
        "\n",
        "for i in range(0,l_t):\n",
        "  if i < (l_1//2):\n",
        "    new_string += s1[i]\n",
        "\n",
        "  elif i >= (l_1//2) and i < ((l_1//2) + l_2):\n",
        "    new_string += s2[i-(l_1//2)]\n",
        "\n",
        "  else:\n",
        "    new_string += s1[i-l_2]\n",
        "\n",
        "print(new_string)"
      ],
      "metadata": {
        "colab": {
          "base_uri": "https://localhost:8080/"
        },
        "id": "byoztPwrfYco",
        "outputId": "c557dcb5-b415-4cef-dc84-59a18d5ba220"
      },
      "execution_count": null,
      "outputs": [
        {
          "output_type": "stream",
          "name": "stdout",
          "text": [
            "ka12345678mil\n"
          ]
        }
      ]
    },
    {
      "cell_type": "code",
      "source": [
        "s = input('Enter the Strig ')\n",
        "\n",
        "temp_Upper = ''\n",
        "temp_Lower = ''\n",
        "\n",
        "for i in s:\n",
        "  if i.isupper():\n",
        "    temp_Upper += i\n",
        "  else:\n",
        "    temp_Lower += i\n",
        "\n",
        "new_string = temp_Lower+temp_Upper\n",
        "print(new_string)"
      ],
      "metadata": {
        "colab": {
          "base_uri": "https://localhost:8080/"
        },
        "id": "YIEDMJA7mYEK",
        "outputId": "ac0f74eb-4775-4e54-9a26-89989bd6259a"
      },
      "execution_count": null,
      "outputs": [
        {
          "output_type": "stream",
          "name": "stdout",
          "text": [
            "Enter the Strig PyNaTive\n",
            "yaivePNT\n"
          ]
        }
      ]
    },
    {
      "cell_type": "code",
      "source": [
        "# order('A') -- to find the ascii value of the character\n",
        "s = input('Enter the Strig ')\n",
        "temp_lower = ''\n",
        "temp_upper = ''\n",
        "\n",
        "for i in s:\n",
        "  if ord(i) >= 65 and ord(i) <= 90:\n",
        "    temp_upper += i\n",
        "  else:\n",
        "    temp_lower += i\n",
        "\n",
        "new_string = temp_lower+temp_upper\n",
        "print(new_string)"
      ],
      "metadata": {
        "colab": {
          "base_uri": "https://localhost:8080/"
        },
        "id": "ztZ13YApoL90",
        "outputId": "2fe72d26-20c3-43b2-c8b6-7237110ab673"
      },
      "execution_count": null,
      "outputs": [
        {
          "output_type": "stream",
          "name": "stdout",
          "text": [
            "97\n",
            "122\n",
            "65\n",
            "90\n",
            "Enter the Strig PyNaTive\n",
            "yaivePNT\n"
          ]
        }
      ]
    },
    {
      "cell_type": "code",
      "source": [
        "s = 'hel123O4every093'\n",
        "\n",
        "sum = 0\n",
        "counter = 0\n",
        "\n",
        "for i in s:\n",
        "  if i.isdigit():\n",
        "    sum += int(i)\n",
        "    counter += 1\n",
        "\n",
        "print(f'sum is : {sum}')\n",
        "print(f'Average is : {sum/counter}')"
      ],
      "metadata": {
        "colab": {
          "base_uri": "https://localhost:8080/"
        },
        "id": "VvxR5egFoeJ0",
        "outputId": "8c0a6242-509f-4ef7-befc-77672339f188"
      },
      "execution_count": null,
      "outputs": [
        {
          "output_type": "stream",
          "name": "stdout",
          "text": [
            "sum is : 22\n",
            "Average is : 3.142857142857143\n"
          ]
        }
      ]
    },
    {
      "cell_type": "code",
      "source": [
        "str1 = 'I am 25 years and 10 months old'\n",
        "new_string = ''\n",
        "for i in str1:\n",
        "  if i.isdigit():\n",
        "    new_string += i\n",
        "print(new_string)"
      ],
      "metadata": {
        "colab": {
          "base_uri": "https://localhost:8080/"
        },
        "id": "9kkpDEaStl5l",
        "outputId": "c7333fe7-e42a-4bc9-d212-a26b483b90be"
      },
      "execution_count": null,
      "outputs": [
        {
          "output_type": "stream",
          "name": "stdout",
          "text": [
            "2510\n"
          ]
        }
      ]
    },
    {
      "cell_type": "code",
      "source": [
        "# khokho\n",
        "string = input('Enter the String ')\n",
        "mid = len(string)//2\n",
        "if string[:mid] == string[mid:]:\n",
        "  print('Symmetical')\n",
        "else:\n",
        "  print('Not Symmetical')"
      ],
      "metadata": {
        "colab": {
          "base_uri": "https://localhost:8080/"
        },
        "id": "hkDdM_AXuGwW",
        "outputId": "1afbcdea-d03e-4f76-eec7-14f3bc7e41b4"
      },
      "execution_count": null,
      "outputs": [
        {
          "output_type": "stream",
          "name": "stdout",
          "text": [
            "Enter the String khokho\n",
            "Symmetical\n"
          ]
        }
      ]
    },
    {
      "cell_type": "code",
      "source": [],
      "metadata": {
        "id": "IrXxX8HH2Ua_"
      },
      "execution_count": null,
      "outputs": []
    }
  ]
}
