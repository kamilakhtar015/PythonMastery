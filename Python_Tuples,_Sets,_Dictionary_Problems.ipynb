{
  "nbformat": 4,
  "nbformat_minor": 0,
  "metadata": {
    "colab": {
      "provenance": [],
      "authorship_tag": "ABX9TyMSpAyNWrLJLVsJ+WTigZ6L",
      "include_colab_link": true
    },
    "kernelspec": {
      "name": "python3",
      "display_name": "Python 3"
    },
    "language_info": {
      "name": "python"
    }
  },
  "cells": [
    {
      "cell_type": "markdown",
      "metadata": {
        "id": "view-in-github",
        "colab_type": "text"
      },
      "source": [
        "<a href=\"https://colab.research.google.com/github/kamilakhtar015/PythonMastery/blob/main/Python_Tuples%2C_Sets%2C_Dictionary_Problems.ipynb\" target=\"_parent\"><img src=\"https://colab.research.google.com/assets/colab-badge.svg\" alt=\"Open In Colab\"/></a>"
      ]
    },
    {
      "cell_type": "markdown",
      "source": [
        "### Tuple"
      ],
      "metadata": {
        "id": "lM2rkIGKwXih"
      }
    },
    {
      "cell_type": "markdown",
      "source": [
        "###`Q1:` Join Tuples if similar initial element\n",
        "While working with Python tuples, we can have a problem in which we need to perform concatenation of records from the similarity of initial element. This problem can have applications in data domains such as Data Science.\n",
        "\n",
        "For eg.\n",
        "```\n",
        "Input  : test_list = [(5, 6), (5, 7), (5, 8), (6, 10), (7, 13)]\n",
        "Output : [(5, 6, 7, 8), (6, 10), (7, 13)]\n",
        "```"
      ],
      "metadata": {
        "id": "ZbnRpnRz_TS2"
      }
    },
    {
      "cell_type": "code",
      "execution_count": 11,
      "metadata": {
        "colab": {
          "base_uri": "https://localhost:8080/"
        },
        "id": "Bbb9j3mDvg5e",
        "outputId": "1819a190-05d2-4639-dcd9-3d93ee012fd6"
      },
      "outputs": [
        {
          "output_type": "stream",
          "name": "stdout",
          "text": [
            "[(5, 6, 7, 8), (6, 10), (7, 13)]\n"
          ]
        }
      ],
      "source": [
        "test_list = [(5, 6), (5, 7), (5, 8), (6, 10), (7, 13)]\n",
        "\n",
        "grouped = {}\n",
        "\n",
        "for tup in test_list:\n",
        "  key = tup[0]\n",
        "  if key in grouped:\n",
        "    grouped[key] += tup[1:]\n",
        "  else:\n",
        "    grouped[key] = tup\n",
        "\n",
        "result = list(grouped.values())\n",
        "\n",
        "print(result)"
      ]
    },
    {
      "cell_type": "markdown",
      "source": [
        "###`Q2:` Multiply Adjacent elements (both side) and take sum of right and lest side multiplication result.\n",
        "\n",
        "\n",
        "For eg.\n",
        "```\n",
        "The original tuple : (1, 5, 7, 8, 10)\n",
        "Resultant tuple after multiplication :\n",
        "\n",
        "(1*5, 1*5+5*7, 7*5 + 7*8, 8*7 + 8*10, 10*8) -> (5, 40, 91, 136, 80)\n",
        "\n",
        "output-(5, 40, 91, 136, 80)\n",
        "```"
      ],
      "metadata": {
        "id": "1KMBjcx-BMT3"
      }
    },
    {
      "cell_type": "code",
      "source": [
        "t = (1, 5, 7, 8, 10)\n",
        "\n",
        "new_list = []\n",
        "\n",
        "n = len(t)\n",
        "\n",
        "for i in range(n):\n",
        "  temp = 0\n",
        "  if i == 0:\n",
        "    temp = t[i] * t[i+1]\n",
        "  elif i == n-1:\n",
        "    temp = t[i] * t[i-1]\n",
        "  else:\n",
        "    temp = (t[i] * t[i-1]) + (t[i] * t[i+1])\n",
        "  new_list.append(temp)\n",
        "\n",
        "new_tuple = tuple(new_list)\n",
        "\n",
        "print(new_tuple)"
      ],
      "metadata": {
        "colab": {
          "base_uri": "https://localhost:8080/"
        },
        "id": "B6IanicDwkCe",
        "outputId": "8fa6a1c5-2e09-4157-fc64-0c0e59089b01"
      },
      "execution_count": 18,
      "outputs": [
        {
          "output_type": "stream",
          "name": "stdout",
          "text": [
            "(5, 40, 91, 136, 80)\n"
          ]
        }
      ]
    },
    {
      "cell_type": "code",
      "source": [
        "# Using tuple comprehension\n",
        "\n",
        "t = (1, 5, 7, 8, 10)\n",
        "\n",
        "new_tuple = tuple(\n",
        "    t[i] * t[i+1] if i == 0 else  # First element case\n",
        "    t[i] * t[i-1] if i == len(t)-1 else  # Last element case\n",
        "    t[i] * t[i-1] + t[i] * t[i+1]  # Middle elements case\n",
        "    for i in range(len(t))\n",
        ")\n",
        "\n",
        "new_tuple"
      ],
      "metadata": {
        "colab": {
          "base_uri": "https://localhost:8080/"
        },
        "id": "gFqGB-n9_rzT",
        "outputId": "9cfcf0ca-835a-45a9-c321-197d40d5d7f6"
      },
      "execution_count": 26,
      "outputs": [
        {
          "output_type": "execute_result",
          "data": {
            "text/plain": [
              "(5, 40, 91, 136, 80)"
            ]
          },
          "metadata": {},
          "execution_count": 26
        }
      ]
    },
    {
      "cell_type": "markdown",
      "source": [
        "###`Q3`: Check is tuples are same or not?\n",
        "Two tuples would be same if both tuples have same element at same index\n",
        "```\n",
        "t1 = (1,2,3,0)\n",
        "t2 = (0,1,2,3)\n",
        "\n",
        "t1 and t2 are not same\n",
        "```"
      ],
      "metadata": {
        "id": "eX3EbHTfEBMC"
      }
    },
    {
      "cell_type": "code",
      "source": [
        "t1 = (1,2,3,0)\n",
        "t2 = (0,1,2,3)\n",
        "\n",
        "t3 = (1,2,3,0)\n",
        "\n",
        "print('Result is ', t1 == t3)\n",
        "\n",
        "# OR\n",
        "\n",
        "flag = True\n",
        "for i in range(len(t1)):\n",
        "  if t1[i] != t2[i]:\n",
        "    flag = False\n",
        "    break\n",
        "if(flag):\n",
        "  print('Tuples are same')\n",
        "else:\n",
        "  print('Tuples are not same')"
      ],
      "metadata": {
        "colab": {
          "base_uri": "https://localhost:8080/"
        },
        "id": "pOMJprMyB7X1",
        "outputId": "c347efca-4404-4181-8285-aafea47353f8"
      },
      "execution_count": 31,
      "outputs": [
        {
          "output_type": "stream",
          "name": "stdout",
          "text": [
            "Result is  True\n",
            "Tuples are same\n"
          ]
        }
      ]
    },
    {
      "cell_type": "code",
      "source": [
        "list1 = [{'hi', 'bye'},{'Geeks', 'forGeeks'},('a', 'b'),['hi', 'bye'],['a', 'b']]\n",
        "\n",
        "s = l = t = 0\n",
        "\n",
        "for i in list1:\n",
        "  d = type(i)\n",
        "  if d == set:\n",
        "    s += 1\n",
        "  elif d == list:\n",
        "    l += 1\n",
        "  elif d == tuple:\n",
        "    t += 1\n",
        "\n",
        "print(f'List-{l}')\n",
        "print(f'Set-{s}')\n",
        "print(f'Tuple-{t}')"
      ],
      "metadata": {
        "colab": {
          "base_uri": "https://localhost:8080/"
        },
        "id": "yRwgdjrDDBjF",
        "outputId": "7228e6f2-8eb8-409a-9a9f-99c0b6f0a2e6"
      },
      "execution_count": 53,
      "outputs": [
        {
          "output_type": "stream",
          "name": "stdout",
          "text": [
            "List-2\n",
            "Set-2\n",
            "Tuple-1\n"
          ]
        }
      ]
    },
    {
      "cell_type": "markdown",
      "source": [
        "###`Q4`: Count no of tuples, list and set from a list\n",
        "```\n",
        "list1 = [{'hi', 'bye'},{'Geeks', 'forGeeks'},('a', 'b'),['hi', 'bye'],['a', 'b']]\n",
        "\n",
        "```\n",
        "`Output:`\n",
        "\n",
        "```\n",
        "List-2\n",
        "Set-2\n",
        "Tuples-1\n",
        "```"
      ],
      "metadata": {
        "id": "RVqgkqClXyvI"
      }
    },
    {
      "cell_type": "code",
      "source": [
        "list1 = [{'hi', 'bye'},{'Geeks', 'forGeeks'},('a', 'b'),['hi', 'bye'],['a', 'b']]\n",
        "\n",
        "set_count = 0\n",
        "list_count = 0\n",
        "tuple_count = 0\n",
        "\n",
        "for item in list1:\n",
        "  if isinstance(item, set):\n",
        "    set_count += 1\n",
        "  elif isinstance(item, list):\n",
        "    list_count += 1\n",
        "  elif isinstance(item, tuple):\n",
        "    tuple_count += 1\n",
        "\n",
        "print(f'List-{list_count}')\n",
        "print(f'Set-{set_count}')\n",
        "print(f'Tuple-{tuple_count}')"
      ],
      "metadata": {
        "colab": {
          "base_uri": "https://localhost:8080/"
        },
        "id": "12H9SV7mFAQO",
        "outputId": "b81f134c-45e6-495b-d3cb-e63b4a291b9a"
      },
      "execution_count": 54,
      "outputs": [
        {
          "output_type": "stream",
          "name": "stdout",
          "text": [
            "List-2\n",
            "Set-2\n",
            "Tuple-1\n"
          ]
        }
      ]
    },
    {
      "cell_type": "markdown",
      "source": [
        "###`Q5`: Shortlist Students for a Job role\n",
        "Ask user to input students record and store in tuples for each record. Then Ask user to input three things he wants in the candidate- Primary Skill, Higher Education, Year of Graduation.\n",
        "\n",
        "Show every students record in form of tuples if matches all required criteria.\n",
        "\n",
        "It is assumed that there will be only one primry skill.\n",
        "\n",
        "If no such candidate found, print `No such candidate`\n",
        "\n",
        "`Input:`\n",
        "```\n",
        "Enter No of records- 2\n",
        "Enter Details of student-1\n",
        "Enter Student name- Manohar\n",
        "Enter Higher Education- B.Tech\n",
        "Enter Primary Skill- Python\n",
        "Enter Year of Graduation- 2022\n",
        "Enter Details of student-2\n",
        "Enter Student name- Ponian\n",
        "Enter Higher Education- B.Sc.\n",
        "Enter Primary Skill- C++\n",
        "Enter Year of Graduation- 2020\n",
        "\n",
        "Enter Job Role Requirement\n",
        "Enter Skill- Python\n",
        "Enter Higher Education- B.Tech\n",
        "Enter Year of Graduation- 2022\n",
        "```\n",
        "\n",
        "`Output`\n",
        "```\n",
        "('Manohar', 'B.tech', 'Python', '2022')\n",
        "```\n"
      ],
      "metadata": {
        "id": "xvxZ3lm7Mj50"
      }
    },
    {
      "cell_type": "code",
      "source": [
        "\n",
        "n = int(input('Enter number of students: '))\n",
        "\n",
        "students = []\n",
        "\n",
        "for _ in range(n):\n",
        "    name = input('Enter Student Name: ')\n",
        "    education = input('Enter Higher Education: ')\n",
        "    skill = input('Enter Primary Skill: ')\n",
        "    graduation = input('Enter Year of Graduation: ')\n",
        "\n",
        "    students.append((name, education, skill, graduation))\n",
        "\n",
        "print('Enter Job Role Requirement')\n",
        "r_skill = input('Enter Primary Skill: ')\n",
        "r_education = input('Enter Higher Education: ')\n",
        "r_graduation = input('Enter Year of Graduation: ')\n",
        "\n",
        "shortlisted = [student for student in students if student[1] == r_education and student[2] == r_skill and student[3] == r_graduation]\n",
        "\n",
        "if shortlisted:\n",
        "    for student in shortlisted:\n",
        "        print(student)\n",
        "else:\n",
        "    print('No such candidate')\n"
      ],
      "metadata": {
        "colab": {
          "base_uri": "https://localhost:8080/"
        },
        "id": "-2MMLno7Xv1C",
        "outputId": "8cfb98dc-5ca1-4693-fe10-2fde0dc06ca0"
      },
      "execution_count": 2,
      "outputs": [
        {
          "output_type": "stream",
          "name": "stdout",
          "text": [
            "Enter number of students: 2\n",
            "Enter Student Name: Manohar\n",
            "Enter Higher Education: MS\n",
            "Enter Primary Skill: Java\n",
            "Enter Year of Graduation: 2022\n",
            "Enter Student Name: Ali\n",
            "Enter Higher Education: PhD\n",
            "Enter Primary Skill: Python\n",
            "Enter Year of Graduation: 2022\n",
            "Enter Job Role Requirement\n",
            "Enter Primary Skill: Python\n",
            "Enter Higher Education: PhD\n",
            "Enter Year of Graduation: 2022\n",
            "('Ali', 'PhD', 'Python', '2022')\n"
          ]
        }
      ]
    },
    {
      "cell_type": "code",
      "source": [],
      "metadata": {
        "id": "iMPUypxuMVOX"
      },
      "execution_count": null,
      "outputs": []
    }
  ]
}