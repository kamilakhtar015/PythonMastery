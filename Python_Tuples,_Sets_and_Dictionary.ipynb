{
  "nbformat": 4,
  "nbformat_minor": 0,
  "metadata": {
    "colab": {
      "provenance": [],
      "toc_visible": true,
      "authorship_tag": "ABX9TyO/2MY9aEkv+kOocSBovlJU",
      "include_colab_link": true
    },
    "kernelspec": {
      "name": "python3",
      "display_name": "Python 3"
    },
    "language_info": {
      "name": "python"
    }
  },
  "cells": [
    {
      "cell_type": "markdown",
      "metadata": {
        "id": "view-in-github",
        "colab_type": "text"
      },
      "source": [
        "<a href=\"https://colab.research.google.com/github/kamilakhtar015/PythonMastery/blob/main/Python_Tuples%2C_Sets_and_Dictionary.ipynb\" target=\"_parent\"><img src=\"https://colab.research.google.com/assets/colab-badge.svg\" alt=\"Open In Colab\"/></a>"
      ]
    },
    {
      "cell_type": "markdown",
      "source": [
        "# Tuples\n",
        "\n",
        "A tuple in Python is similar to a list. The difference between the two is that we cannot change the elements of a tuple once it is assigned whereas we can change the elements of a list.\n",
        "\n",
        "In short, a tuple is an immutable list. A tuple can not be changed in any way once it is created.\n",
        "\n",
        "Characterstics\n",
        "\n",
        "- Ordered\n",
        "- Unchangeble\n",
        "- Allows duplicate"
      ],
      "metadata": {
        "id": "_0DmeR3Ioi-7"
      }
    },
    {
      "cell_type": "markdown",
      "source": [
        "### Plan of attack\n",
        "\n",
        "- Creating a Tuple\n",
        "- Accessing items\n",
        "- Editing items\n",
        "- Adding items\n",
        "- Deleting items\n",
        "- Operations on Tuples\n",
        "- Tuple Functions"
      ],
      "metadata": {
        "id": "e0qo9YTTorO6"
      }
    },
    {
      "cell_type": "markdown",
      "source": [
        "### Creating Tuples"
      ],
      "metadata": {
        "id": "tQar5ErYov5R"
      }
    },
    {
      "cell_type": "code",
      "source": [
        "# empty\n",
        "t1 = ()\n",
        "print(t1)\n",
        "\n",
        "# single item tuple\n",
        "t2 = (2,)\n",
        "print(t2)\n",
        "print(type(t2))\n",
        "\n",
        "# Homogenous\n",
        "t3 = (1,2,3,4)\n",
        "print(t3)\n",
        "\n",
        "# Hetrogenous\n",
        "t4 = (1,2.3,True,[1,2,3])\n",
        "print(t4)\n",
        "\n",
        "# tuple in tuple\n",
        "t5 = (1,2,3,(4,5))\n",
        "print(t5)\n",
        "\n",
        "# using type conversion\n",
        "t6 = tuple('Hello')\n",
        "print(t6)"
      ],
      "metadata": {
        "colab": {
          "base_uri": "https://localhost:8080/"
        },
        "id": "IsfNWq9BojSR",
        "outputId": "a95279b4-9054-4939-91a0-e06195a4ac85"
      },
      "execution_count": 12,
      "outputs": [
        {
          "output_type": "stream",
          "name": "stdout",
          "text": [
            "()\n",
            "(2,)\n",
            "<class 'tuple'>\n",
            "(1, 2, 3, 4)\n",
            "(1, 2.3, True, [1, 2, 3])\n",
            "(1, 2, 3, (4, 5))\n",
            "('H', 'e', 'l', 'l', 'o')\n"
          ]
        }
      ]
    },
    {
      "cell_type": "markdown",
      "source": [
        "### Accessing Items\n",
        "\n",
        "- Indexing\n",
        "- Slicing"
      ],
      "metadata": {
        "id": "kheDSc4np_uY"
      }
    },
    {
      "cell_type": "code",
      "source": [
        "# Indexing\n",
        "print(t3)\n",
        "print(t3[0])\n",
        "print(t3[-1])\n",
        "\n",
        "\n",
        "# Slicing\n",
        "print(t3[0:4:2])"
      ],
      "metadata": {
        "colab": {
          "base_uri": "https://localhost:8080/"
        },
        "id": "F2P_JUslpOzF",
        "outputId": "d36b1480-b862-49c6-c76b-4a80507d29f7"
      },
      "execution_count": 16,
      "outputs": [
        {
          "output_type": "stream",
          "name": "stdout",
          "text": [
            "(1, 2, 3, 4)\n",
            "1\n",
            "4\n",
            "(1, 3)\n"
          ]
        }
      ]
    },
    {
      "cell_type": "code",
      "source": [
        "# Reversing a tuple\n",
        "print(t3[::-1])"
      ],
      "metadata": {
        "colab": {
          "base_uri": "https://localhost:8080/"
        },
        "id": "84UUikhbqKzS",
        "outputId": "0a4132df-45f0-4632-adc1-e9d48d521ee2"
      },
      "execution_count": 17,
      "outputs": [
        {
          "output_type": "stream",
          "name": "stdout",
          "text": [
            "(4, 3, 2, 1)\n"
          ]
        }
      ]
    },
    {
      "cell_type": "code",
      "source": [
        "print(t5)\n",
        "print(t5[3][0])"
      ],
      "metadata": {
        "colab": {
          "base_uri": "https://localhost:8080/"
        },
        "id": "DW-ICDmzqa46",
        "outputId": "2636521e-3148-4dac-c062-c959375f89a4"
      },
      "execution_count": 19,
      "outputs": [
        {
          "output_type": "stream",
          "name": "stdout",
          "text": [
            "(1, 2, 3, (4, 5))\n",
            "4\n"
          ]
        }
      ]
    },
    {
      "cell_type": "markdown",
      "source": [
        "###Editing Items"
      ],
      "metadata": {
        "id": "GOkusSYQqmKT"
      }
    },
    {
      "cell_type": "markdown",
      "source": [
        "Just like strings, tuples are immutable and they can be edit"
      ],
      "metadata": {
        "id": "IHl8budCq3hO"
      }
    },
    {
      "cell_type": "code",
      "source": [
        "print(t3)\n",
        "t3[0] = 100"
      ],
      "metadata": {
        "colab": {
          "base_uri": "https://localhost:8080/",
          "height": 176
        },
        "id": "sZtHw_zRqdym",
        "outputId": "b7b199fb-bc41-4ad0-df66-4d40b3985694"
      },
      "execution_count": 21,
      "outputs": [
        {
          "output_type": "stream",
          "name": "stdout",
          "text": [
            "(1, 2, 3, 4)\n"
          ]
        },
        {
          "output_type": "error",
          "ename": "TypeError",
          "evalue": "'tuple' object does not support item assignment",
          "traceback": [
            "\u001b[0;31m---------------------------------------------------------------------------\u001b[0m",
            "\u001b[0;31mTypeError\u001b[0m                                 Traceback (most recent call last)",
            "\u001b[0;32m<ipython-input-21-49d9e1416ccf>\u001b[0m in \u001b[0;36m<cell line: 0>\u001b[0;34m()\u001b[0m\n\u001b[1;32m      1\u001b[0m \u001b[0mprint\u001b[0m\u001b[0;34m(\u001b[0m\u001b[0mt3\u001b[0m\u001b[0;34m)\u001b[0m\u001b[0;34m\u001b[0m\u001b[0;34m\u001b[0m\u001b[0m\n\u001b[0;32m----> 2\u001b[0;31m \u001b[0mt3\u001b[0m\u001b[0;34m[\u001b[0m\u001b[0;36m0\u001b[0m\u001b[0;34m]\u001b[0m \u001b[0;34m=\u001b[0m \u001b[0;36m100\u001b[0m\u001b[0;34m\u001b[0m\u001b[0;34m\u001b[0m\u001b[0m\n\u001b[0m",
            "\u001b[0;31mTypeError\u001b[0m: 'tuple' object does not support item assignment"
          ]
        }
      ]
    },
    {
      "cell_type": "markdown",
      "source": [
        "###Adding Items"
      ],
      "metadata": {
        "id": "SE4ar3Utq99u"
      }
    },
    {
      "cell_type": "code",
      "source": [
        "print(t3)\n",
        "# Not possible"
      ],
      "metadata": {
        "colab": {
          "base_uri": "https://localhost:8080/"
        },
        "id": "mI-wHERIqyQ-",
        "outputId": "8f881ef0-a3db-4a19-f5d0-8ba533cc60d5"
      },
      "execution_count": 22,
      "outputs": [
        {
          "output_type": "stream",
          "name": "stdout",
          "text": [
            "(1, 2, 3, 4)\n"
          ]
        }
      ]
    },
    {
      "cell_type": "markdown",
      "source": [
        "### Deleting Items"
      ],
      "metadata": {
        "id": "6-e_QA1irRXC"
      }
    },
    {
      "cell_type": "code",
      "source": [
        "# Deleting the entire tuples works but we cannot delete items from the tuple\n",
        "print(t3)\n",
        "del t3\n",
        "print(t3)"
      ],
      "metadata": {
        "colab": {
          "base_uri": "https://localhost:8080/",
          "height": 193
        },
        "id": "1SqJO9EErIjw",
        "outputId": "2f02d4d1-15ca-417a-8cf3-58b6c4532dc7"
      },
      "execution_count": 23,
      "outputs": [
        {
          "output_type": "stream",
          "name": "stdout",
          "text": [
            "(1, 2, 3, 4)\n"
          ]
        },
        {
          "output_type": "error",
          "ename": "NameError",
          "evalue": "name 't3' is not defined",
          "traceback": [
            "\u001b[0;31m---------------------------------------------------------------------------\u001b[0m",
            "\u001b[0;31mNameError\u001b[0m                                 Traceback (most recent call last)",
            "\u001b[0;32m<ipython-input-23-07ca0e0a9233>\u001b[0m in \u001b[0;36m<cell line: 0>\u001b[0;34m()\u001b[0m\n\u001b[1;32m      2\u001b[0m \u001b[0mprint\u001b[0m\u001b[0;34m(\u001b[0m\u001b[0mt3\u001b[0m\u001b[0;34m)\u001b[0m\u001b[0;34m\u001b[0m\u001b[0;34m\u001b[0m\u001b[0m\n\u001b[1;32m      3\u001b[0m \u001b[0;32mdel\u001b[0m \u001b[0mt3\u001b[0m\u001b[0;34m\u001b[0m\u001b[0;34m\u001b[0m\u001b[0m\n\u001b[0;32m----> 4\u001b[0;31m \u001b[0mprint\u001b[0m\u001b[0;34m(\u001b[0m\u001b[0mt3\u001b[0m\u001b[0;34m)\u001b[0m\u001b[0;34m\u001b[0m\u001b[0;34m\u001b[0m\u001b[0m\n\u001b[0m",
            "\u001b[0;31mNameError\u001b[0m: name 't3' is not defined"
          ]
        }
      ]
    },
    {
      "cell_type": "code",
      "source": [
        " t = (1,2,3,4,5,6)\n",
        " print(t[-4:])\n",
        " print(t[-5::2])\n",
        "\n",
        "#  left side number should always be greater\n",
        " print(t[-1:-4:-1])"
      ],
      "metadata": {
        "colab": {
          "base_uri": "https://localhost:8080/"
        },
        "id": "DEu2s9V6rYeI",
        "outputId": "2b215d99-f821-44f6-e1ef-4d1331cc1a3f"
      },
      "execution_count": 30,
      "outputs": [
        {
          "output_type": "stream",
          "name": "stdout",
          "text": [
            "(3, 4, 5, 6)\n",
            "(2, 4, 6)\n",
            "(6, 5, 4)\n"
          ]
        }
      ]
    },
    {
      "cell_type": "markdown",
      "source": [
        "### Operations on Tuples"
      ],
      "metadata": {
        "id": "nNcuK-K6sGgc"
      }
    },
    {
      "cell_type": "code",
      "source": [
        "t1 = (1,2,3,4)\n",
        "t2 = (5,6,7)\n",
        "\n",
        "# Addition\n",
        "print(t1+t2)\n",
        "\n",
        "# Multiplication\n",
        "print(t1*3)\n",
        "\n",
        "\n",
        "# Membership\n",
        "print(1 in t1)\n",
        "print(5 in t1)\n",
        "\n",
        "\n",
        "# Iteration -- Loop\n",
        "for i in t1:\n",
        "  print(i,end='')"
      ],
      "metadata": {
        "colab": {
          "base_uri": "https://localhost:8080/"
        },
        "id": "hnlJ5lukr00-",
        "outputId": "912ad01b-3ad8-455d-b87e-c8d9e51c9749"
      },
      "execution_count": 36,
      "outputs": [
        {
          "output_type": "stream",
          "name": "stdout",
          "text": [
            "(1, 2, 3, 4, 5, 6, 7)\n",
            "(1, 2, 3, 4, 1, 2, 3, 4, 1, 2, 3, 4)\n",
            "True\n",
            "False\n",
            "1234"
          ]
        }
      ]
    },
    {
      "cell_type": "markdown",
      "source": [
        "### Functions"
      ],
      "metadata": {
        "id": "Wi4XN2BOs1ta"
      }
    },
    {
      "cell_type": "code",
      "source": [
        "t = (1,2,3,4,5)\n",
        "\n",
        "# length\n",
        "print(len(t))\n",
        "\n",
        "# sum\n",
        "print(sum(t))\n",
        "\n",
        "# minimum\n",
        "print(min(t))\n",
        "\n",
        "# Maximum\n",
        "print(max(t))\n",
        "\n",
        "# sorted\n",
        "print(sorted(t))\n",
        "\n",
        "# sorted in descending order\n",
        "print(sorted(t,reverse=True))"
      ],
      "metadata": {
        "colab": {
          "base_uri": "https://localhost:8080/"
        },
        "id": "NknS2q16sZHw",
        "outputId": "1342014e-903b-4238-86d2-26b08a2d823c"
      },
      "execution_count": 40,
      "outputs": [
        {
          "output_type": "stream",
          "name": "stdout",
          "text": [
            "5\n",
            "15\n",
            "1\n",
            "5\n",
            "[1, 2, 3, 4, 5]\n",
            "[5, 4, 3, 2, 1]\n"
          ]
        }
      ]
    },
    {
      "cell_type": "code",
      "source": [],
      "metadata": {
        "id": "98DpI8tGs7po"
      },
      "execution_count": null,
      "outputs": []
    }
  ]
}