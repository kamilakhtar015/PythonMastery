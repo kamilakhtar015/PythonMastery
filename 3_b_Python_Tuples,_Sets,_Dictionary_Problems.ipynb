{
  "nbformat": 4,
  "nbformat_minor": 0,
  "metadata": {
    "colab": {
      "provenance": [],
      "authorship_tag": "ABX9TyNSMnYtl/JTrwp2ij66tH6u",
      "include_colab_link": true
    },
    "kernelspec": {
      "name": "python3",
      "display_name": "Python 3"
    },
    "language_info": {
      "name": "python"
    }
  },
  "cells": [
    {
      "cell_type": "markdown",
      "metadata": {
        "id": "view-in-github",
        "colab_type": "text"
      },
      "source": [
        "<a href=\"https://colab.research.google.com/github/kamilakhtar015/PythonMastery/blob/main/3_b_Python_Tuples%2C_Sets%2C_Dictionary_Problems.ipynb\" target=\"_parent\"><img src=\"https://colab.research.google.com/assets/colab-badge.svg\" alt=\"Open In Colab\"/></a>"
      ]
    },
    {
      "cell_type": "markdown",
      "source": [
        "# Tuples\n",
        "\n",
        "A tuple in Python is similar to a list. The difference between the two is that we cannot change the elements of a tuple once it is assigned whereas we can change the elements of a list.\n",
        "\n",
        "In short, a tuple is an immutable list. A tuple can not be changed in any way once it is created.\n",
        "\n",
        "Characterstics\n",
        "\n",
        "- Ordered\n",
        "- Unchangeble\n",
        "- Allows duplicate"
      ],
      "metadata": {
        "id": "_0DmeR3Ioi-7"
      }
    },
    {
      "cell_type": "markdown",
      "source": [
        "### Plan of attack\n",
        "\n",
        "- Creating a Tuple\n",
        "- Accessing items\n",
        "- Editing items\n",
        "- Adding items\n",
        "- Deleting items\n",
        "- Operations on Tuples\n",
        "- Tuple Functions"
      ],
      "metadata": {
        "id": "e0qo9YTTorO6"
      }
    },
    {
      "cell_type": "markdown",
      "source": [
        "### Creating Tuples"
      ],
      "metadata": {
        "id": "tQar5ErYov5R"
      }
    },
    {
      "cell_type": "code",
      "source": [
        "# empty\n",
        "t1 = ()\n",
        "print(t1)\n",
        "\n",
        "# single item tuple\n",
        "t2 = (2,)\n",
        "print(t2)\n",
        "print(type(t2))\n",
        "\n",
        "# Homogenous\n",
        "t3 = (1,2,3,4)\n",
        "print(t3)\n",
        "\n",
        "# Hetrogenous\n",
        "t4 = (1,2.3,True,[1,2,3])\n",
        "print(t4)\n",
        "\n",
        "# tuple in tuple\n",
        "t5 = (1,2,3,(4,5))\n",
        "print(t5)\n",
        "\n",
        "# using type conversion\n",
        "t6 = tuple('Hello')\n",
        "print(t6)"
      ],
      "metadata": {
        "colab": {
          "base_uri": "https://localhost:8080/"
        },
        "id": "IsfNWq9BojSR",
        "outputId": "a95279b4-9054-4939-91a0-e06195a4ac85"
      },
      "execution_count": null,
      "outputs": [
        {
          "output_type": "stream",
          "name": "stdout",
          "text": [
            "()\n",
            "(2,)\n",
            "<class 'tuple'>\n",
            "(1, 2, 3, 4)\n",
            "(1, 2.3, True, [1, 2, 3])\n",
            "(1, 2, 3, (4, 5))\n",
            "('H', 'e', 'l', 'l', 'o')\n"
          ]
        }
      ]
    },
    {
      "cell_type": "markdown",
      "source": [
        "### Accessing Items\n",
        "\n",
        "- Indexing\n",
        "- Slicing"
      ],
      "metadata": {
        "id": "kheDSc4np_uY"
      }
    },
    {
      "cell_type": "code",
      "source": [
        "# Indexing\n",
        "print(t3)\n",
        "print(t3[0])\n",
        "print(t3[-1])\n",
        "\n",
        "\n",
        "# Slicing\n",
        "print(t3[0:4:2])"
      ],
      "metadata": {
        "colab": {
          "base_uri": "https://localhost:8080/"
        },
        "id": "F2P_JUslpOzF",
        "outputId": "d36b1480-b862-49c6-c76b-4a80507d29f7"
      },
      "execution_count": null,
      "outputs": [
        {
          "output_type": "stream",
          "name": "stdout",
          "text": [
            "(1, 2, 3, 4)\n",
            "1\n",
            "4\n",
            "(1, 3)\n"
          ]
        }
      ]
    },
    {
      "cell_type": "code",
      "source": [
        "# Reversing a tuple\n",
        "print(t3[::-1])"
      ],
      "metadata": {
        "colab": {
          "base_uri": "https://localhost:8080/"
        },
        "id": "84UUikhbqKzS",
        "outputId": "0a4132df-45f0-4632-adc1-e9d48d521ee2"
      },
      "execution_count": null,
      "outputs": [
        {
          "output_type": "stream",
          "name": "stdout",
          "text": [
            "(4, 3, 2, 1)\n"
          ]
        }
      ]
    },
    {
      "cell_type": "code",
      "source": [
        "print(t5)\n",
        "print(t5[3][0])"
      ],
      "metadata": {
        "colab": {
          "base_uri": "https://localhost:8080/"
        },
        "id": "DW-ICDmzqa46",
        "outputId": "2636521e-3148-4dac-c062-c959375f89a4"
      },
      "execution_count": null,
      "outputs": [
        {
          "output_type": "stream",
          "name": "stdout",
          "text": [
            "(1, 2, 3, (4, 5))\n",
            "4\n"
          ]
        }
      ]
    },
    {
      "cell_type": "markdown",
      "source": [
        "###Editing Items"
      ],
      "metadata": {
        "id": "GOkusSYQqmKT"
      }
    },
    {
      "cell_type": "markdown",
      "source": [
        "Just like strings, tuples are immutable and they can be edit"
      ],
      "metadata": {
        "id": "IHl8budCq3hO"
      }
    },
    {
      "cell_type": "code",
      "source": [
        "print(t3)\n",
        "t3[0] = 100"
      ],
      "metadata": {
        "colab": {
          "base_uri": "https://localhost:8080/",
          "height": 176
        },
        "id": "sZtHw_zRqdym",
        "outputId": "b7b199fb-bc41-4ad0-df66-4d40b3985694"
      },
      "execution_count": null,
      "outputs": [
        {
          "output_type": "stream",
          "name": "stdout",
          "text": [
            "(1, 2, 3, 4)\n"
          ]
        },
        {
          "output_type": "error",
          "ename": "TypeError",
          "evalue": "'tuple' object does not support item assignment",
          "traceback": [
            "\u001b[0;31m---------------------------------------------------------------------------\u001b[0m",
            "\u001b[0;31mTypeError\u001b[0m                                 Traceback (most recent call last)",
            "\u001b[0;32m<ipython-input-21-49d9e1416ccf>\u001b[0m in \u001b[0;36m<cell line: 0>\u001b[0;34m()\u001b[0m\n\u001b[1;32m      1\u001b[0m \u001b[0mprint\u001b[0m\u001b[0;34m(\u001b[0m\u001b[0mt3\u001b[0m\u001b[0;34m)\u001b[0m\u001b[0;34m\u001b[0m\u001b[0;34m\u001b[0m\u001b[0m\n\u001b[0;32m----> 2\u001b[0;31m \u001b[0mt3\u001b[0m\u001b[0;34m[\u001b[0m\u001b[0;36m0\u001b[0m\u001b[0;34m]\u001b[0m \u001b[0;34m=\u001b[0m \u001b[0;36m100\u001b[0m\u001b[0;34m\u001b[0m\u001b[0;34m\u001b[0m\u001b[0m\n\u001b[0m",
            "\u001b[0;31mTypeError\u001b[0m: 'tuple' object does not support item assignment"
          ]
        }
      ]
    },
    {
      "cell_type": "markdown",
      "source": [
        "###Adding Items"
      ],
      "metadata": {
        "id": "SE4ar3Utq99u"
      }
    },
    {
      "cell_type": "code",
      "source": [
        "print(t3)\n",
        "# Not possible"
      ],
      "metadata": {
        "colab": {
          "base_uri": "https://localhost:8080/"
        },
        "id": "mI-wHERIqyQ-",
        "outputId": "8f881ef0-a3db-4a19-f5d0-8ba533cc60d5"
      },
      "execution_count": null,
      "outputs": [
        {
          "output_type": "stream",
          "name": "stdout",
          "text": [
            "(1, 2, 3, 4)\n"
          ]
        }
      ]
    },
    {
      "cell_type": "markdown",
      "source": [
        "### Deleting Items"
      ],
      "metadata": {
        "id": "6-e_QA1irRXC"
      }
    },
    {
      "cell_type": "code",
      "source": [
        "# Deleting the entire tuples works but we cannot delete items from the tuple\n",
        "print(t3)\n",
        "del t3\n",
        "print(t3)"
      ],
      "metadata": {
        "colab": {
          "base_uri": "https://localhost:8080/",
          "height": 193
        },
        "id": "1SqJO9EErIjw",
        "outputId": "2f02d4d1-15ca-417a-8cf3-58b6c4532dc7"
      },
      "execution_count": null,
      "outputs": [
        {
          "output_type": "stream",
          "name": "stdout",
          "text": [
            "(1, 2, 3, 4)\n"
          ]
        },
        {
          "output_type": "error",
          "ename": "NameError",
          "evalue": "name 't3' is not defined",
          "traceback": [
            "\u001b[0;31m---------------------------------------------------------------------------\u001b[0m",
            "\u001b[0;31mNameError\u001b[0m                                 Traceback (most recent call last)",
            "\u001b[0;32m<ipython-input-23-07ca0e0a9233>\u001b[0m in \u001b[0;36m<cell line: 0>\u001b[0;34m()\u001b[0m\n\u001b[1;32m      2\u001b[0m \u001b[0mprint\u001b[0m\u001b[0;34m(\u001b[0m\u001b[0mt3\u001b[0m\u001b[0;34m)\u001b[0m\u001b[0;34m\u001b[0m\u001b[0;34m\u001b[0m\u001b[0m\n\u001b[1;32m      3\u001b[0m \u001b[0;32mdel\u001b[0m \u001b[0mt3\u001b[0m\u001b[0;34m\u001b[0m\u001b[0;34m\u001b[0m\u001b[0m\n\u001b[0;32m----> 4\u001b[0;31m \u001b[0mprint\u001b[0m\u001b[0;34m(\u001b[0m\u001b[0mt3\u001b[0m\u001b[0;34m)\u001b[0m\u001b[0;34m\u001b[0m\u001b[0;34m\u001b[0m\u001b[0m\n\u001b[0m",
            "\u001b[0;31mNameError\u001b[0m: name 't3' is not defined"
          ]
        }
      ]
    },
    {
      "cell_type": "code",
      "source": [
        " t = (1,2,3,4,5,6)\n",
        " print(t[-4:])\n",
        " print(t[-5::2])\n",
        "\n",
        "#  left side number should always be greater\n",
        " print(t[-1:-4:-1])"
      ],
      "metadata": {
        "colab": {
          "base_uri": "https://localhost:8080/"
        },
        "id": "DEu2s9V6rYeI",
        "outputId": "2b215d99-f821-44f6-e1ef-4d1331cc1a3f"
      },
      "execution_count": null,
      "outputs": [
        {
          "output_type": "stream",
          "name": "stdout",
          "text": [
            "(3, 4, 5, 6)\n",
            "(2, 4, 6)\n",
            "(6, 5, 4)\n"
          ]
        }
      ]
    },
    {
      "cell_type": "markdown",
      "source": [
        "### Operations on Tuples"
      ],
      "metadata": {
        "id": "nNcuK-K6sGgc"
      }
    },
    {
      "cell_type": "code",
      "source": [
        "t1 = (1,2,3,4)\n",
        "t2 = (5,6,7)\n",
        "\n",
        "# Addition\n",
        "print(t1+t2)\n",
        "\n",
        "# Multiplication\n",
        "print(t1*3)\n",
        "\n",
        "\n",
        "# Membership\n",
        "print(1 in t1)\n",
        "print(5 in t1)\n",
        "\n",
        "\n",
        "# Iteration -- Loop\n",
        "for i in t1:\n",
        "  print(i,end='')"
      ],
      "metadata": {
        "colab": {
          "base_uri": "https://localhost:8080/"
        },
        "id": "hnlJ5lukr00-",
        "outputId": "912ad01b-3ad8-455d-b87e-c8d9e51c9749"
      },
      "execution_count": null,
      "outputs": [
        {
          "output_type": "stream",
          "name": "stdout",
          "text": [
            "(1, 2, 3, 4, 5, 6, 7)\n",
            "(1, 2, 3, 4, 1, 2, 3, 4, 1, 2, 3, 4)\n",
            "True\n",
            "False\n",
            "1234"
          ]
        }
      ]
    },
    {
      "cell_type": "markdown",
      "source": [
        "### Functions"
      ],
      "metadata": {
        "id": "Wi4XN2BOs1ta"
      }
    },
    {
      "cell_type": "code",
      "source": [
        "t = (1,2,3,4,5)\n",
        "\n",
        "# length\n",
        "print(len(t))\n",
        "\n",
        "# sum\n",
        "print(sum(t))\n",
        "\n",
        "# minimum\n",
        "print(min(t))\n",
        "\n",
        "# Maximum\n",
        "print(max(t))\n",
        "\n",
        "# sorted\n",
        "print(sorted(t))\n",
        "\n",
        "# sorted in descending order\n",
        "print(sorted(t,reverse=True))"
      ],
      "metadata": {
        "colab": {
          "base_uri": "https://localhost:8080/"
        },
        "id": "NknS2q16sZHw",
        "outputId": "1342014e-903b-4238-86d2-26b08a2d823c"
      },
      "execution_count": null,
      "outputs": [
        {
          "output_type": "stream",
          "name": "stdout",
          "text": [
            "5\n",
            "15\n",
            "1\n",
            "5\n",
            "[1, 2, 3, 4, 5]\n",
            "[5, 4, 3, 2, 1]\n"
          ]
        }
      ]
    },
    {
      "cell_type": "code",
      "source": [
        "# count\n",
        "t = (1,2,3,4,5,1)\n",
        "print(t.count(1))\n",
        "print(t.count(5))\n",
        "print(t.count(10))"
      ],
      "metadata": {
        "colab": {
          "base_uri": "https://localhost:8080/"
        },
        "id": "98DpI8tGs7po",
        "outputId": "db7de4c0-eeb4-48b0-ee85-eb3fd3deeddc"
      },
      "execution_count": null,
      "outputs": [
        {
          "output_type": "stream",
          "name": "stdout",
          "text": [
            "2\n",
            "1\n",
            "0\n"
          ]
        }
      ]
    },
    {
      "cell_type": "code",
      "source": [
        "# Index\n",
        "print(t.index(5))\n",
        "\n",
        "# if one item is multiple times than first occurance index will be given"
      ],
      "metadata": {
        "colab": {
          "base_uri": "https://localhost:8080/"
        },
        "id": "YuiIdWdztnmu",
        "outputId": "40296900-2846-4646-a8da-c336298faf85"
      },
      "execution_count": null,
      "outputs": [
        {
          "output_type": "execute_result",
          "data": {
            "text/plain": [
              "4"
            ]
          },
          "metadata": {},
          "execution_count": 43
        }
      ]
    },
    {
      "cell_type": "markdown",
      "source": [
        "### Difference between Lists and Tuples\n",
        "\n",
        "- Syntax\n",
        "- Mutability\n",
        "- Speed  \n",
        "- Memory\n",
        "- Built in functionality\n",
        "- Error prone\n",
        "- Usability\n"
      ],
      "metadata": {
        "id": "_2McBcs3t-_c"
      }
    },
    {
      "cell_type": "markdown",
      "source": [
        "Tuples are fasters than list because of immutability."
      ],
      "metadata": {
        "id": "HyFGchIvuHXx"
      }
    },
    {
      "cell_type": "code",
      "source": [
        "import time\n",
        "\n",
        "L = list(range(100000000))\n",
        "T = tuple(range(100000000))\n",
        "\n",
        "start = time.time()\n",
        "for i in L:\n",
        "  i*5\n",
        "print('List time',time.time()-start)\n",
        "\n",
        "start = time.time()\n",
        "for i in T:\n",
        "  i*5\n",
        "print('Tuple time',time.time()-start)"
      ],
      "metadata": {
        "colab": {
          "base_uri": "https://localhost:8080/"
        },
        "id": "gLqzlfS0tuSe",
        "outputId": "f34a87ad-dead-4158-9675-1c452be1ca83"
      },
      "execution_count": null,
      "outputs": [
        {
          "output_type": "stream",
          "name": "stdout",
          "text": [
            "List time 10.772711992263794\n",
            "Tuple time 7.543992519378662\n"
          ]
        }
      ]
    },
    {
      "cell_type": "markdown",
      "source": [
        "Tuples occupy less space than list"
      ],
      "metadata": {
        "id": "nGdeZN2evL-h"
      }
    },
    {
      "cell_type": "code",
      "source": [
        "import sys\n",
        "\n",
        "L = list(range(1000))\n",
        "T = tuple(range(1000))\n",
        "\n",
        "print('List size',sys.getsizeof(L))\n",
        "print('Tuple size',sys.getsizeof(T))\n"
      ],
      "metadata": {
        "colab": {
          "base_uri": "https://localhost:8080/"
        },
        "id": "PLVt9ToHuxzV",
        "outputId": "295cb1f5-f297-420d-ac9d-e58f002f9529"
      },
      "execution_count": null,
      "outputs": [
        {
          "output_type": "stream",
          "name": "stdout",
          "text": [
            "List size 8056\n",
            "Tuple size 8040\n"
          ]
        }
      ]
    },
    {
      "cell_type": "markdown",
      "source": [
        "### Special Syntax"
      ],
      "metadata": {
        "id": "zFkP14LAwLYr"
      }
    },
    {
      "cell_type": "code",
      "source": [
        "# tuple unpacking\n",
        "a,b,c = (1,2,3)\n",
        "print(a,b,c)"
      ],
      "metadata": {
        "colab": {
          "base_uri": "https://localhost:8080/"
        },
        "id": "T2zIsizwvUkk",
        "outputId": "3bafb96d-c0b5-43df-a14a-69c146060ce3"
      },
      "execution_count": null,
      "outputs": [
        {
          "output_type": "stream",
          "name": "stdout",
          "text": [
            "1 2 3\n"
          ]
        }
      ]
    },
    {
      "cell_type": "code",
      "source": [
        "a,b = (1,2,3)\n",
        "print(a,b)"
      ],
      "metadata": {
        "colab": {
          "base_uri": "https://localhost:8080/",
          "height": 158
        },
        "id": "YkXJMeJwwPTi",
        "outputId": "3c9a23ee-7887-4fce-9374-62c75178c9a1"
      },
      "execution_count": null,
      "outputs": [
        {
          "output_type": "error",
          "ename": "ValueError",
          "evalue": "too many values to unpack (expected 2)",
          "traceback": [
            "\u001b[0;31m---------------------------------------------------------------------------\u001b[0m",
            "\u001b[0;31mValueError\u001b[0m                                Traceback (most recent call last)",
            "\u001b[0;32m<ipython-input-8-22f327f11d4b>\u001b[0m in \u001b[0;36m<cell line: 0>\u001b[0;34m()\u001b[0m\n\u001b[0;32m----> 1\u001b[0;31m \u001b[0ma\u001b[0m\u001b[0;34m,\u001b[0m\u001b[0mb\u001b[0m \u001b[0;34m=\u001b[0m \u001b[0;34m(\u001b[0m\u001b[0;36m1\u001b[0m\u001b[0;34m,\u001b[0m\u001b[0;36m2\u001b[0m\u001b[0;34m,\u001b[0m\u001b[0;36m3\u001b[0m\u001b[0;34m)\u001b[0m\u001b[0;34m\u001b[0m\u001b[0;34m\u001b[0m\u001b[0m\n\u001b[0m\u001b[1;32m      2\u001b[0m \u001b[0mprint\u001b[0m\u001b[0;34m(\u001b[0m\u001b[0ma\u001b[0m\u001b[0;34m,\u001b[0m\u001b[0mb\u001b[0m\u001b[0;34m)\u001b[0m\u001b[0;34m\u001b[0m\u001b[0;34m\u001b[0m\u001b[0m\n",
            "\u001b[0;31mValueError\u001b[0m: too many values to unpack (expected 2)"
          ]
        }
      ]
    },
    {
      "cell_type": "markdown",
      "source": [
        "Swapping Elements in Tuple"
      ],
      "metadata": {
        "id": "W05r43DWwePp"
      }
    },
    {
      "cell_type": "code",
      "source": [
        "  a = 1\n",
        "  b = 2\n",
        "  a,b = b,a\n",
        "  print(a,b)"
      ],
      "metadata": {
        "colab": {
          "base_uri": "https://localhost:8080/"
        },
        "id": "9Eo_3qihwUXm",
        "outputId": "7ff07163-5772-4983-dbae-1a905d89a18e"
      },
      "execution_count": null,
      "outputs": [
        {
          "output_type": "stream",
          "name": "stdout",
          "text": [
            "2 1\n"
          ]
        }
      ]
    },
    {
      "cell_type": "code",
      "source": [
        "a,b,*others = (1,2,3,4,5,6)\n",
        "print(a,b)\n",
        "print(others)"
      ],
      "metadata": {
        "colab": {
          "base_uri": "https://localhost:8080/"
        },
        "id": "tOgD8nerwcan",
        "outputId": "b70634ac-88ce-4726-ccf1-f4c0519e65a1"
      },
      "execution_count": null,
      "outputs": [
        {
          "output_type": "stream",
          "name": "stdout",
          "text": [
            "1 2\n",
            "[3, 4, 5, 6]\n"
          ]
        }
      ]
    },
    {
      "cell_type": "code",
      "source": [
        "# Zipping Tuples\n",
        "a = (1,2,3)\n",
        "b = (4,5,6)\n",
        "\n",
        "print(zip(a,b))\n",
        "\n",
        "print(list(zip(a,b)))\n",
        "\n",
        "print(tuple(zip(a,b)))"
      ],
      "metadata": {
        "colab": {
          "base_uri": "https://localhost:8080/"
        },
        "id": "F9md5JRqwsAH",
        "outputId": "9667b453-0829-459c-e6b5-5e2069224d47"
      },
      "execution_count": null,
      "outputs": [
        {
          "output_type": "stream",
          "name": "stdout",
          "text": [
            "<zip object at 0x7b8d5838edc0>\n",
            "[(1, 4), (2, 5), (3, 6)]\n",
            "((1, 4), (2, 5), (3, 6))\n"
          ]
        }
      ]
    },
    {
      "cell_type": "markdown",
      "source": [
        "# Sets\n",
        "\n",
        "A set is an unordered collection of items. Every set element is unique (no duplicates) and must be immutable (cannot be changed).\n",
        "\n",
        "However, a set itself is mutable. We can add or remove items from it.\n",
        "\n",
        "Sets can also be used to perform mathematical set operations like union, intersection, symmetric difference, etc.\n",
        "\n",
        "Characterstics:\n",
        "- Unordered\n",
        "- Mutable\n",
        "- No Duplicates\n",
        "- Can't contain mutable data types"
      ],
      "metadata": {
        "id": "AQB6rrmfxIci"
      }
    },
    {
      "cell_type": "markdown",
      "source": [
        "### Creating Sets"
      ],
      "metadata": {
        "id": "ayVZCXKvxLWn"
      }
    },
    {
      "cell_type": "code",
      "source": [
        "# Empty\n",
        "s = {}\n",
        "print(type(s1))\n",
        "\n",
        "# Empty set\n",
        "s1 = set()\n",
        "print(type(s2))\n",
        "\n",
        "# Homo\n",
        "s2 = {1,2,3,4}\n",
        "print(s2)\n",
        "\n",
        "# Hetro\n",
        "s3 = {1,'Hello', True, 4.5, (1,2,3)}\n",
        "print(s3)\n",
        "\n",
        "# using type conversion\n",
        "s4 = set([1,2,3])\n",
        "print(s4)\n",
        "\n",
        "# duplicates are not allowed\n",
        "s5 = {1,2,3,1,2,3}\n",
        "print(s5)\n",
        "\n",
        "# set can't have mutable items\n",
        "s6 = {1,2,[1,2,3]}\n",
        "print(s6)"
      ],
      "metadata": {
        "colab": {
          "base_uri": "https://localhost:8080/",
          "height": 297
        },
        "id": "0NHGZ5R9w779",
        "outputId": "5adb1d61-5a48-4cc4-c301-3a3f768491f4"
      },
      "execution_count": null,
      "outputs": [
        {
          "output_type": "stream",
          "name": "stdout",
          "text": [
            "<class 'set'>\n",
            "<class 'set'>\n",
            "{1, 2, 3, 4}\n",
            "{1, (1, 2, 3), 4.5, 'Hello'}\n",
            "{1, 2, 3}\n",
            "{1, 2, 3}\n"
          ]
        },
        {
          "output_type": "error",
          "ename": "TypeError",
          "evalue": "unhashable type: 'list'",
          "traceback": [
            "\u001b[0;31m---------------------------------------------------------------------------\u001b[0m",
            "\u001b[0;31mTypeError\u001b[0m                                 Traceback (most recent call last)",
            "\u001b[0;32m<ipython-input-23-554184ef15af>\u001b[0m in \u001b[0;36m<cell line: 0>\u001b[0;34m()\u001b[0m\n\u001b[1;32m     24\u001b[0m \u001b[0;34m\u001b[0m\u001b[0m\n\u001b[1;32m     25\u001b[0m \u001b[0;31m# set can't have mutable items\u001b[0m\u001b[0;34m\u001b[0m\u001b[0;34m\u001b[0m\u001b[0m\n\u001b[0;32m---> 26\u001b[0;31m \u001b[0ms6\u001b[0m \u001b[0;34m=\u001b[0m \u001b[0;34m{\u001b[0m\u001b[0;36m1\u001b[0m\u001b[0;34m,\u001b[0m\u001b[0;36m2\u001b[0m\u001b[0;34m,\u001b[0m\u001b[0;34m[\u001b[0m\u001b[0;36m1\u001b[0m\u001b[0;34m,\u001b[0m\u001b[0;36m2\u001b[0m\u001b[0;34m,\u001b[0m\u001b[0;36m3\u001b[0m\u001b[0;34m]\u001b[0m\u001b[0;34m}\u001b[0m\u001b[0;34m\u001b[0m\u001b[0;34m\u001b[0m\u001b[0m\n\u001b[0m\u001b[1;32m     27\u001b[0m \u001b[0mprint\u001b[0m\u001b[0;34m(\u001b[0m\u001b[0ms6\u001b[0m\u001b[0;34m)\u001b[0m\u001b[0;34m\u001b[0m\u001b[0;34m\u001b[0m\u001b[0m\n",
            "\u001b[0;31mTypeError\u001b[0m: unhashable type: 'list'"
          ]
        }
      ]
    },
    {
      "cell_type": "code",
      "source": [
        "s1 = {1,2,3}\n",
        "s2 = {3,2,1}\n",
        "\n",
        "print(s1 == s2)"
      ],
      "metadata": {
        "colab": {
          "base_uri": "https://localhost:8080/"
        },
        "id": "Tkxwcaiqy0kM",
        "outputId": "d3936401-8a6b-4bcc-e2fe-61977ec4e1a1"
      },
      "execution_count": null,
      "outputs": [
        {
          "output_type": "stream",
          "name": "stdout",
          "text": [
            "True\n"
          ]
        }
      ]
    },
    {
      "cell_type": "markdown",
      "source": [
        "### Acessing Items\n",
        "\n",
        "\n",
        "we cannot do indexing or slicing in set so acessing not items\n",
        "\n",
        "same as editing"
      ],
      "metadata": {
        "id": "YX5uecVLDzy5"
      }
    },
    {
      "cell_type": "code",
      "source": [],
      "metadata": {
        "id": "jkBqcdRbzvg1"
      },
      "execution_count": null,
      "outputs": []
    },
    {
      "cell_type": "markdown",
      "source": [
        "### Adding Items"
      ],
      "metadata": {
        "id": "AY1vQULeEDcT"
      }
    },
    {
      "cell_type": "code",
      "source": [
        "s = {1,2,3,4}\n",
        "\n",
        "# add\n",
        "s.add(5)\n",
        "print(s)\n",
        "\n",
        "# update\n",
        "s.update([6,7,8])\n",
        "print(s)"
      ],
      "metadata": {
        "colab": {
          "base_uri": "https://localhost:8080/"
        },
        "id": "0d20-LCwEGcn",
        "outputId": "83f53d63-5614-4e28-bf37-b9d8b91af13a"
      },
      "execution_count": null,
      "outputs": [
        {
          "output_type": "stream",
          "name": "stdout",
          "text": [
            "{1, 2, 3, 4, 5}\n",
            "{1, 2, 3, 4, 5, 6, 7, 8}\n"
          ]
        }
      ]
    },
    {
      "cell_type": "markdown",
      "source": [
        "### Deleting"
      ],
      "metadata": {
        "id": "v7aq-zyYEbRA"
      }
    },
    {
      "cell_type": "code",
      "source": [
        "# del\n",
        "s = {1,2,3,4,5}\n",
        "print(s)\n",
        "del s\n",
        "print(s)"
      ],
      "metadata": {
        "colab": {
          "base_uri": "https://localhost:8080/",
          "height": 193
        },
        "id": "8UpdMjvuENT1",
        "outputId": "893b331c-b1f0-42ad-dc2e-2688c16a246d"
      },
      "execution_count": null,
      "outputs": [
        {
          "output_type": "stream",
          "name": "stdout",
          "text": [
            "{1, 2, 3, 4, 5}\n"
          ]
        },
        {
          "output_type": "error",
          "ename": "NameError",
          "evalue": "name 's' is not defined",
          "traceback": [
            "\u001b[0;31m---------------------------------------------------------------------------\u001b[0m",
            "\u001b[0;31mNameError\u001b[0m                                 Traceback (most recent call last)",
            "\u001b[0;32m<ipython-input-27-065167881093>\u001b[0m in \u001b[0;36m<cell line: 0>\u001b[0;34m()\u001b[0m\n\u001b[1;32m      3\u001b[0m \u001b[0mprint\u001b[0m\u001b[0;34m(\u001b[0m\u001b[0ms\u001b[0m\u001b[0;34m)\u001b[0m\u001b[0;34m\u001b[0m\u001b[0;34m\u001b[0m\u001b[0m\n\u001b[1;32m      4\u001b[0m \u001b[0;32mdel\u001b[0m \u001b[0ms\u001b[0m\u001b[0;34m\u001b[0m\u001b[0;34m\u001b[0m\u001b[0m\n\u001b[0;32m----> 5\u001b[0;31m \u001b[0mprint\u001b[0m\u001b[0;34m(\u001b[0m\u001b[0ms\u001b[0m\u001b[0;34m)\u001b[0m\u001b[0;34m\u001b[0m\u001b[0;34m\u001b[0m\u001b[0m\n\u001b[0m",
            "\u001b[0;31mNameError\u001b[0m: name 's' is not defined"
          ]
        }
      ]
    },
    {
      "cell_type": "code",
      "source": [
        "# discard\n",
        "s = {1,2,3,4,5}\n",
        "print(s)\n",
        "s.discard(4)\n",
        "print(s)\n",
        "\n",
        "s.discard(8)\n",
        "print(s)"
      ],
      "metadata": {
        "colab": {
          "base_uri": "https://localhost:8080/"
        },
        "id": "dp4NfiOtEiqM",
        "outputId": "ee9a1e9b-8079-451b-b236-891ec231bac8"
      },
      "execution_count": null,
      "outputs": [
        {
          "output_type": "stream",
          "name": "stdout",
          "text": [
            "{1, 2, 3, 4, 5}\n",
            "{1, 2, 3, 5}\n",
            "{1, 2, 3, 5}\n"
          ]
        }
      ]
    },
    {
      "cell_type": "code",
      "source": [
        "# remove\n",
        "s = {1,2,3,4,5}\n",
        "print(s)\n",
        "s.remove(4)\n",
        "print(s)\n",
        "\n",
        "s.remove(8)\n",
        "print(s)"
      ],
      "metadata": {
        "colab": {
          "base_uri": "https://localhost:8080/",
          "height": 228
        },
        "id": "FjWZKATiEuJB",
        "outputId": "0a5f53ce-39c9-47ac-bad4-de8fb8e093b1"
      },
      "execution_count": null,
      "outputs": [
        {
          "output_type": "stream",
          "name": "stdout",
          "text": [
            "{1, 2, 3, 4, 5}\n",
            "{1, 2, 3, 5}\n"
          ]
        },
        {
          "output_type": "error",
          "ename": "KeyError",
          "evalue": "8",
          "traceback": [
            "\u001b[0;31m---------------------------------------------------------------------------\u001b[0m",
            "\u001b[0;31mKeyError\u001b[0m                                  Traceback (most recent call last)",
            "\u001b[0;32m<ipython-input-35-14158e48d056>\u001b[0m in \u001b[0;36m<cell line: 0>\u001b[0;34m()\u001b[0m\n\u001b[1;32m      5\u001b[0m \u001b[0mprint\u001b[0m\u001b[0;34m(\u001b[0m\u001b[0ms\u001b[0m\u001b[0;34m)\u001b[0m\u001b[0;34m\u001b[0m\u001b[0;34m\u001b[0m\u001b[0m\n\u001b[1;32m      6\u001b[0m \u001b[0;34m\u001b[0m\u001b[0m\n\u001b[0;32m----> 7\u001b[0;31m \u001b[0ms\u001b[0m\u001b[0;34m.\u001b[0m\u001b[0mremove\u001b[0m\u001b[0;34m(\u001b[0m\u001b[0;36m8\u001b[0m\u001b[0;34m)\u001b[0m\u001b[0;34m\u001b[0m\u001b[0;34m\u001b[0m\u001b[0m\n\u001b[0m\u001b[1;32m      8\u001b[0m \u001b[0mprint\u001b[0m\u001b[0;34m(\u001b[0m\u001b[0ms\u001b[0m\u001b[0;34m)\u001b[0m\u001b[0;34m\u001b[0m\u001b[0;34m\u001b[0m\u001b[0m\n",
            "\u001b[0;31mKeyError\u001b[0m: 8"
          ]
        }
      ]
    },
    {
      "cell_type": "markdown",
      "source": [
        "Discard will not throw an error when the item is not in the set but remove will throw error."
      ],
      "metadata": {
        "id": "tM0XEW2tFDKm"
      }
    },
    {
      "cell_type": "code",
      "source": [
        "# pop -- it will randomly delete any item\n",
        "s = {1,2,3,4,5}\n",
        "s.pop()\n",
        "s"
      ],
      "metadata": {
        "colab": {
          "base_uri": "https://localhost:8080/"
        },
        "id": "uxlIoA6jE4kE",
        "outputId": "186c4228-6edc-48dd-9daf-700ae84ebaf0"
      },
      "execution_count": null,
      "outputs": [
        {
          "output_type": "execute_result",
          "data": {
            "text/plain": [
              "{2, 3, 4, 5}"
            ]
          },
          "metadata": {},
          "execution_count": 38
        }
      ]
    },
    {
      "cell_type": "code",
      "source": [
        "# Clear -- will empty the set\n",
        "s = {1,2,3,4,5}\n",
        "s.clear()\n",
        "s"
      ],
      "metadata": {
        "colab": {
          "base_uri": "https://localhost:8080/"
        },
        "id": "UK7997NNFVN4",
        "outputId": "2f9a4486-8e0a-490e-89d8-84604d387b1f"
      },
      "execution_count": null,
      "outputs": [
        {
          "output_type": "execute_result",
          "data": {
            "text/plain": [
              "set()"
            ]
          },
          "metadata": {},
          "execution_count": 39
        }
      ]
    },
    {
      "cell_type": "markdown",
      "source": [
        "### Set Operations"
      ],
      "metadata": {
        "id": "Npg3Ss1OFjm2"
      }
    },
    {
      "cell_type": "code",
      "source": [
        "s1 = {1,2,3,4,5}\n",
        "s2 = {4,5,6,7,8}\n",
        "\n",
        "# Union (|)\n",
        "print(\"union of both sets is : \", s1 | s2)\n",
        "\n",
        "# Intesection (&)\n",
        "print(\"Intersection of both sets is \", s1 & s2)\n",
        "\n",
        "# Differnce\n",
        "print(\"Difference of both sets is \", s1 - s2)\n",
        "print(\"Difference of both sets is \", s2 - s1)\n",
        "\n",
        "# Symmetric Difference  -- everything excepts common elements will be print\n",
        "print(\"Symmetric Difference of both sets is \", s1 ^ s2)\n",
        "\n",
        "# Membership\n",
        "print(1 in s1)\n",
        "print(1 not in s1)"
      ],
      "metadata": {
        "colab": {
          "base_uri": "https://localhost:8080/"
        },
        "id": "e0Lk5_HmFZaB",
        "outputId": "acc34da2-052d-48a7-9973-4da86b565007"
      },
      "execution_count": null,
      "outputs": [
        {
          "output_type": "stream",
          "name": "stdout",
          "text": [
            "union of both sets is :  {1, 2, 3, 4, 5, 6, 7, 8}\n",
            "Intersection of both sets is  {4, 5}\n",
            "Difference of both sets is  {1, 2, 3}\n",
            "Difference of both sets is  {8, 6, 7}\n",
            "Symmetric Difference of both sets is  {1, 2, 3, 6, 7, 8}\n",
            "True\n",
            "False\n"
          ]
        }
      ]
    },
    {
      "cell_type": "code",
      "source": [],
      "metadata": {
        "id": "zMmJm7OIFprX"
      },
      "execution_count": null,
      "outputs": []
    },
    {
      "cell_type": "markdown",
      "source": [
        "### Set Functions"
      ],
      "metadata": {
        "id": "6OnU48XpGW8i"
      }
    },
    {
      "cell_type": "code",
      "source": [
        "s = {3,1,4,5,2,7}\n",
        "# len\n",
        "print(len(s))\n",
        "\n",
        "# min\n",
        "print(min(s))\n",
        "\n",
        "# max\n",
        "print(max(s))\n",
        "\n",
        "# sorted\n",
        "print(sorted(s))\n",
        "\n",
        "# sorted in descending order\n",
        "print(sorted(s,reverse=True))\n"
      ],
      "metadata": {
        "colab": {
          "base_uri": "https://localhost:8080/"
        },
        "id": "TQoafOhBGZBi",
        "outputId": "ae980982-950c-44b7-927e-2c1227251dae"
      },
      "execution_count": null,
      "outputs": [
        {
          "output_type": "stream",
          "name": "stdout",
          "text": [
            "6\n",
            "1\n",
            "7\n",
            "[1, 2, 3, 4, 5, 7]\n",
            "[7, 5, 4, 3, 2, 1]\n"
          ]
        }
      ]
    },
    {
      "cell_type": "code",
      "source": [],
      "metadata": {
        "id": "NWzMV6gJGoSl"
      },
      "execution_count": null,
      "outputs": []
    },
    {
      "cell_type": "markdown",
      "source": [
        "### Frozenset\n",
        "Frozen set is just an immutable version of a Python set object"
      ],
      "metadata": {
        "id": "ltvGcpPnHmiE"
      }
    },
    {
      "cell_type": "code",
      "source": [
        "fs = frozenset([1,2,3,4])\n",
        "print(fs)"
      ],
      "metadata": {
        "colab": {
          "base_uri": "https://localhost:8080/"
        },
        "id": "UzRyQXlZHmwJ",
        "outputId": "e23a0999-cd23-4963-f040-cdb9b5ba1556"
      },
      "execution_count": null,
      "outputs": [
        {
          "output_type": "stream",
          "name": "stdout",
          "text": [
            "frozenset({1, 2, 3, 4})\n"
          ]
        }
      ]
    },
    {
      "cell_type": "markdown",
      "source": [
        "### Set Comphrension"
      ],
      "metadata": {
        "id": "2xEop5qFIIrL"
      }
    },
    {
      "cell_type": "code",
      "source": [
        "s = {i**2 for i in range(1,11) if i > 5}\n",
        "print(s)\n",
        "s.add(10)\n",
        "print(s)"
      ],
      "metadata": {
        "colab": {
          "base_uri": "https://localhost:8080/"
        },
        "id": "l3FLEM1lIBj4",
        "outputId": "7472e6bb-85a8-4161-8f87-6281ee34a942"
      },
      "execution_count": null,
      "outputs": [
        {
          "output_type": "stream",
          "name": "stdout",
          "text": [
            "{64, 36, 100, 49, 81}\n",
            "{64, 36, 100, 10, 49, 81}\n"
          ]
        }
      ]
    },
    {
      "cell_type": "code",
      "source": [],
      "metadata": {
        "id": "gArPuxn_It6h"
      },
      "execution_count": null,
      "outputs": []
    },
    {
      "cell_type": "markdown",
      "source": [
        "# Dictionary\n",
        "\n",
        "Dictionary in Python is a collection of keys values, used to store data values like a map, which, unlike other data types which hold only a single value as an element.\n",
        "\n",
        "In some languages it is known as map or assosiative arrays.\n",
        "\n",
        "dict = { 'name' : 'nitish' , 'age' : 33 , 'gender' : 'male' }\n",
        "\n",
        "Characterstics:\n",
        "\n",
        "- Mutable\n",
        "- Indexing has no meaning\n",
        "- keys can't be duplicated\n",
        "- keys can't be mutable items"
      ],
      "metadata": {
        "id": "4Lv0fgnGIoi_"
      }
    },
    {
      "cell_type": "markdown",
      "source": [
        "### Creating Dictionary"
      ],
      "metadata": {
        "id": "w0id1kyrJ07_"
      }
    },
    {
      "cell_type": "code",
      "source": [
        "# empty dictionary\n",
        "d = {}\n",
        "print(d)\n",
        "\n",
        "# 1D Dictionary\n",
        "d1 = {'Name':'Kamil'}\n",
        "print(d1)\n",
        "\n",
        "# Mix keys\n",
        "d2 = {(1,2,3):2, 'hello':'world'}\n",
        "print(d2)\n",
        "\n",
        "# 2D Dictionary\n",
        "s = {\n",
        "    'Name':'Kamil',\n",
        "    'College':'GSU',\n",
        "    'sem':'01',\n",
        "    'subjects':{\n",
        "        'dsa':50,\n",
        "        'ML':90\n",
        "    }\n",
        "}\n",
        "print(s)\n",
        "\n",
        "# Using sequence and dict function -- by passing lists of tuples\n",
        "d4 = dict([('Name','Kamil'),('College','GSU')])\n",
        "print(d4)\n",
        "\n",
        "\n",
        "# Duplicate Keys\n",
        "d5 = {'Name':'Kamil','Name':'Kamil'}\n",
        "print(d5)\n",
        "\n",
        "# Mutable items as keys"
      ],
      "metadata": {
        "colab": {
          "base_uri": "https://localhost:8080/"
        },
        "id": "hNVVynOpIZaM",
        "outputId": "14f67c87-0c66-4cb4-cf92-708eafe682a9"
      },
      "execution_count": null,
      "outputs": [
        {
          "output_type": "stream",
          "name": "stdout",
          "text": [
            "{}\n",
            "{'Name': 'Kamil'}\n",
            "{(1, 2, 3): 2, 'hello': 'world'}\n",
            "{'Name': 'Kamil', 'College': 'GSU', 'sem': '01', 'subjects': {'dsa': 50, 'ML': 90}}\n",
            "{'Name': 'Kamil', 'College': 'GSU'}\n",
            "{'Name': 'Kamil'}\n"
          ]
        }
      ]
    },
    {
      "cell_type": "code",
      "source": [],
      "metadata": {
        "id": "P9f4gvvQKDmm"
      },
      "execution_count": null,
      "outputs": []
    },
    {
      "cell_type": "markdown",
      "source": [
        "### Accessing items"
      ],
      "metadata": {
        "id": "JIonLBSoMBUW"
      }
    },
    {
      "cell_type": "code",
      "source": [
        "my_dict = {'name':'jack', 'age':'26'}\n",
        "\n",
        "# [] -- by passing keys\n",
        "print(my_dict['name'])\n",
        "\n",
        "# get\n",
        "print(my_dict.get('name'))"
      ],
      "metadata": {
        "colab": {
          "base_uri": "https://localhost:8080/"
        },
        "id": "-0V95URdMDdW",
        "outputId": "93238018-7cbd-462e-f674-e492d4aeafc4"
      },
      "execution_count": null,
      "outputs": [
        {
          "output_type": "stream",
          "name": "stdout",
          "text": [
            "jack\n",
            "jack\n"
          ]
        }
      ]
    },
    {
      "cell_type": "markdown",
      "source": [
        "### Adding key-value pair"
      ],
      "metadata": {
        "id": "YPb_0QaaMbOx"
      }
    },
    {
      "cell_type": "code",
      "source": [
        "print(d4)\n",
        "d4['gener'] = 'male'\n",
        "print(d4)\n",
        "\n"
      ],
      "metadata": {
        "colab": {
          "base_uri": "https://localhost:8080/"
        },
        "id": "znCI6TyKMMSU",
        "outputId": "f5ce9af3-3cc8-435f-be7f-004e1165cc13"
      },
      "execution_count": null,
      "outputs": [
        {
          "output_type": "stream",
          "name": "stdout",
          "text": [
            "{'Name': 'Kamil', 'College': 'GSU'}\n",
            "{'Name': 'Kamil', 'College': 'GSU', 'gener': 'male'}\n"
          ]
        }
      ]
    },
    {
      "cell_type": "markdown",
      "source": [
        "### Remove key-value pair"
      ],
      "metadata": {
        "id": "I-40NE-LMtyn"
      }
    },
    {
      "cell_type": "code",
      "source": [
        "d = {'Name': 'Kamil', 'College': 'GSU', 'gener': 'male'}\n",
        "# pop\n",
        "d.pop('Name')\n",
        "print(d)\n"
      ],
      "metadata": {
        "colab": {
          "base_uri": "https://localhost:8080/"
        },
        "id": "HLFCZm7EMicz",
        "outputId": "98ad2d78-6769-490a-e73b-ff1b4171a81c"
      },
      "execution_count": null,
      "outputs": [
        {
          "output_type": "stream",
          "name": "stdout",
          "text": [
            "{'College': 'GSU', 'gener': 'male'}\n"
          ]
        }
      ]
    },
    {
      "cell_type": "code",
      "source": [
        "# popitem -- it will delete last item of the dictionary\n",
        "d = {'Name': 'Kamil', 'College': 'GSU', 'gener': 'male'}\n",
        "d.popitem()\n",
        "print(d)"
      ],
      "metadata": {
        "colab": {
          "base_uri": "https://localhost:8080/"
        },
        "id": "BUSZNYJRNBSU",
        "outputId": "64b60be5-4cde-4964-e3a2-bd506412629b"
      },
      "execution_count": null,
      "outputs": [
        {
          "output_type": "stream",
          "name": "stdout",
          "text": [
            "{'Name': 'Kamil', 'College': 'GSU'}\n"
          ]
        }
      ]
    },
    {
      "cell_type": "code",
      "source": [
        "# del\n",
        "d = {'Name': 'Kamil', 'College': 'GSU', 'gener': 'male'}\n",
        "del d['Name']\n",
        "print(d)\n",
        "\n",
        "del d\n",
        "print(d)"
      ],
      "metadata": {
        "colab": {
          "base_uri": "https://localhost:8080/",
          "height": 193
        },
        "id": "QAkIxNo2NMvY",
        "outputId": "e90c435d-22ed-448f-e5bd-e2d7cf45979f"
      },
      "execution_count": null,
      "outputs": [
        {
          "output_type": "stream",
          "name": "stdout",
          "text": [
            "{'College': 'GSU', 'gener': 'male'}\n"
          ]
        },
        {
          "output_type": "error",
          "ename": "NameError",
          "evalue": "name 'd' is not defined",
          "traceback": [
            "\u001b[0;31m---------------------------------------------------------------------------\u001b[0m",
            "\u001b[0;31mNameError\u001b[0m                                 Traceback (most recent call last)",
            "\u001b[0;32m<ipython-input-64-1c40819d879a>\u001b[0m in \u001b[0;36m<cell line: 0>\u001b[0;34m()\u001b[0m\n\u001b[1;32m      5\u001b[0m \u001b[0;34m\u001b[0m\u001b[0m\n\u001b[1;32m      6\u001b[0m \u001b[0;32mdel\u001b[0m \u001b[0md\u001b[0m\u001b[0;34m\u001b[0m\u001b[0;34m\u001b[0m\u001b[0m\n\u001b[0;32m----> 7\u001b[0;31m \u001b[0mprint\u001b[0m\u001b[0;34m(\u001b[0m\u001b[0md\u001b[0m\u001b[0;34m)\u001b[0m\u001b[0;34m\u001b[0m\u001b[0;34m\u001b[0m\u001b[0m\n\u001b[0m",
            "\u001b[0;31mNameError\u001b[0m: name 'd' is not defined"
          ]
        }
      ]
    },
    {
      "cell_type": "code",
      "source": [
        "d = {'Name': 'Kamil', 'College': 'GSU', 'gener': 'male'}\n",
        "d.clear()\n",
        "d"
      ],
      "metadata": {
        "colab": {
          "base_uri": "https://localhost:8080/"
        },
        "id": "HU0faYZWNXg7",
        "outputId": "2545ada3-9b11-450a-c27c-a0a1132d6ce0"
      },
      "execution_count": null,
      "outputs": [
        {
          "output_type": "execute_result",
          "data": {
            "text/plain": [
              "{}"
            ]
          },
          "metadata": {},
          "execution_count": 66
        }
      ]
    },
    {
      "cell_type": "markdown",
      "source": [
        "### Editing key value pairs"
      ],
      "metadata": {
        "id": "siBuTVwyQVOp"
      }
    },
    {
      "cell_type": "code",
      "source": [
        "s['sem'] = 2\n",
        "s"
      ],
      "metadata": {
        "colab": {
          "base_uri": "https://localhost:8080/"
        },
        "id": "PBLnh-9_Nd2V",
        "outputId": "7edf11f1-4f51-43ab-a2fc-d8330c7986bc"
      },
      "execution_count": null,
      "outputs": [
        {
          "output_type": "execute_result",
          "data": {
            "text/plain": [
              "{'Name': 'Kamil',\n",
              " 'College': 'GSU',\n",
              " 'sem': 2,\n",
              " 'subjects': {'dsa': 50, 'ML': 90}}"
            ]
          },
          "metadata": {},
          "execution_count": 68
        }
      ]
    },
    {
      "cell_type": "markdown",
      "source": [
        "### Dictionary Operations\n",
        "- Memebership\n",
        "- Iteration"
      ],
      "metadata": {
        "id": "s7O46aMeQhRd"
      }
    },
    {
      "cell_type": "code",
      "source": [
        "print(s)\n",
        "\n",
        "# Membership is working on keys\n",
        "print('Name' in s)"
      ],
      "metadata": {
        "colab": {
          "base_uri": "https://localhost:8080/"
        },
        "id": "DTCWrRREQZYm",
        "outputId": "7f8a45e2-2810-433f-d0cc-c34887b458b0"
      },
      "execution_count": null,
      "outputs": [
        {
          "output_type": "stream",
          "name": "stdout",
          "text": [
            "{'Name': 'Kamil', 'College': 'GSU', 'sem': 2, 'subjects': {'dsa': 50, 'ML': 90}}\n",
            "True\n"
          ]
        }
      ]
    },
    {
      "cell_type": "code",
      "source": [
        "d = {'name':'jack', 'gender':'male','age':23}\n",
        "\n",
        "for i in d:\n",
        "  print(i, d[i])"
      ],
      "metadata": {
        "colab": {
          "base_uri": "https://localhost:8080/"
        },
        "id": "IKYqBWXPQ1Fr",
        "outputId": "42f74721-39ae-4fb1-a2fe-8323f1a36f7e"
      },
      "execution_count": null,
      "outputs": [
        {
          "output_type": "stream",
          "name": "stdout",
          "text": [
            "name jack\n",
            "gender male\n",
            "age 23\n"
          ]
        }
      ]
    },
    {
      "cell_type": "markdown",
      "source": [
        "### Dictionary Functions\n"
      ],
      "metadata": {
        "id": "eqMKo5z2RRXE"
      }
    },
    {
      "cell_type": "code",
      "source": [
        "print(d)\n",
        "len(d)"
      ],
      "metadata": {
        "colab": {
          "base_uri": "https://localhost:8080/"
        },
        "id": "AptrAPd4RKsS",
        "outputId": "fa908d52-5355-4f6d-d318-cc3ea7daf89b"
      },
      "execution_count": null,
      "outputs": [
        {
          "output_type": "stream",
          "name": "stdout",
          "text": [
            "{'name': 'jack', 'gender': 'male', 'age': 23}\n"
          ]
        },
        {
          "output_type": "execute_result",
          "data": {
            "text/plain": [
              "3"
            ]
          },
          "metadata": {},
          "execution_count": 77
        }
      ]
    },
    {
      "cell_type": "code",
      "source": [
        "# sorted will sort all keys\n",
        "sorted(d,reverse=True)"
      ],
      "metadata": {
        "colab": {
          "base_uri": "https://localhost:8080/"
        },
        "id": "A0X_cQXzRZS-",
        "outputId": "6eed7439-07a0-4a17-aa05-79472b966afb"
      },
      "execution_count": null,
      "outputs": [
        {
          "output_type": "execute_result",
          "data": {
            "text/plain": [
              "['name', 'gender', 'age']"
            ]
          },
          "metadata": {},
          "execution_count": 81
        }
      ]
    },
    {
      "cell_type": "code",
      "source": [
        "# items/keys/values\n",
        "print(d)\n",
        "\n",
        "print(d.items())  # will print all the key value pairs in tuples with in a list\n",
        "print(d.keys())\n",
        "print(d.values())"
      ],
      "metadata": {
        "colab": {
          "base_uri": "https://localhost:8080/"
        },
        "id": "d7Ww8qcqRfGa",
        "outputId": "bc289174-dbda-4360-8fb4-4c97bee785b7"
      },
      "execution_count": null,
      "outputs": [
        {
          "output_type": "stream",
          "name": "stdout",
          "text": [
            "{'name': 'jack', 'gender': 'male', 'age': 23}\n",
            "dict_items([('name', 'jack'), ('gender', 'male'), ('age', 23)])\n",
            "dict_keys(['name', 'gender', 'age'])\n",
            "dict_values(['jack', 'male', 23])\n"
          ]
        }
      ]
    },
    {
      "cell_type": "code",
      "source": [
        "# update\n"
      ],
      "metadata": {
        "id": "ZYec-hC-RtlS"
      },
      "execution_count": null,
      "outputs": []
    },
    {
      "cell_type": "markdown",
      "source": [
        "### Dicitionary Comphrension\n",
        "\n",
        "**`{ key : value  for vars in iterable }`**"
      ],
      "metadata": {
        "id": "Mcy8NiPXSG_3"
      }
    },
    {
      "cell_type": "code",
      "source": [
        "# print first 10 numbers and their squares\n",
        "{i : i**2 for i in range(1,11)}"
      ],
      "metadata": {
        "colab": {
          "base_uri": "https://localhost:8080/"
        },
        "id": "YrOQP9HySP1y",
        "outputId": "6a4411f7-e787-44cf-858c-939450d23088"
      },
      "execution_count": null,
      "outputs": [
        {
          "output_type": "execute_result",
          "data": {
            "text/plain": [
              "{1: 1, 2: 4, 3: 9, 4: 16, 5: 25, 6: 36, 7: 49, 8: 64, 9: 81, 10: 100}"
            ]
          },
          "metadata": {},
          "execution_count": 87
        }
      ]
    },
    {
      "cell_type": "code",
      "source": [
        "# Using existing dictionary\n",
        "distances = {'delhi':1000,'mumbai':2000,'bangalore':3000}\n",
        "{key:value*0.62 for (key,value) in distances.items()}"
      ],
      "metadata": {
        "colab": {
          "base_uri": "https://localhost:8080/"
        },
        "id": "uoAKDW30SiXD",
        "outputId": "5e5fe1e1-a9dd-426c-d5ef-d5f8393c801b"
      },
      "execution_count": null,
      "outputs": [
        {
          "output_type": "execute_result",
          "data": {
            "text/plain": [
              "{'delhi': 620.0, 'mumbai': 1240.0, 'bangalore': 1860.0}"
            ]
          },
          "metadata": {},
          "execution_count": 89
        }
      ]
    },
    {
      "cell_type": "code",
      "source": [
        "# using zip\n",
        "days = [\"Sunday\", \"Monday\",\"Tuesday\",\"Wednesday\",\"Thursday\",\"Friday\",\"Saturday\"]\n",
        "temp_C = [30.5,32.6,31.8,33.4,29.8,30.2,29.9]\n",
        "\n",
        "{i:j for (i,j) in zip(days,temp_C)}"
      ],
      "metadata": {
        "colab": {
          "base_uri": "https://localhost:8080/"
        },
        "id": "zAkPmpT9TPzx",
        "outputId": "1ee86106-cb89-418e-9ad6-7a1146d80415"
      },
      "execution_count": null,
      "outputs": [
        {
          "output_type": "execute_result",
          "data": {
            "text/plain": [
              "{'Sunday': 30.5,\n",
              " 'Monday': 32.6,\n",
              " 'Tuesday': 31.8,\n",
              " 'Wednesday': 33.4,\n",
              " 'Thursday': 29.8,\n",
              " 'Friday': 30.2,\n",
              " 'Saturday': 29.9}"
            ]
          },
          "metadata": {},
          "execution_count": 90
        }
      ]
    },
    {
      "cell_type": "code",
      "source": [
        "# using if condition\n",
        "products = {'phone':10,'laptop':0,'charger':32,'tablet':0}\n",
        "\n",
        "s = {key:value for (key,value) in products.items() if value > 0}\n",
        "print(s)\n"
      ],
      "metadata": {
        "colab": {
          "base_uri": "https://localhost:8080/"
        },
        "id": "NAY64LV8TufK",
        "outputId": "e821099c-f2ec-4e56-85c8-3353221b6920"
      },
      "execution_count": null,
      "outputs": [
        {
          "output_type": "stream",
          "name": "stdout",
          "text": [
            "{'phone': 10, 'charger': 32}\n"
          ]
        }
      ]
    },
    {
      "cell_type": "code",
      "source": [
        "# Nested Comprehension\n",
        "# print tables of number from 2 to 4\n",
        "\n",
        "{i:{j:i*j for j in range(0,10)} for i in range(2,5)}"
      ],
      "metadata": {
        "colab": {
          "base_uri": "https://localhost:8080/"
        },
        "id": "nDgn6IHjUG1I",
        "outputId": "3a013978-2615-4615-cee8-4ba3401d2e9e"
      },
      "execution_count": null,
      "outputs": [
        {
          "output_type": "execute_result",
          "data": {
            "text/plain": [
              "{2: {0: 0, 1: 2, 2: 4, 3: 6, 4: 8, 5: 10, 6: 12, 7: 14, 8: 16, 9: 18},\n",
              " 3: {0: 0, 1: 3, 2: 6, 3: 9, 4: 12, 5: 15, 6: 18, 7: 21, 8: 24, 9: 27},\n",
              " 4: {0: 0, 1: 4, 2: 8, 3: 12, 4: 16, 5: 20, 6: 24, 7: 28, 8: 32, 9: 36}}"
            ]
          },
          "metadata": {},
          "execution_count": 98
        }
      ]
    },
    {
      "cell_type": "code",
      "source": [],
      "metadata": {
        "id": "Z0hW5fjwU19i"
      },
      "execution_count": null,
      "outputs": []
    }
  ]
}